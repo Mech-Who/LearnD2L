{
 "cells": [
  {
   "cell_type": "markdown",
   "source": [
    "## 小结\n",
    "\n",
    "- 在许多情况下，训练集和测试集并不来自同一个分布。这就是所谓的分布偏移。\n",
    "\n",
    "- 真实风险是从真实分布中抽取的所有数据的总体损失的预期。然而，这个数据总体通常是无法获得的。经验风险是训练数据的平均损失，用于近似真实风险。在实践中，我们进行经验风险最小化。\n",
    "\n",
    "- 在相应的假设条件下，可以在测试时检测并纠正协变量偏移和标签偏移。在测试时，不考虑这种偏移可能会成为问题。\n",
    "\n",
    "- 在某些情况下，环境可能会记住自动操作并以令人惊讶的方式做出响应。在构建模型时，我们必须考虑到这种可能性，并继续监控实时系统，并对我们的模型和环境以意想不到的方式纠缠在一起的可能性持开放态度。"
   ],
   "metadata": {
    "collapsed": false
   },
   "id": "e683305ae0d72adb"
  },
  {
   "cell_type": "markdown",
   "source": [
    "## 练习\n",
    "\n",
    "1. 当我们改变搜索引擎的行为时会发生什么？用户可能会做什么？广告商呢？\n",
    "\n",
    "2. 实现一个协变量偏移检测器。提示：构建一个分类器。\n",
    "\n",
    "3. 实现协变量偏移纠正。\n",
    "\n",
    "4. 除了分布偏移，还有什么会影响经验风险接近真实风险的程度？"
   ],
   "metadata": {
    "collapsed": false
   },
   "id": "6e211d603e461342"
  }
 ],
 "metadata": {
  "kernelspec": {
   "display_name": "Python 3",
   "language": "python",
   "name": "python3"
  },
  "language_info": {
   "codemirror_mode": {
    "name": "ipython",
    "version": 2
   },
   "file_extension": ".py",
   "mimetype": "text/x-python",
   "name": "python",
   "nbconvert_exporter": "python",
   "pygments_lexer": "ipython2",
   "version": "2.7.6"
  }
 },
 "nbformat": 4,
 "nbformat_minor": 5
}
