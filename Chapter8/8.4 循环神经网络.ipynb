{
 "cells": [
  {
   "cell_type": "markdown",
   "metadata": {},
   "source": [
    "## 有隐状态的循环神经网络"
   ]
  },
  {
   "cell_type": "code",
   "execution_count": 1,
   "metadata": {},
   "outputs": [
    {
     "data": {
      "text/plain": [
       "tensor([[-2.7488, -1.0461,  0.2442, -0.9959],\n",
       "        [ 0.2095,  0.4253, -0.0548,  1.3624],\n",
       "        [ 4.0804,  0.7878,  0.4730,  1.8677]])"
      ]
     },
     "execution_count": 1,
     "metadata": {},
     "output_type": "execute_result"
    }
   ],
   "source": [
    "import torch\n",
    "from d2l import torch as d2l\n",
    "\n",
    "X, W_xh = torch.normal(0, 1, (3, 1)), torch.normal(0, 1, (1, 4))\n",
    "H, W_hh = torch.normal(0, 1, (3, 4)), torch.normal(0, 1, (4, 4))\n",
    "torch.matmul(X, W_xh) + torch.matmul(H, W_hh)"
   ]
  },
  {
   "cell_type": "code",
   "execution_count": 2,
   "metadata": {},
   "outputs": [
    {
     "data": {
      "text/plain": [
       "tensor([[-2.7488, -1.0461,  0.2442, -0.9959],\n",
       "        [ 0.2095,  0.4253, -0.0548,  1.3624],\n",
       "        [ 4.0804,  0.7878,  0.4730,  1.8677]])"
      ]
     },
     "execution_count": 2,
     "metadata": {},
     "output_type": "execute_result"
    }
   ],
   "source": [
    "torch.matmul(torch.cat((X, H), 1), torch.cat((W_xh, W_hh), 0))"
   ]
  },
  {
   "cell_type": "markdown",
   "metadata": {},
   "source": [
    "## 小结\n",
    "\n",
    "- 对隐状态使用循环计算的神经网络称为循环神经网络（RNN）。\n",
    "- 循环神经网络的隐状态可以捕获直到当前时间步序列的历史信息。\n",
    "- 循环神经网络模型的参数数量不会随着时间步的增加而增加。\n",
    "- 我们可以使用循环神经网络创建字符级语言模型。\n",
    "- 我们可以使用困惑度来评价语言模型的质量。\n",
    "\n",
    "## 练习\n",
    "\n",
    "1. 如果我们使用循环神经网络来预测文本序列中的下一个字符，那么任意输出所需的维度是多少？\n",
    "2. 为什么循环神经网络可以基于文本序列中所有先前的词元，在某个时间步表示当前词元的条件概率？\n",
    "3. 如果基于一个长序列进行反向传播，梯度会发生什么状况？\n",
    "4. 与本节中描述的语言模型相关的问题有哪些？"
   ]
  },
  {
   "cell_type": "markdown",
   "metadata": {},
   "source": []
  }
 ],
 "metadata": {
  "kernelspec": {
   "display_name": "d2l",
   "language": "python",
   "name": "python3"
  },
  "language_info": {
   "codemirror_mode": {
    "name": "ipython",
    "version": 3
   },
   "file_extension": ".py",
   "mimetype": "text/x-python",
   "name": "python",
   "nbconvert_exporter": "python",
   "pygments_lexer": "ipython3",
   "version": "3.7.5"
  }
 },
 "nbformat": 4,
 "nbformat_minor": 2
}
