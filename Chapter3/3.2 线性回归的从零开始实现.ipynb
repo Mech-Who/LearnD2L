{
 "cells": [
  {
   "cell_type": "markdown",
   "source": [
    "在了解线性回归的关键思想之后，我们可以开始通过代码来动手实现线性回归了。 在这一节中，我们将从零开始实现整个方法， 包括数据流水线、模型、损失函数和小批量随机梯度下降优化器。 虽然现代的深度学习框架几乎可以自动化地进行所有这些工作，但从零开始实现可以确保我们真正知道自己在做什么。 同时，了解更细致的工作原理将方便我们自定义模型、自定义层或自定义损失函数。 在这一节中，我们将只使用张量和自动求导。 在之后的章节中，我们会充分利用深度学习框架的优势，介绍更简洁的实现方式。"
   ],
   "metadata": {
    "collapsed": false
   },
   "id": "735b98e088de0b40"
  },
  {
   "cell_type": "code",
   "execution_count": 1,
   "outputs": [],
   "source": [
    "%matplotlib inline\n",
    "import random\n",
    "import torch\n",
    "from d2l import torch as d2l"
   ],
   "metadata": {
    "collapsed": false,
    "ExecuteTime": {
     "end_time": "2023-09-20T08:14:54.951299300Z",
     "start_time": "2023-09-20T08:14:47.065878Z"
    }
   },
   "id": "25f77cd6a7bd9985"
  },
  {
   "cell_type": "markdown",
   "source": [
    "## 生成数据集\n",
    "为了简单起见，我们将根据带有噪声的线性模型构造一个人造数据集。 我们的任务是使用这个有限样本的数据集来恢复这个模型的参数。 我们将使用低维数据，这样可以很容易地将其可视化。 在下面的代码中，我们生成一个包含1000个样本的数据集， 每个样本包含从标准正态分布中采样的2个特征。 我们的合成数据集是一个矩阵$X\\in \\mathbb{R}^{1000 \\times 2}$。\n",
    "\n",
    "我们使用线性模型参数$w=[2, -3.4]\\top$、$b=4.2$和噪声项$\\epsilon$生成数据集及其标签：\n",
    "\n",
    "$$\n",
    "y=Xw+b+\\epsilon\n",
    "$$\n",
    "\n",
    "$\\epsilon$可以视为模型预测和标签时的潜在观测误差。 在这里我们认为标准假设成立，即$\\epsilon$服从均值为0的正态分布。 为了简化问题，我们将标准差设为0.01。 下面的代码生成合成数据集。"
   ],
   "metadata": {
    "collapsed": false
   },
   "id": "67205f3598e0d239"
  },
  {
   "cell_type": "code",
   "execution_count": 7,
   "outputs": [
    {
     "data": {
      "text/plain": "(torch.Size([1000, 2]), torch.Size([1000, 1]))"
     },
     "execution_count": 7,
     "metadata": {},
     "output_type": "execute_result"
    }
   ],
   "source": [
    "def synthetic_data(w, b, num_examples): #@save\n",
    "    \"\"\"generate y=Xw+b+noise\"\"\"\n",
    "    X = torch.normal(0, 1, (num_examples, len(w)))\n",
    "    y = torch.matmul(X, w) + b\n",
    "    y += torch.normal(0, 0.01, y.shape)\n",
    "    return X, y.reshape((-1, 1))\n",
    "\n",
    "true_w = torch.tensor([2, -3.4])\n",
    "true_b = 4.2\n",
    "features, labels = synthetic_data(true_w, true_b, 1000)\n",
    "features.shape, labels.shape"
   ],
   "metadata": {
    "collapsed": false,
    "ExecuteTime": {
     "end_time": "2023-09-20T08:23:08.753279200Z",
     "start_time": "2023-09-20T08:23:08.702908500Z"
    }
   },
   "id": "23a10ad069f1c11c"
  },
  {
   "cell_type": "markdown",
   "source": [
    "注意，features中的每一行都包含一个二维数据样本， labels中的每一行都包含一维标签值（一个标量）。"
   ],
   "metadata": {
    "collapsed": false
   },
   "id": "107b1cb050dba6a2"
  },
  {
   "cell_type": "code",
   "execution_count": 6,
   "outputs": [
    {
     "name": "stdout",
     "output_type": "stream",
     "text": [
      "features: tensor([-0.9773,  0.8475]) \n",
      "label: tensor([-0.6357])\n"
     ]
    }
   ],
   "source": [
    "print('features:', features[0], '\\nlabel:', labels[0])"
   ],
   "metadata": {
    "collapsed": false,
    "ExecuteTime": {
     "end_time": "2023-09-20T08:21:21.227924600Z",
     "start_time": "2023-09-20T08:21:21.214959Z"
    }
   },
   "id": "b9d6d3a4bb3fddf0"
  },
  {
   "cell_type": "markdown",
   "source": [
    "通过生成第二个特征features[:, 1]和labels的散点图， 可以直观观察到两者之间的线性关系。"
   ],
   "metadata": {
    "collapsed": false
   },
   "id": "19b63690d686108"
  },
  {
   "cell_type": "code",
   "execution_count": 8,
   "outputs": [
    {
     "data": {
      "text/plain": "<matplotlib.collections.PathCollection at 0x13ba3acddf0>"
     },
     "execution_count": 8,
     "metadata": {},
     "output_type": "execute_result"
    },
    {
     "data": {
      "text/plain": "<Figure size 350x250 with 1 Axes>",
      "image/svg+xml": "<?xml version=\"1.0\" encoding=\"utf-8\" standalone=\"no\"?>\n<!DOCTYPE svg PUBLIC \"-//W3C//DTD SVG 1.1//EN\"\n  \"http://www.w3.org/Graphics/SVG/1.1/DTD/svg11.dtd\">\n<svg xmlns:xlink=\"http://www.w3.org/1999/xlink\" width=\"231.442187pt\" height=\"169.678125pt\" viewBox=\"0 0 231.442187 169.678125\" xmlns=\"http://www.w3.org/2000/svg\" version=\"1.1\">\n <metadata>\n  <rdf:RDF xmlns:dc=\"http://purl.org/dc/elements/1.1/\" xmlns:cc=\"http://creativecommons.org/ns#\" xmlns:rdf=\"http://www.w3.org/1999/02/22-rdf-syntax-ns#\">\n   <cc:Work>\n    <dc:type rdf:resource=\"http://purl.org/dc/dcmitype/StillImage\"/>\n    <dc:date>2023-09-20T16:24:26.618064</dc:date>\n    <dc:format>image/svg+xml</dc:format>\n    <dc:creator>\n     <cc:Agent>\n      <dc:title>Matplotlib v3.7.2, https://matplotlib.org/</dc:title>\n     </cc:Agent>\n    </dc:creator>\n   </cc:Work>\n  </rdf:RDF>\n </metadata>\n <defs>\n  <style type=\"text/css\">*{stroke-linejoin: round; stroke-linecap: butt}</style>\n </defs>\n <g id=\"figure_1\">\n  <g id=\"patch_1\">\n   <path d=\"M 0 169.678125 \nL 231.442187 169.678125 \nL 231.442187 0 \nL 0 0 \nz\n\" style=\"fill: #ffffff\"/>\n  </g>\n  <g id=\"axes_1\">\n   <g id=\"patch_2\">\n    <path d=\"M 28.942188 145.8 \nL 224.242188 145.8 \nL 224.242188 7.2 \nL 28.942188 7.2 \nz\n\" style=\"fill: #ffffff\"/>\n   </g>\n   <g id=\"PathCollection_1\">\n    <defs>\n     <path id=\"ma9f0df5ace\" d=\"M 0 0.5 \nC 0.132602 0.5 0.25979 0.447317 0.353553 0.353553 \nC 0.447317 0.25979 0.5 0.132602 0.5 0 \nC 0.5 -0.132602 0.447317 -0.25979 0.353553 -0.353553 \nC 0.25979 -0.447317 0.132602 -0.5 0 -0.5 \nC -0.132602 -0.5 -0.25979 -0.447317 -0.353553 -0.353553 \nC -0.447317 -0.25979 -0.5 -0.132602 -0.5 0 \nC -0.5 0.132602 -0.447317 0.25979 -0.353553 0.353553 \nC -0.25979 0.447317 -0.132602 0.5 0 0.5 \nz\n\" style=\"stroke: #1f77b4\"/>\n    </defs>\n    <g clip-path=\"url(#p826ec03b1d)\">\n     <use xlink:href=\"#ma9f0df5ace\" x=\"129.005204\" y=\"72.389626\" style=\"fill: #1f77b4; stroke: #1f77b4\"/>\n     <use xlink:href=\"#ma9f0df5ace\" x=\"159.279785\" y=\"86.251385\" style=\"fill: #1f77b4; stroke: #1f77b4\"/>\n     <use xlink:href=\"#ma9f0df5ace\" x=\"102.627554\" y=\"70.118156\" style=\"fill: #1f77b4; stroke: #1f77b4\"/>\n     <use xlink:href=\"#ma9f0df5ace\" x=\"150.75964\" y=\"88.368784\" style=\"fill: #1f77b4; stroke: #1f77b4\"/>\n     <use xlink:href=\"#ma9f0df5ace\" x=\"95.311438\" y=\"63.146556\" style=\"fill: #1f77b4; stroke: #1f77b4\"/>\n     <use xlink:href=\"#ma9f0df5ace\" x=\"129.759913\" y=\"72.647899\" style=\"fill: #1f77b4; stroke: #1f77b4\"/>\n     <use xlink:href=\"#ma9f0df5ace\" x=\"144.320425\" y=\"89.889729\" style=\"fill: #1f77b4; stroke: #1f77b4\"/>\n     <use xlink:href=\"#ma9f0df5ace\" x=\"133.093574\" y=\"75.16514\" style=\"fill: #1f77b4; stroke: #1f77b4\"/>\n     <use xlink:href=\"#ma9f0df5ace\" x=\"131.568001\" y=\"92.514482\" style=\"fill: #1f77b4; stroke: #1f77b4\"/>\n     <use xlink:href=\"#ma9f0df5ace\" x=\"107.834251\" y=\"83.998749\" style=\"fill: #1f77b4; stroke: #1f77b4\"/>\n     <use xlink:href=\"#ma9f0df5ace\" x=\"127.746097\" y=\"80.66197\" style=\"fill: #1f77b4; stroke: #1f77b4\"/>\n     <use xlink:href=\"#ma9f0df5ace\" x=\"97.133249\" y=\"40.331468\" style=\"fill: #1f77b4; stroke: #1f77b4\"/>\n     <use xlink:href=\"#ma9f0df5ace\" x=\"120.154354\" y=\"75.926945\" style=\"fill: #1f77b4; stroke: #1f77b4\"/>\n     <use xlink:href=\"#ma9f0df5ace\" x=\"139.982564\" y=\"95.446793\" style=\"fill: #1f77b4; stroke: #1f77b4\"/>\n     <use xlink:href=\"#ma9f0df5ace\" x=\"127.416185\" y=\"80.114069\" style=\"fill: #1f77b4; stroke: #1f77b4\"/>\n     <use xlink:href=\"#ma9f0df5ace\" x=\"132.968543\" y=\"93.273938\" style=\"fill: #1f77b4; stroke: #1f77b4\"/>\n     <use xlink:href=\"#ma9f0df5ace\" x=\"135.865159\" y=\"86.27053\" style=\"fill: #1f77b4; stroke: #1f77b4\"/>\n     <use xlink:href=\"#ma9f0df5ace\" x=\"109.296794\" y=\"60.495562\" style=\"fill: #1f77b4; stroke: #1f77b4\"/>\n     <use xlink:href=\"#ma9f0df5ace\" x=\"139.254528\" y=\"77.663939\" style=\"fill: #1f77b4; stroke: #1f77b4\"/>\n     <use xlink:href=\"#ma9f0df5ace\" x=\"186.234175\" y=\"109.832218\" style=\"fill: #1f77b4; stroke: #1f77b4\"/>\n     <use xlink:href=\"#ma9f0df5ace\" x=\"112.176794\" y=\"71.071269\" style=\"fill: #1f77b4; stroke: #1f77b4\"/>\n     <use xlink:href=\"#ma9f0df5ace\" x=\"127.104409\" y=\"70.517323\" style=\"fill: #1f77b4; stroke: #1f77b4\"/>\n     <use xlink:href=\"#ma9f0df5ace\" x=\"98.052322\" y=\"55.901403\" style=\"fill: #1f77b4; stroke: #1f77b4\"/>\n     <use xlink:href=\"#ma9f0df5ace\" x=\"108.538801\" y=\"55.26733\" style=\"fill: #1f77b4; stroke: #1f77b4\"/>\n     <use xlink:href=\"#ma9f0df5ace\" x=\"92.698686\" y=\"53.92422\" style=\"fill: #1f77b4; stroke: #1f77b4\"/>\n     <use xlink:href=\"#ma9f0df5ace\" x=\"111.481332\" y=\"63.153742\" style=\"fill: #1f77b4; stroke: #1f77b4\"/>\n     <use xlink:href=\"#ma9f0df5ace\" x=\"148.369882\" y=\"94.757827\" style=\"fill: #1f77b4; stroke: #1f77b4\"/>\n     <use xlink:href=\"#ma9f0df5ace\" x=\"132.770988\" y=\"72.126178\" style=\"fill: #1f77b4; stroke: #1f77b4\"/>\n     <use xlink:href=\"#ma9f0df5ace\" x=\"120.984416\" y=\"101.149708\" style=\"fill: #1f77b4; stroke: #1f77b4\"/>\n     <use xlink:href=\"#ma9f0df5ace\" x=\"189.750244\" y=\"97.478739\" style=\"fill: #1f77b4; stroke: #1f77b4\"/>\n     <use xlink:href=\"#ma9f0df5ace\" x=\"119.411399\" y=\"67.041934\" style=\"fill: #1f77b4; stroke: #1f77b4\"/>\n     <use xlink:href=\"#ma9f0df5ace\" x=\"159.451424\" y=\"106.564672\" style=\"fill: #1f77b4; stroke: #1f77b4\"/>\n     <use xlink:href=\"#ma9f0df5ace\" x=\"190.17826\" y=\"105.351822\" style=\"fill: #1f77b4; stroke: #1f77b4\"/>\n     <use xlink:href=\"#ma9f0df5ace\" x=\"149.508313\" y=\"90.948159\" style=\"fill: #1f77b4; stroke: #1f77b4\"/>\n     <use xlink:href=\"#ma9f0df5ace\" x=\"181.161739\" y=\"101.433887\" style=\"fill: #1f77b4; stroke: #1f77b4\"/>\n     <use xlink:href=\"#ma9f0df5ace\" x=\"72.629981\" y=\"24.174607\" style=\"fill: #1f77b4; stroke: #1f77b4\"/>\n     <use xlink:href=\"#ma9f0df5ace\" x=\"102.157681\" y=\"64.356833\" style=\"fill: #1f77b4; stroke: #1f77b4\"/>\n     <use xlink:href=\"#ma9f0df5ace\" x=\"182.745751\" y=\"124.460106\" style=\"fill: #1f77b4; stroke: #1f77b4\"/>\n     <use xlink:href=\"#ma9f0df5ace\" x=\"129.19254\" y=\"74.530078\" style=\"fill: #1f77b4; stroke: #1f77b4\"/>\n     <use xlink:href=\"#ma9f0df5ace\" x=\"167.131692\" y=\"111.662509\" style=\"fill: #1f77b4; stroke: #1f77b4\"/>\n     <use xlink:href=\"#ma9f0df5ace\" x=\"199.77794\" y=\"128.162703\" style=\"fill: #1f77b4; stroke: #1f77b4\"/>\n     <use xlink:href=\"#ma9f0df5ace\" x=\"107.617257\" y=\"60.599396\" style=\"fill: #1f77b4; stroke: #1f77b4\"/>\n     <use xlink:href=\"#ma9f0df5ace\" x=\"137.112579\" y=\"90.455794\" style=\"fill: #1f77b4; stroke: #1f77b4\"/>\n     <use xlink:href=\"#ma9f0df5ace\" x=\"110.609972\" y=\"77.558134\" style=\"fill: #1f77b4; stroke: #1f77b4\"/>\n     <use xlink:href=\"#ma9f0df5ace\" x=\"110.520838\" y=\"76.155302\" style=\"fill: #1f77b4; stroke: #1f77b4\"/>\n     <use xlink:href=\"#ma9f0df5ace\" x=\"136.224254\" y=\"85.088753\" style=\"fill: #1f77b4; stroke: #1f77b4\"/>\n     <use xlink:href=\"#ma9f0df5ace\" x=\"175.180662\" y=\"99.701751\" style=\"fill: #1f77b4; stroke: #1f77b4\"/>\n     <use xlink:href=\"#ma9f0df5ace\" x=\"109.89813\" y=\"60.31422\" style=\"fill: #1f77b4; stroke: #1f77b4\"/>\n     <use xlink:href=\"#ma9f0df5ace\" x=\"162.376662\" y=\"99.475025\" style=\"fill: #1f77b4; stroke: #1f77b4\"/>\n     <use xlink:href=\"#ma9f0df5ace\" x=\"174.051341\" y=\"113.653264\" style=\"fill: #1f77b4; stroke: #1f77b4\"/>\n     <use xlink:href=\"#ma9f0df5ace\" x=\"88.411484\" y=\"60.428529\" style=\"fill: #1f77b4; stroke: #1f77b4\"/>\n     <use xlink:href=\"#ma9f0df5ace\" x=\"121.353703\" y=\"70.797793\" style=\"fill: #1f77b4; stroke: #1f77b4\"/>\n     <use xlink:href=\"#ma9f0df5ace\" x=\"148.1646\" y=\"79.157277\" style=\"fill: #1f77b4; stroke: #1f77b4\"/>\n     <use xlink:href=\"#ma9f0df5ace\" x=\"159.632802\" y=\"99.854184\" style=\"fill: #1f77b4; stroke: #1f77b4\"/>\n     <use xlink:href=\"#ma9f0df5ace\" x=\"168.380456\" y=\"112.121012\" style=\"fill: #1f77b4; stroke: #1f77b4\"/>\n     <use xlink:href=\"#ma9f0df5ace\" x=\"143.615409\" y=\"89.103171\" style=\"fill: #1f77b4; stroke: #1f77b4\"/>\n     <use xlink:href=\"#ma9f0df5ace\" x=\"134.956222\" y=\"73.501253\" style=\"fill: #1f77b4; stroke: #1f77b4\"/>\n     <use xlink:href=\"#ma9f0df5ace\" x=\"157.170053\" y=\"100.213051\" style=\"fill: #1f77b4; stroke: #1f77b4\"/>\n     <use xlink:href=\"#ma9f0df5ace\" x=\"145.824555\" y=\"75.566598\" style=\"fill: #1f77b4; stroke: #1f77b4\"/>\n     <use xlink:href=\"#ma9f0df5ace\" x=\"134.144299\" y=\"92.754638\" style=\"fill: #1f77b4; stroke: #1f77b4\"/>\n     <use xlink:href=\"#ma9f0df5ace\" x=\"129.904749\" y=\"81.862697\" style=\"fill: #1f77b4; stroke: #1f77b4\"/>\n     <use xlink:href=\"#ma9f0df5ace\" x=\"167.577686\" y=\"121.096506\" style=\"fill: #1f77b4; stroke: #1f77b4\"/>\n     <use xlink:href=\"#ma9f0df5ace\" x=\"113.818817\" y=\"68.003703\" style=\"fill: #1f77b4; stroke: #1f77b4\"/>\n     <use xlink:href=\"#ma9f0df5ace\" x=\"103.634942\" y=\"55.230229\" style=\"fill: #1f77b4; stroke: #1f77b4\"/>\n     <use xlink:href=\"#ma9f0df5ace\" x=\"60.771574\" y=\"32.911114\" style=\"fill: #1f77b4; stroke: #1f77b4\"/>\n     <use xlink:href=\"#ma9f0df5ace\" x=\"137.638028\" y=\"95.854729\" style=\"fill: #1f77b4; stroke: #1f77b4\"/>\n     <use xlink:href=\"#ma9f0df5ace\" x=\"81.86729\" y=\"49.452578\" style=\"fill: #1f77b4; stroke: #1f77b4\"/>\n     <use xlink:href=\"#ma9f0df5ace\" x=\"143.235463\" y=\"90.58368\" style=\"fill: #1f77b4; stroke: #1f77b4\"/>\n     <use xlink:href=\"#ma9f0df5ace\" x=\"37.81946\" y=\"21.244798\" style=\"fill: #1f77b4; stroke: #1f77b4\"/>\n     <use xlink:href=\"#ma9f0df5ace\" x=\"89.126803\" y=\"66.880008\" style=\"fill: #1f77b4; stroke: #1f77b4\"/>\n     <use xlink:href=\"#ma9f0df5ace\" x=\"138.66401\" y=\"103.795362\" style=\"fill: #1f77b4; stroke: #1f77b4\"/>\n     <use xlink:href=\"#ma9f0df5ace\" x=\"170.067966\" y=\"104.991864\" style=\"fill: #1f77b4; stroke: #1f77b4\"/>\n     <use xlink:href=\"#ma9f0df5ace\" x=\"149.758851\" y=\"92.270139\" style=\"fill: #1f77b4; stroke: #1f77b4\"/>\n     <use xlink:href=\"#ma9f0df5ace\" x=\"112.689054\" y=\"53.786669\" style=\"fill: #1f77b4; stroke: #1f77b4\"/>\n     <use xlink:href=\"#ma9f0df5ace\" x=\"139.026319\" y=\"113.424674\" style=\"fill: #1f77b4; stroke: #1f77b4\"/>\n     <use xlink:href=\"#ma9f0df5ace\" x=\"136.489349\" y=\"61.79992\" style=\"fill: #1f77b4; stroke: #1f77b4\"/>\n     <use xlink:href=\"#ma9f0df5ace\" x=\"118.486228\" y=\"52.435676\" style=\"fill: #1f77b4; stroke: #1f77b4\"/>\n     <use xlink:href=\"#ma9f0df5ace\" x=\"171.482421\" y=\"102.289664\" style=\"fill: #1f77b4; stroke: #1f77b4\"/>\n     <use xlink:href=\"#ma9f0df5ace\" x=\"146.644295\" y=\"96.734379\" style=\"fill: #1f77b4; stroke: #1f77b4\"/>\n     <use xlink:href=\"#ma9f0df5ace\" x=\"119.207074\" y=\"71.705196\" style=\"fill: #1f77b4; stroke: #1f77b4\"/>\n     <use xlink:href=\"#ma9f0df5ace\" x=\"112.406045\" y=\"89.737177\" style=\"fill: #1f77b4; stroke: #1f77b4\"/>\n     <use xlink:href=\"#ma9f0df5ace\" x=\"111.469423\" y=\"87.156057\" style=\"fill: #1f77b4; stroke: #1f77b4\"/>\n     <use xlink:href=\"#ma9f0df5ace\" x=\"106.025165\" y=\"72.768044\" style=\"fill: #1f77b4; stroke: #1f77b4\"/>\n     <use xlink:href=\"#ma9f0df5ace\" x=\"111.490195\" y=\"55.077276\" style=\"fill: #1f77b4; stroke: #1f77b4\"/>\n     <use xlink:href=\"#ma9f0df5ace\" x=\"123.772488\" y=\"83.701276\" style=\"fill: #1f77b4; stroke: #1f77b4\"/>\n     <use xlink:href=\"#ma9f0df5ace\" x=\"150.608927\" y=\"92.201284\" style=\"fill: #1f77b4; stroke: #1f77b4\"/>\n     <use xlink:href=\"#ma9f0df5ace\" x=\"107.18726\" y=\"60.472071\" style=\"fill: #1f77b4; stroke: #1f77b4\"/>\n     <use xlink:href=\"#ma9f0df5ace\" x=\"154.95979\" y=\"93.648509\" style=\"fill: #1f77b4; stroke: #1f77b4\"/>\n     <use xlink:href=\"#ma9f0df5ace\" x=\"146.091387\" y=\"81.3068\" style=\"fill: #1f77b4; stroke: #1f77b4\"/>\n     <use xlink:href=\"#ma9f0df5ace\" x=\"184.118277\" y=\"104.204587\" style=\"fill: #1f77b4; stroke: #1f77b4\"/>\n     <use xlink:href=\"#ma9f0df5ace\" x=\"110.669411\" y=\"64.205412\" style=\"fill: #1f77b4; stroke: #1f77b4\"/>\n     <use xlink:href=\"#ma9f0df5ace\" x=\"156.900824\" y=\"116.437826\" style=\"fill: #1f77b4; stroke: #1f77b4\"/>\n     <use xlink:href=\"#ma9f0df5ace\" x=\"139.088715\" y=\"108.276633\" style=\"fill: #1f77b4; stroke: #1f77b4\"/>\n     <use xlink:href=\"#ma9f0df5ace\" x=\"121.600278\" y=\"88.923916\" style=\"fill: #1f77b4; stroke: #1f77b4\"/>\n     <use xlink:href=\"#ma9f0df5ace\" x=\"89.155136\" y=\"76.344879\" style=\"fill: #1f77b4; stroke: #1f77b4\"/>\n     <use xlink:href=\"#ma9f0df5ace\" x=\"123.948677\" y=\"74.160264\" style=\"fill: #1f77b4; stroke: #1f77b4\"/>\n     <use xlink:href=\"#ma9f0df5ace\" x=\"130.815629\" y=\"92.595113\" style=\"fill: #1f77b4; stroke: #1f77b4\"/>\n     <use xlink:href=\"#ma9f0df5ace\" x=\"142.232595\" y=\"63.511301\" style=\"fill: #1f77b4; stroke: #1f77b4\"/>\n     <use xlink:href=\"#ma9f0df5ace\" x=\"170.298219\" y=\"91.578107\" style=\"fill: #1f77b4; stroke: #1f77b4\"/>\n     <use xlink:href=\"#ma9f0df5ace\" x=\"94.80569\" y=\"57.743155\" style=\"fill: #1f77b4; stroke: #1f77b4\"/>\n     <use xlink:href=\"#ma9f0df5ace\" x=\"121.541554\" y=\"83.824244\" style=\"fill: #1f77b4; stroke: #1f77b4\"/>\n     <use xlink:href=\"#ma9f0df5ace\" x=\"132.193057\" y=\"95.000152\" style=\"fill: #1f77b4; stroke: #1f77b4\"/>\n     <use xlink:href=\"#ma9f0df5ace\" x=\"136.255031\" y=\"81.318488\" style=\"fill: #1f77b4; stroke: #1f77b4\"/>\n     <use xlink:href=\"#ma9f0df5ace\" x=\"124.230462\" y=\"75.020119\" style=\"fill: #1f77b4; stroke: #1f77b4\"/>\n     <use xlink:href=\"#ma9f0df5ace\" x=\"162.000723\" y=\"93.869551\" style=\"fill: #1f77b4; stroke: #1f77b4\"/>\n     <use xlink:href=\"#ma9f0df5ace\" x=\"129.869232\" y=\"95.512033\" style=\"fill: #1f77b4; stroke: #1f77b4\"/>\n     <use xlink:href=\"#ma9f0df5ace\" x=\"94.137589\" y=\"70.423437\" style=\"fill: #1f77b4; stroke: #1f77b4\"/>\n     <use xlink:href=\"#ma9f0df5ace\" x=\"105.986689\" y=\"67.744829\" style=\"fill: #1f77b4; stroke: #1f77b4\"/>\n     <use xlink:href=\"#ma9f0df5ace\" x=\"185.332912\" y=\"128.849631\" style=\"fill: #1f77b4; stroke: #1f77b4\"/>\n     <use xlink:href=\"#ma9f0df5ace\" x=\"121.148817\" y=\"53.100742\" style=\"fill: #1f77b4; stroke: #1f77b4\"/>\n     <use xlink:href=\"#ma9f0df5ace\" x=\"155.812901\" y=\"83.168295\" style=\"fill: #1f77b4; stroke: #1f77b4\"/>\n     <use xlink:href=\"#ma9f0df5ace\" x=\"161.133197\" y=\"76.673555\" style=\"fill: #1f77b4; stroke: #1f77b4\"/>\n     <use xlink:href=\"#ma9f0df5ace\" x=\"146.132378\" y=\"99.963383\" style=\"fill: #1f77b4; stroke: #1f77b4\"/>\n     <use xlink:href=\"#ma9f0df5ace\" x=\"173.800281\" y=\"114.429627\" style=\"fill: #1f77b4; stroke: #1f77b4\"/>\n     <use xlink:href=\"#ma9f0df5ace\" x=\"147.56616\" y=\"110.261443\" style=\"fill: #1f77b4; stroke: #1f77b4\"/>\n     <use xlink:href=\"#ma9f0df5ace\" x=\"118.955329\" y=\"76.002717\" style=\"fill: #1f77b4; stroke: #1f77b4\"/>\n     <use xlink:href=\"#ma9f0df5ace\" x=\"102.321447\" y=\"68.611932\" style=\"fill: #1f77b4; stroke: #1f77b4\"/>\n     <use xlink:href=\"#ma9f0df5ace\" x=\"115.156998\" y=\"55.621083\" style=\"fill: #1f77b4; stroke: #1f77b4\"/>\n     <use xlink:href=\"#ma9f0df5ace\" x=\"138.632957\" y=\"96.924513\" style=\"fill: #1f77b4; stroke: #1f77b4\"/>\n     <use xlink:href=\"#ma9f0df5ace\" x=\"113.224939\" y=\"67.581287\" style=\"fill: #1f77b4; stroke: #1f77b4\"/>\n     <use xlink:href=\"#ma9f0df5ace\" x=\"171.184998\" y=\"107.336559\" style=\"fill: #1f77b4; stroke: #1f77b4\"/>\n     <use xlink:href=\"#ma9f0df5ace\" x=\"127.511863\" y=\"71.200593\" style=\"fill: #1f77b4; stroke: #1f77b4\"/>\n     <use xlink:href=\"#ma9f0df5ace\" x=\"123.35435\" y=\"72.471769\" style=\"fill: #1f77b4; stroke: #1f77b4\"/>\n     <use xlink:href=\"#ma9f0df5ace\" x=\"193.989992\" y=\"128.784222\" style=\"fill: #1f77b4; stroke: #1f77b4\"/>\n     <use xlink:href=\"#ma9f0df5ace\" x=\"158.738365\" y=\"98.782483\" style=\"fill: #1f77b4; stroke: #1f77b4\"/>\n     <use xlink:href=\"#ma9f0df5ace\" x=\"126.19871\" y=\"65.627173\" style=\"fill: #1f77b4; stroke: #1f77b4\"/>\n     <use xlink:href=\"#ma9f0df5ace\" x=\"80.740503\" y=\"69.27273\" style=\"fill: #1f77b4; stroke: #1f77b4\"/>\n     <use xlink:href=\"#ma9f0df5ace\" x=\"168.626412\" y=\"92.338411\" style=\"fill: #1f77b4; stroke: #1f77b4\"/>\n     <use xlink:href=\"#ma9f0df5ace\" x=\"57.426692\" y=\"42.322116\" style=\"fill: #1f77b4; stroke: #1f77b4\"/>\n     <use xlink:href=\"#ma9f0df5ace\" x=\"149.08456\" y=\"90.788507\" style=\"fill: #1f77b4; stroke: #1f77b4\"/>\n     <use xlink:href=\"#ma9f0df5ace\" x=\"168.843005\" y=\"114.293423\" style=\"fill: #1f77b4; stroke: #1f77b4\"/>\n     <use xlink:href=\"#ma9f0df5ace\" x=\"143.073813\" y=\"83.728661\" style=\"fill: #1f77b4; stroke: #1f77b4\"/>\n     <use xlink:href=\"#ma9f0df5ace\" x=\"176.360676\" y=\"113.180011\" style=\"fill: #1f77b4; stroke: #1f77b4\"/>\n     <use xlink:href=\"#ma9f0df5ace\" x=\"114.576478\" y=\"72.926023\" style=\"fill: #1f77b4; stroke: #1f77b4\"/>\n     <use xlink:href=\"#ma9f0df5ace\" x=\"149.48078\" y=\"106.978563\" style=\"fill: #1f77b4; stroke: #1f77b4\"/>\n     <use xlink:href=\"#ma9f0df5ace\" x=\"109.960715\" y=\"72.995708\" style=\"fill: #1f77b4; stroke: #1f77b4\"/>\n     <use xlink:href=\"#ma9f0df5ace\" x=\"74.819519\" y=\"67.005665\" style=\"fill: #1f77b4; stroke: #1f77b4\"/>\n     <use xlink:href=\"#ma9f0df5ace\" x=\"124.274728\" y=\"88.562208\" style=\"fill: #1f77b4; stroke: #1f77b4\"/>\n     <use xlink:href=\"#ma9f0df5ace\" x=\"94.098293\" y=\"48.497171\" style=\"fill: #1f77b4; stroke: #1f77b4\"/>\n     <use xlink:href=\"#ma9f0df5ace\" x=\"132.402174\" y=\"74.765643\" style=\"fill: #1f77b4; stroke: #1f77b4\"/>\n     <use xlink:href=\"#ma9f0df5ace\" x=\"88.283096\" y=\"48.55735\" style=\"fill: #1f77b4; stroke: #1f77b4\"/>\n     <use xlink:href=\"#ma9f0df5ace\" x=\"133.004979\" y=\"75.941858\" style=\"fill: #1f77b4; stroke: #1f77b4\"/>\n     <use xlink:href=\"#ma9f0df5ace\" x=\"135.463376\" y=\"78.78225\" style=\"fill: #1f77b4; stroke: #1f77b4\"/>\n     <use xlink:href=\"#ma9f0df5ace\" x=\"144.420607\" y=\"92.494072\" style=\"fill: #1f77b4; stroke: #1f77b4\"/>\n     <use xlink:href=\"#ma9f0df5ace\" x=\"154.033937\" y=\"99.267722\" style=\"fill: #1f77b4; stroke: #1f77b4\"/>\n     <use xlink:href=\"#ma9f0df5ace\" x=\"108.811852\" y=\"67.079294\" style=\"fill: #1f77b4; stroke: #1f77b4\"/>\n     <use xlink:href=\"#ma9f0df5ace\" x=\"114.6217\" y=\"70.879176\" style=\"fill: #1f77b4; stroke: #1f77b4\"/>\n     <use xlink:href=\"#ma9f0df5ace\" x=\"112.194315\" y=\"88.586763\" style=\"fill: #1f77b4; stroke: #1f77b4\"/>\n     <use xlink:href=\"#ma9f0df5ace\" x=\"102.997585\" y=\"67.061954\" style=\"fill: #1f77b4; stroke: #1f77b4\"/>\n     <use xlink:href=\"#ma9f0df5ace\" x=\"70.716186\" y=\"43.276354\" style=\"fill: #1f77b4; stroke: #1f77b4\"/>\n     <use xlink:href=\"#ma9f0df5ace\" x=\"176.53011\" y=\"115.384295\" style=\"fill: #1f77b4; stroke: #1f77b4\"/>\n     <use xlink:href=\"#ma9f0df5ace\" x=\"182.462454\" y=\"120.200461\" style=\"fill: #1f77b4; stroke: #1f77b4\"/>\n     <use xlink:href=\"#ma9f0df5ace\" x=\"140.981063\" y=\"100.022888\" style=\"fill: #1f77b4; stroke: #1f77b4\"/>\n     <use xlink:href=\"#ma9f0df5ace\" x=\"133.933653\" y=\"62.924109\" style=\"fill: #1f77b4; stroke: #1f77b4\"/>\n     <use xlink:href=\"#ma9f0df5ace\" x=\"159.839247\" y=\"85.873251\" style=\"fill: #1f77b4; stroke: #1f77b4\"/>\n     <use xlink:href=\"#ma9f0df5ace\" x=\"151.982819\" y=\"81.003689\" style=\"fill: #1f77b4; stroke: #1f77b4\"/>\n     <use xlink:href=\"#ma9f0df5ace\" x=\"121.562096\" y=\"82.673801\" style=\"fill: #1f77b4; stroke: #1f77b4\"/>\n     <use xlink:href=\"#ma9f0df5ace\" x=\"170.359406\" y=\"110.19182\" style=\"fill: #1f77b4; stroke: #1f77b4\"/>\n     <use xlink:href=\"#ma9f0df5ace\" x=\"137.883419\" y=\"101.821215\" style=\"fill: #1f77b4; stroke: #1f77b4\"/>\n     <use xlink:href=\"#ma9f0df5ace\" x=\"170.771894\" y=\"116.363036\" style=\"fill: #1f77b4; stroke: #1f77b4\"/>\n     <use xlink:href=\"#ma9f0df5ace\" x=\"140.028246\" y=\"97.102385\" style=\"fill: #1f77b4; stroke: #1f77b4\"/>\n     <use xlink:href=\"#ma9f0df5ace\" x=\"137.370905\" y=\"98.810057\" style=\"fill: #1f77b4; stroke: #1f77b4\"/>\n     <use xlink:href=\"#ma9f0df5ace\" x=\"157.261062\" y=\"91.937356\" style=\"fill: #1f77b4; stroke: #1f77b4\"/>\n     <use xlink:href=\"#ma9f0df5ace\" x=\"62.827406\" y=\"42.236041\" style=\"fill: #1f77b4; stroke: #1f77b4\"/>\n     <use xlink:href=\"#ma9f0df5ace\" x=\"115.392335\" y=\"74.825184\" style=\"fill: #1f77b4; stroke: #1f77b4\"/>\n     <use xlink:href=\"#ma9f0df5ace\" x=\"134.313406\" y=\"86.926673\" style=\"fill: #1f77b4; stroke: #1f77b4\"/>\n     <use xlink:href=\"#ma9f0df5ace\" x=\"123.170449\" y=\"66.393536\" style=\"fill: #1f77b4; stroke: #1f77b4\"/>\n     <use xlink:href=\"#ma9f0df5ace\" x=\"76.440869\" y=\"53.436442\" style=\"fill: #1f77b4; stroke: #1f77b4\"/>\n     <use xlink:href=\"#ma9f0df5ace\" x=\"146.20921\" y=\"88.963453\" style=\"fill: #1f77b4; stroke: #1f77b4\"/>\n     <use xlink:href=\"#ma9f0df5ace\" x=\"162.739492\" y=\"85.25827\" style=\"fill: #1f77b4; stroke: #1f77b4\"/>\n     <use xlink:href=\"#ma9f0df5ace\" x=\"162.332065\" y=\"108.549787\" style=\"fill: #1f77b4; stroke: #1f77b4\"/>\n     <use xlink:href=\"#ma9f0df5ace\" x=\"152.384709\" y=\"80.189168\" style=\"fill: #1f77b4; stroke: #1f77b4\"/>\n     <use xlink:href=\"#ma9f0df5ace\" x=\"186.119509\" y=\"117.352194\" style=\"fill: #1f77b4; stroke: #1f77b4\"/>\n     <use xlink:href=\"#ma9f0df5ace\" x=\"99.261099\" y=\"74.718597\" style=\"fill: #1f77b4; stroke: #1f77b4\"/>\n     <use xlink:href=\"#ma9f0df5ace\" x=\"125.639806\" y=\"82.873492\" style=\"fill: #1f77b4; stroke: #1f77b4\"/>\n     <use xlink:href=\"#ma9f0df5ace\" x=\"128.281281\" y=\"99.987433\" style=\"fill: #1f77b4; stroke: #1f77b4\"/>\n     <use xlink:href=\"#ma9f0df5ace\" x=\"166.866842\" y=\"98.107913\" style=\"fill: #1f77b4; stroke: #1f77b4\"/>\n     <use xlink:href=\"#ma9f0df5ace\" x=\"93.700618\" y=\"54.560951\" style=\"fill: #1f77b4; stroke: #1f77b4\"/>\n     <use xlink:href=\"#ma9f0df5ace\" x=\"111.027598\" y=\"77.772876\" style=\"fill: #1f77b4; stroke: #1f77b4\"/>\n     <use xlink:href=\"#ma9f0df5ace\" x=\"118.808392\" y=\"66.26076\" style=\"fill: #1f77b4; stroke: #1f77b4\"/>\n     <use xlink:href=\"#ma9f0df5ace\" x=\"170.971574\" y=\"110.254283\" style=\"fill: #1f77b4; stroke: #1f77b4\"/>\n     <use xlink:href=\"#ma9f0df5ace\" x=\"146.521459\" y=\"81.314737\" style=\"fill: #1f77b4; stroke: #1f77b4\"/>\n     <use xlink:href=\"#ma9f0df5ace\" x=\"176.408897\" y=\"99.895873\" style=\"fill: #1f77b4; stroke: #1f77b4\"/>\n     <use xlink:href=\"#ma9f0df5ace\" x=\"132.901515\" y=\"75.799877\" style=\"fill: #1f77b4; stroke: #1f77b4\"/>\n     <use xlink:href=\"#ma9f0df5ace\" x=\"187.387132\" y=\"121.068915\" style=\"fill: #1f77b4; stroke: #1f77b4\"/>\n     <use xlink:href=\"#ma9f0df5ace\" x=\"119.065044\" y=\"69.686431\" style=\"fill: #1f77b4; stroke: #1f77b4\"/>\n     <use xlink:href=\"#ma9f0df5ace\" x=\"147.990111\" y=\"95.23064\" style=\"fill: #1f77b4; stroke: #1f77b4\"/>\n     <use xlink:href=\"#ma9f0df5ace\" x=\"163.358436\" y=\"100.829595\" style=\"fill: #1f77b4; stroke: #1f77b4\"/>\n     <use xlink:href=\"#ma9f0df5ace\" x=\"133.128301\" y=\"73.742439\" style=\"fill: #1f77b4; stroke: #1f77b4\"/>\n     <use xlink:href=\"#ma9f0df5ace\" x=\"160.656591\" y=\"98.446623\" style=\"fill: #1f77b4; stroke: #1f77b4\"/>\n     <use xlink:href=\"#ma9f0df5ace\" x=\"173.237287\" y=\"107.551516\" style=\"fill: #1f77b4; stroke: #1f77b4\"/>\n     <use xlink:href=\"#ma9f0df5ace\" x=\"153.909385\" y=\"105.593021\" style=\"fill: #1f77b4; stroke: #1f77b4\"/>\n     <use xlink:href=\"#ma9f0df5ace\" x=\"163.338898\" y=\"93.814639\" style=\"fill: #1f77b4; stroke: #1f77b4\"/>\n     <use xlink:href=\"#ma9f0df5ace\" x=\"135.133054\" y=\"80.345533\" style=\"fill: #1f77b4; stroke: #1f77b4\"/>\n     <use xlink:href=\"#ma9f0df5ace\" x=\"135.010045\" y=\"85.061519\" style=\"fill: #1f77b4; stroke: #1f77b4\"/>\n     <use xlink:href=\"#ma9f0df5ace\" x=\"89.184422\" y=\"55.432672\" style=\"fill: #1f77b4; stroke: #1f77b4\"/>\n     <use xlink:href=\"#ma9f0df5ace\" x=\"178.386143\" y=\"118.863043\" style=\"fill: #1f77b4; stroke: #1f77b4\"/>\n     <use xlink:href=\"#ma9f0df5ace\" x=\"105.043386\" y=\"71.762553\" style=\"fill: #1f77b4; stroke: #1f77b4\"/>\n     <use xlink:href=\"#ma9f0df5ace\" x=\"125.564542\" y=\"75.371535\" style=\"fill: #1f77b4; stroke: #1f77b4\"/>\n     <use xlink:href=\"#ma9f0df5ace\" x=\"164.810509\" y=\"93.434586\" style=\"fill: #1f77b4; stroke: #1f77b4\"/>\n     <use xlink:href=\"#ma9f0df5ace\" x=\"77.199474\" y=\"32.796435\" style=\"fill: #1f77b4; stroke: #1f77b4\"/>\n     <use xlink:href=\"#ma9f0df5ace\" x=\"196.103436\" y=\"126.723839\" style=\"fill: #1f77b4; stroke: #1f77b4\"/>\n     <use xlink:href=\"#ma9f0df5ace\" x=\"131.336869\" y=\"76.414167\" style=\"fill: #1f77b4; stroke: #1f77b4\"/>\n     <use xlink:href=\"#ma9f0df5ace\" x=\"130.60424\" y=\"81.566865\" style=\"fill: #1f77b4; stroke: #1f77b4\"/>\n     <use xlink:href=\"#ma9f0df5ace\" x=\"197.637436\" y=\"107.422739\" style=\"fill: #1f77b4; stroke: #1f77b4\"/>\n     <use xlink:href=\"#ma9f0df5ace\" x=\"100.086387\" y=\"56.397311\" style=\"fill: #1f77b4; stroke: #1f77b4\"/>\n     <use xlink:href=\"#ma9f0df5ace\" x=\"92.28556\" y=\"72.142781\" style=\"fill: #1f77b4; stroke: #1f77b4\"/>\n     <use xlink:href=\"#ma9f0df5ace\" x=\"141.147725\" y=\"105.221169\" style=\"fill: #1f77b4; stroke: #1f77b4\"/>\n     <use xlink:href=\"#ma9f0df5ace\" x=\"90.772223\" y=\"54.647916\" style=\"fill: #1f77b4; stroke: #1f77b4\"/>\n     <use xlink:href=\"#ma9f0df5ace\" x=\"88.052822\" y=\"55.365505\" style=\"fill: #1f77b4; stroke: #1f77b4\"/>\n     <use xlink:href=\"#ma9f0df5ace\" x=\"128.023256\" y=\"68.826074\" style=\"fill: #1f77b4; stroke: #1f77b4\"/>\n     <use xlink:href=\"#ma9f0df5ace\" x=\"111.631661\" y=\"83.914223\" style=\"fill: #1f77b4; stroke: #1f77b4\"/>\n     <use xlink:href=\"#ma9f0df5ace\" x=\"152.589831\" y=\"109.15367\" style=\"fill: #1f77b4; stroke: #1f77b4\"/>\n     <use xlink:href=\"#ma9f0df5ace\" x=\"51.476531\" y=\"36.569186\" style=\"fill: #1f77b4; stroke: #1f77b4\"/>\n     <use xlink:href=\"#ma9f0df5ace\" x=\"106.650655\" y=\"60.52552\" style=\"fill: #1f77b4; stroke: #1f77b4\"/>\n     <use xlink:href=\"#ma9f0df5ace\" x=\"185.987616\" y=\"113.518487\" style=\"fill: #1f77b4; stroke: #1f77b4\"/>\n     <use xlink:href=\"#ma9f0df5ace\" x=\"121.364265\" y=\"53.95405\" style=\"fill: #1f77b4; stroke: #1f77b4\"/>\n     <use xlink:href=\"#ma9f0df5ace\" x=\"88.208028\" y=\"53.475469\" style=\"fill: #1f77b4; stroke: #1f77b4\"/>\n     <use xlink:href=\"#ma9f0df5ace\" x=\"155.69721\" y=\"90.558406\" style=\"fill: #1f77b4; stroke: #1f77b4\"/>\n     <use xlink:href=\"#ma9f0df5ace\" x=\"135.80896\" y=\"87.478358\" style=\"fill: #1f77b4; stroke: #1f77b4\"/>\n     <use xlink:href=\"#ma9f0df5ace\" x=\"129.007437\" y=\"85.348183\" style=\"fill: #1f77b4; stroke: #1f77b4\"/>\n     <use xlink:href=\"#ma9f0df5ace\" x=\"138.547465\" y=\"83.166095\" style=\"fill: #1f77b4; stroke: #1f77b4\"/>\n     <use xlink:href=\"#ma9f0df5ace\" x=\"157.637553\" y=\"101.634286\" style=\"fill: #1f77b4; stroke: #1f77b4\"/>\n     <use xlink:href=\"#ma9f0df5ace\" x=\"138.295281\" y=\"99.321588\" style=\"fill: #1f77b4; stroke: #1f77b4\"/>\n     <use xlink:href=\"#ma9f0df5ace\" x=\"170.340982\" y=\"106.438032\" style=\"fill: #1f77b4; stroke: #1f77b4\"/>\n     <use xlink:href=\"#ma9f0df5ace\" x=\"149.412497\" y=\"100.387616\" style=\"fill: #1f77b4; stroke: #1f77b4\"/>\n     <use xlink:href=\"#ma9f0df5ace\" x=\"134.657566\" y=\"90.61402\" style=\"fill: #1f77b4; stroke: #1f77b4\"/>\n     <use xlink:href=\"#ma9f0df5ace\" x=\"77.682188\" y=\"67.166237\" style=\"fill: #1f77b4; stroke: #1f77b4\"/>\n     <use xlink:href=\"#ma9f0df5ace\" x=\"120.470239\" y=\"91.231474\" style=\"fill: #1f77b4; stroke: #1f77b4\"/>\n     <use xlink:href=\"#ma9f0df5ace\" x=\"99.547011\" y=\"56.387172\" style=\"fill: #1f77b4; stroke: #1f77b4\"/>\n     <use xlink:href=\"#ma9f0df5ace\" x=\"142.625363\" y=\"83.733588\" style=\"fill: #1f77b4; stroke: #1f77b4\"/>\n     <use xlink:href=\"#ma9f0df5ace\" x=\"156.488289\" y=\"86.265744\" style=\"fill: #1f77b4; stroke: #1f77b4\"/>\n     <use xlink:href=\"#ma9f0df5ace\" x=\"117.71813\" y=\"73.746669\" style=\"fill: #1f77b4; stroke: #1f77b4\"/>\n     <use xlink:href=\"#ma9f0df5ace\" x=\"84.76336\" y=\"68.186728\" style=\"fill: #1f77b4; stroke: #1f77b4\"/>\n     <use xlink:href=\"#ma9f0df5ace\" x=\"190.434875\" y=\"110.538754\" style=\"fill: #1f77b4; stroke: #1f77b4\"/>\n     <use xlink:href=\"#ma9f0df5ace\" x=\"120.142844\" y=\"70.135561\" style=\"fill: #1f77b4; stroke: #1f77b4\"/>\n     <use xlink:href=\"#ma9f0df5ace\" x=\"66.658817\" y=\"45.816601\" style=\"fill: #1f77b4; stroke: #1f77b4\"/>\n     <use xlink:href=\"#ma9f0df5ace\" x=\"165.120729\" y=\"101.844796\" style=\"fill: #1f77b4; stroke: #1f77b4\"/>\n     <use xlink:href=\"#ma9f0df5ace\" x=\"109.475089\" y=\"73.715006\" style=\"fill: #1f77b4; stroke: #1f77b4\"/>\n     <use xlink:href=\"#ma9f0df5ace\" x=\"142.571483\" y=\"82.456477\" style=\"fill: #1f77b4; stroke: #1f77b4\"/>\n     <use xlink:href=\"#ma9f0df5ace\" x=\"121.953899\" y=\"73.999631\" style=\"fill: #1f77b4; stroke: #1f77b4\"/>\n     <use xlink:href=\"#ma9f0df5ace\" x=\"142.0866\" y=\"82.665127\" style=\"fill: #1f77b4; stroke: #1f77b4\"/>\n     <use xlink:href=\"#ma9f0df5ace\" x=\"109.569333\" y=\"56.040175\" style=\"fill: #1f77b4; stroke: #1f77b4\"/>\n     <use xlink:href=\"#ma9f0df5ace\" x=\"113.282396\" y=\"84.866052\" style=\"fill: #1f77b4; stroke: #1f77b4\"/>\n     <use xlink:href=\"#ma9f0df5ace\" x=\"165.826322\" y=\"116.334095\" style=\"fill: #1f77b4; stroke: #1f77b4\"/>\n     <use xlink:href=\"#ma9f0df5ace\" x=\"152.206541\" y=\"86.490224\" style=\"fill: #1f77b4; stroke: #1f77b4\"/>\n     <use xlink:href=\"#ma9f0df5ace\" x=\"72.453754\" y=\"55.080886\" style=\"fill: #1f77b4; stroke: #1f77b4\"/>\n     <use xlink:href=\"#ma9f0df5ace\" x=\"136.389549\" y=\"87.59391\" style=\"fill: #1f77b4; stroke: #1f77b4\"/>\n     <use xlink:href=\"#ma9f0df5ace\" x=\"165.233964\" y=\"97.883845\" style=\"fill: #1f77b4; stroke: #1f77b4\"/>\n     <use xlink:href=\"#ma9f0df5ace\" x=\"121.674364\" y=\"55.750128\" style=\"fill: #1f77b4; stroke: #1f77b4\"/>\n     <use xlink:href=\"#ma9f0df5ace\" x=\"94.049111\" y=\"42.897163\" style=\"fill: #1f77b4; stroke: #1f77b4\"/>\n     <use xlink:href=\"#ma9f0df5ace\" x=\"117.828283\" y=\"67.1127\" style=\"fill: #1f77b4; stroke: #1f77b4\"/>\n     <use xlink:href=\"#ma9f0df5ace\" x=\"116.632131\" y=\"78.745185\" style=\"fill: #1f77b4; stroke: #1f77b4\"/>\n     <use xlink:href=\"#ma9f0df5ace\" x=\"80.701581\" y=\"55.401411\" style=\"fill: #1f77b4; stroke: #1f77b4\"/>\n     <use xlink:href=\"#ma9f0df5ace\" x=\"149.724971\" y=\"95.256467\" style=\"fill: #1f77b4; stroke: #1f77b4\"/>\n     <use xlink:href=\"#ma9f0df5ace\" x=\"141.581479\" y=\"82.928394\" style=\"fill: #1f77b4; stroke: #1f77b4\"/>\n     <use xlink:href=\"#ma9f0df5ace\" x=\"164.466081\" y=\"96.075263\" style=\"fill: #1f77b4; stroke: #1f77b4\"/>\n     <use xlink:href=\"#ma9f0df5ace\" x=\"117.598377\" y=\"75.394024\" style=\"fill: #1f77b4; stroke: #1f77b4\"/>\n     <use xlink:href=\"#ma9f0df5ace\" x=\"149.800279\" y=\"72.05657\" style=\"fill: #1f77b4; stroke: #1f77b4\"/>\n     <use xlink:href=\"#ma9f0df5ace\" x=\"138.323742\" y=\"71.016638\" style=\"fill: #1f77b4; stroke: #1f77b4\"/>\n     <use xlink:href=\"#ma9f0df5ace\" x=\"152.320511\" y=\"94.520211\" style=\"fill: #1f77b4; stroke: #1f77b4\"/>\n     <use xlink:href=\"#ma9f0df5ace\" x=\"150.322288\" y=\"86.452301\" style=\"fill: #1f77b4; stroke: #1f77b4\"/>\n     <use xlink:href=\"#ma9f0df5ace\" x=\"99.924889\" y=\"73.508673\" style=\"fill: #1f77b4; stroke: #1f77b4\"/>\n     <use xlink:href=\"#ma9f0df5ace\" x=\"69.81404\" y=\"30.265132\" style=\"fill: #1f77b4; stroke: #1f77b4\"/>\n     <use xlink:href=\"#ma9f0df5ace\" x=\"120.451238\" y=\"60.246209\" style=\"fill: #1f77b4; stroke: #1f77b4\"/>\n     <use xlink:href=\"#ma9f0df5ace\" x=\"148.657387\" y=\"97.859736\" style=\"fill: #1f77b4; stroke: #1f77b4\"/>\n     <use xlink:href=\"#ma9f0df5ace\" x=\"122.891864\" y=\"82.703247\" style=\"fill: #1f77b4; stroke: #1f77b4\"/>\n     <use xlink:href=\"#ma9f0df5ace\" x=\"127.886168\" y=\"91.301449\" style=\"fill: #1f77b4; stroke: #1f77b4\"/>\n     <use xlink:href=\"#ma9f0df5ace\" x=\"138.807558\" y=\"85.453189\" style=\"fill: #1f77b4; stroke: #1f77b4\"/>\n     <use xlink:href=\"#ma9f0df5ace\" x=\"115.797197\" y=\"85.551705\" style=\"fill: #1f77b4; stroke: #1f77b4\"/>\n     <use xlink:href=\"#ma9f0df5ace\" x=\"134.778331\" y=\"95.19675\" style=\"fill: #1f77b4; stroke: #1f77b4\"/>\n     <use xlink:href=\"#ma9f0df5ace\" x=\"70.972963\" y=\"46.521157\" style=\"fill: #1f77b4; stroke: #1f77b4\"/>\n     <use xlink:href=\"#ma9f0df5ace\" x=\"113.620907\" y=\"62.299402\" style=\"fill: #1f77b4; stroke: #1f77b4\"/>\n     <use xlink:href=\"#ma9f0df5ace\" x=\"120.776035\" y=\"71.352856\" style=\"fill: #1f77b4; stroke: #1f77b4\"/>\n     <use xlink:href=\"#ma9f0df5ace\" x=\"158.612576\" y=\"110.386046\" style=\"fill: #1f77b4; stroke: #1f77b4\"/>\n     <use xlink:href=\"#ma9f0df5ace\" x=\"130.003381\" y=\"93.018993\" style=\"fill: #1f77b4; stroke: #1f77b4\"/>\n     <use xlink:href=\"#ma9f0df5ace\" x=\"139.647565\" y=\"93.993607\" style=\"fill: #1f77b4; stroke: #1f77b4\"/>\n     <use xlink:href=\"#ma9f0df5ace\" x=\"137.686359\" y=\"76.628741\" style=\"fill: #1f77b4; stroke: #1f77b4\"/>\n     <use xlink:href=\"#ma9f0df5ace\" x=\"103.2101\" y=\"40.152403\" style=\"fill: #1f77b4; stroke: #1f77b4\"/>\n     <use xlink:href=\"#ma9f0df5ace\" x=\"140.601648\" y=\"76.967518\" style=\"fill: #1f77b4; stroke: #1f77b4\"/>\n     <use xlink:href=\"#ma9f0df5ace\" x=\"121.026956\" y=\"68.117308\" style=\"fill: #1f77b4; stroke: #1f77b4\"/>\n     <use xlink:href=\"#ma9f0df5ace\" x=\"123.039616\" y=\"79.983628\" style=\"fill: #1f77b4; stroke: #1f77b4\"/>\n     <use xlink:href=\"#ma9f0df5ace\" x=\"84.864019\" y=\"38.66736\" style=\"fill: #1f77b4; stroke: #1f77b4\"/>\n     <use xlink:href=\"#ma9f0df5ace\" x=\"120.918544\" y=\"84.860648\" style=\"fill: #1f77b4; stroke: #1f77b4\"/>\n     <use xlink:href=\"#ma9f0df5ace\" x=\"96.064231\" y=\"72.22544\" style=\"fill: #1f77b4; stroke: #1f77b4\"/>\n     <use xlink:href=\"#ma9f0df5ace\" x=\"123.342137\" y=\"95.008495\" style=\"fill: #1f77b4; stroke: #1f77b4\"/>\n     <use xlink:href=\"#ma9f0df5ace\" x=\"144.007737\" y=\"90.447387\" style=\"fill: #1f77b4; stroke: #1f77b4\"/>\n     <use xlink:href=\"#ma9f0df5ace\" x=\"106.106799\" y=\"48.355196\" style=\"fill: #1f77b4; stroke: #1f77b4\"/>\n     <use xlink:href=\"#ma9f0df5ace\" x=\"119.246362\" y=\"79.474036\" style=\"fill: #1f77b4; stroke: #1f77b4\"/>\n     <use xlink:href=\"#ma9f0df5ace\" x=\"81.724741\" y=\"63.660086\" style=\"fill: #1f77b4; stroke: #1f77b4\"/>\n     <use xlink:href=\"#ma9f0df5ace\" x=\"162.870544\" y=\"96.825877\" style=\"fill: #1f77b4; stroke: #1f77b4\"/>\n     <use xlink:href=\"#ma9f0df5ace\" x=\"142.923539\" y=\"83.009476\" style=\"fill: #1f77b4; stroke: #1f77b4\"/>\n     <use xlink:href=\"#ma9f0df5ace\" x=\"152.93337\" y=\"115.595291\" style=\"fill: #1f77b4; stroke: #1f77b4\"/>\n     <use xlink:href=\"#ma9f0df5ace\" x=\"157.86418\" y=\"124.013026\" style=\"fill: #1f77b4; stroke: #1f77b4\"/>\n     <use xlink:href=\"#ma9f0df5ace\" x=\"103.314601\" y=\"58.536891\" style=\"fill: #1f77b4; stroke: #1f77b4\"/>\n     <use xlink:href=\"#ma9f0df5ace\" x=\"148.265355\" y=\"98.547677\" style=\"fill: #1f77b4; stroke: #1f77b4\"/>\n     <use xlink:href=\"#ma9f0df5ace\" x=\"174.046377\" y=\"112.804378\" style=\"fill: #1f77b4; stroke: #1f77b4\"/>\n     <use xlink:href=\"#ma9f0df5ace\" x=\"145.818815\" y=\"103.364869\" style=\"fill: #1f77b4; stroke: #1f77b4\"/>\n     <use xlink:href=\"#ma9f0df5ace\" x=\"64.916629\" y=\"56.419113\" style=\"fill: #1f77b4; stroke: #1f77b4\"/>\n     <use xlink:href=\"#ma9f0df5ace\" x=\"191.37874\" y=\"118.53047\" style=\"fill: #1f77b4; stroke: #1f77b4\"/>\n     <use xlink:href=\"#ma9f0df5ace\" x=\"112.128093\" y=\"92.524115\" style=\"fill: #1f77b4; stroke: #1f77b4\"/>\n     <use xlink:href=\"#ma9f0df5ace\" x=\"132.062593\" y=\"75.658631\" style=\"fill: #1f77b4; stroke: #1f77b4\"/>\n     <use xlink:href=\"#ma9f0df5ace\" x=\"140.231773\" y=\"97.992097\" style=\"fill: #1f77b4; stroke: #1f77b4\"/>\n     <use xlink:href=\"#ma9f0df5ace\" x=\"90.918141\" y=\"53.191822\" style=\"fill: #1f77b4; stroke: #1f77b4\"/>\n     <use xlink:href=\"#ma9f0df5ace\" x=\"169.140502\" y=\"94.597674\" style=\"fill: #1f77b4; stroke: #1f77b4\"/>\n     <use xlink:href=\"#ma9f0df5ace\" x=\"139.534798\" y=\"71.664246\" style=\"fill: #1f77b4; stroke: #1f77b4\"/>\n     <use xlink:href=\"#ma9f0df5ace\" x=\"150.989528\" y=\"80.457444\" style=\"fill: #1f77b4; stroke: #1f77b4\"/>\n     <use xlink:href=\"#ma9f0df5ace\" x=\"170.151418\" y=\"100.041476\" style=\"fill: #1f77b4; stroke: #1f77b4\"/>\n     <use xlink:href=\"#ma9f0df5ace\" x=\"96.708118\" y=\"68.839001\" style=\"fill: #1f77b4; stroke: #1f77b4\"/>\n     <use xlink:href=\"#ma9f0df5ace\" x=\"44.153349\" y=\"22.237619\" style=\"fill: #1f77b4; stroke: #1f77b4\"/>\n     <use xlink:href=\"#ma9f0df5ace\" x=\"170.78753\" y=\"111.14906\" style=\"fill: #1f77b4; stroke: #1f77b4\"/>\n     <use xlink:href=\"#ma9f0df5ace\" x=\"149.614968\" y=\"85.607674\" style=\"fill: #1f77b4; stroke: #1f77b4\"/>\n     <use xlink:href=\"#ma9f0df5ace\" x=\"73.684642\" y=\"46.323823\" style=\"fill: #1f77b4; stroke: #1f77b4\"/>\n     <use xlink:href=\"#ma9f0df5ace\" x=\"160.606051\" y=\"99.806827\" style=\"fill: #1f77b4; stroke: #1f77b4\"/>\n     <use xlink:href=\"#ma9f0df5ace\" x=\"117.493274\" y=\"80.165005\" style=\"fill: #1f77b4; stroke: #1f77b4\"/>\n     <use xlink:href=\"#ma9f0df5ace\" x=\"173.094286\" y=\"135.63042\" style=\"fill: #1f77b4; stroke: #1f77b4\"/>\n     <use xlink:href=\"#ma9f0df5ace\" x=\"114.056878\" y=\"61.63008\" style=\"fill: #1f77b4; stroke: #1f77b4\"/>\n     <use xlink:href=\"#ma9f0df5ace\" x=\"141.077527\" y=\"82.810524\" style=\"fill: #1f77b4; stroke: #1f77b4\"/>\n     <use xlink:href=\"#ma9f0df5ace\" x=\"160.804224\" y=\"93.881244\" style=\"fill: #1f77b4; stroke: #1f77b4\"/>\n     <use xlink:href=\"#ma9f0df5ace\" x=\"151.539138\" y=\"84.457964\" style=\"fill: #1f77b4; stroke: #1f77b4\"/>\n     <use xlink:href=\"#ma9f0df5ace\" x=\"139.957445\" y=\"100.349939\" style=\"fill: #1f77b4; stroke: #1f77b4\"/>\n     <use xlink:href=\"#ma9f0df5ace\" x=\"106.211442\" y=\"53.115871\" style=\"fill: #1f77b4; stroke: #1f77b4\"/>\n     <use xlink:href=\"#ma9f0df5ace\" x=\"99.072933\" y=\"47.152651\" style=\"fill: #1f77b4; stroke: #1f77b4\"/>\n     <use xlink:href=\"#ma9f0df5ace\" x=\"154.692055\" y=\"70.909212\" style=\"fill: #1f77b4; stroke: #1f77b4\"/>\n     <use xlink:href=\"#ma9f0df5ace\" x=\"157.949975\" y=\"97.86912\" style=\"fill: #1f77b4; stroke: #1f77b4\"/>\n     <use xlink:href=\"#ma9f0df5ace\" x=\"122.201093\" y=\"54.911908\" style=\"fill: #1f77b4; stroke: #1f77b4\"/>\n     <use xlink:href=\"#ma9f0df5ace\" x=\"107.687105\" y=\"69.577488\" style=\"fill: #1f77b4; stroke: #1f77b4\"/>\n     <use xlink:href=\"#ma9f0df5ace\" x=\"154.079509\" y=\"72.173309\" style=\"fill: #1f77b4; stroke: #1f77b4\"/>\n     <use xlink:href=\"#ma9f0df5ace\" x=\"157.630921\" y=\"94.772052\" style=\"fill: #1f77b4; stroke: #1f77b4\"/>\n     <use xlink:href=\"#ma9f0df5ace\" x=\"210.249944\" y=\"132.271895\" style=\"fill: #1f77b4; stroke: #1f77b4\"/>\n     <use xlink:href=\"#ma9f0df5ace\" x=\"108.402951\" y=\"89.439584\" style=\"fill: #1f77b4; stroke: #1f77b4\"/>\n     <use xlink:href=\"#ma9f0df5ace\" x=\"164.782681\" y=\"101.223197\" style=\"fill: #1f77b4; stroke: #1f77b4\"/>\n     <use xlink:href=\"#ma9f0df5ace\" x=\"156.246586\" y=\"89.442966\" style=\"fill: #1f77b4; stroke: #1f77b4\"/>\n     <use xlink:href=\"#ma9f0df5ace\" x=\"158.083095\" y=\"104.316351\" style=\"fill: #1f77b4; stroke: #1f77b4\"/>\n     <use xlink:href=\"#ma9f0df5ace\" x=\"133.163883\" y=\"89.078547\" style=\"fill: #1f77b4; stroke: #1f77b4\"/>\n     <use xlink:href=\"#ma9f0df5ace\" x=\"180.839261\" y=\"106.643171\" style=\"fill: #1f77b4; stroke: #1f77b4\"/>\n     <use xlink:href=\"#ma9f0df5ace\" x=\"100.573953\" y=\"56.850203\" style=\"fill: #1f77b4; stroke: #1f77b4\"/>\n     <use xlink:href=\"#ma9f0df5ace\" x=\"92.27673\" y=\"57.180769\" style=\"fill: #1f77b4; stroke: #1f77b4\"/>\n     <use xlink:href=\"#ma9f0df5ace\" x=\"164.203984\" y=\"93.074297\" style=\"fill: #1f77b4; stroke: #1f77b4\"/>\n     <use xlink:href=\"#ma9f0df5ace\" x=\"117.693029\" y=\"71.964525\" style=\"fill: #1f77b4; stroke: #1f77b4\"/>\n     <use xlink:href=\"#ma9f0df5ace\" x=\"172.813467\" y=\"107.385503\" style=\"fill: #1f77b4; stroke: #1f77b4\"/>\n     <use xlink:href=\"#ma9f0df5ace\" x=\"120.679415\" y=\"69.581394\" style=\"fill: #1f77b4; stroke: #1f77b4\"/>\n     <use xlink:href=\"#ma9f0df5ace\" x=\"82.49274\" y=\"52.045347\" style=\"fill: #1f77b4; stroke: #1f77b4\"/>\n     <use xlink:href=\"#ma9f0df5ace\" x=\"170.549773\" y=\"103.078197\" style=\"fill: #1f77b4; stroke: #1f77b4\"/>\n     <use xlink:href=\"#ma9f0df5ace\" x=\"168.312231\" y=\"91.096471\" style=\"fill: #1f77b4; stroke: #1f77b4\"/>\n     <use xlink:href=\"#ma9f0df5ace\" x=\"164.773957\" y=\"112.727074\" style=\"fill: #1f77b4; stroke: #1f77b4\"/>\n     <use xlink:href=\"#ma9f0df5ace\" x=\"136.169752\" y=\"83.585141\" style=\"fill: #1f77b4; stroke: #1f77b4\"/>\n     <use xlink:href=\"#ma9f0df5ace\" x=\"119.728379\" y=\"83.750809\" style=\"fill: #1f77b4; stroke: #1f77b4\"/>\n     <use xlink:href=\"#ma9f0df5ace\" x=\"150.127569\" y=\"96.412398\" style=\"fill: #1f77b4; stroke: #1f77b4\"/>\n     <use xlink:href=\"#ma9f0df5ace\" x=\"114.83636\" y=\"26.094066\" style=\"fill: #1f77b4; stroke: #1f77b4\"/>\n     <use xlink:href=\"#ma9f0df5ace\" x=\"168.736552\" y=\"92.42798\" style=\"fill: #1f77b4; stroke: #1f77b4\"/>\n     <use xlink:href=\"#ma9f0df5ace\" x=\"167.573802\" y=\"103.719461\" style=\"fill: #1f77b4; stroke: #1f77b4\"/>\n     <use xlink:href=\"#ma9f0df5ace\" x=\"155.382415\" y=\"87.826812\" style=\"fill: #1f77b4; stroke: #1f77b4\"/>\n     <use xlink:href=\"#ma9f0df5ace\" x=\"127.964466\" y=\"84.216684\" style=\"fill: #1f77b4; stroke: #1f77b4\"/>\n     <use xlink:href=\"#ma9f0df5ace\" x=\"121.545649\" y=\"83.776081\" style=\"fill: #1f77b4; stroke: #1f77b4\"/>\n     <use xlink:href=\"#ma9f0df5ace\" x=\"105.621607\" y=\"89.145113\" style=\"fill: #1f77b4; stroke: #1f77b4\"/>\n     <use xlink:href=\"#ma9f0df5ace\" x=\"135.633964\" y=\"103.389743\" style=\"fill: #1f77b4; stroke: #1f77b4\"/>\n     <use xlink:href=\"#ma9f0df5ace\" x=\"99.239136\" y=\"54.400639\" style=\"fill: #1f77b4; stroke: #1f77b4\"/>\n     <use xlink:href=\"#ma9f0df5ace\" x=\"115.351098\" y=\"71.188806\" style=\"fill: #1f77b4; stroke: #1f77b4\"/>\n     <use xlink:href=\"#ma9f0df5ace\" x=\"172.46743\" y=\"98.052888\" style=\"fill: #1f77b4; stroke: #1f77b4\"/>\n     <use xlink:href=\"#ma9f0df5ace\" x=\"123.068486\" y=\"83.495077\" style=\"fill: #1f77b4; stroke: #1f77b4\"/>\n     <use xlink:href=\"#ma9f0df5ace\" x=\"87.286214\" y=\"68.45419\" style=\"fill: #1f77b4; stroke: #1f77b4\"/>\n     <use xlink:href=\"#ma9f0df5ace\" x=\"116.859173\" y=\"61.311859\" style=\"fill: #1f77b4; stroke: #1f77b4\"/>\n     <use xlink:href=\"#ma9f0df5ace\" x=\"146.910536\" y=\"81.526479\" style=\"fill: #1f77b4; stroke: #1f77b4\"/>\n     <use xlink:href=\"#ma9f0df5ace\" x=\"173.195432\" y=\"97.02773\" style=\"fill: #1f77b4; stroke: #1f77b4\"/>\n     <use xlink:href=\"#ma9f0df5ace\" x=\"98.277254\" y=\"53.624338\" style=\"fill: #1f77b4; stroke: #1f77b4\"/>\n     <use xlink:href=\"#ma9f0df5ace\" x=\"125.35992\" y=\"85.167551\" style=\"fill: #1f77b4; stroke: #1f77b4\"/>\n     <use xlink:href=\"#ma9f0df5ace\" x=\"162.011368\" y=\"103.952811\" style=\"fill: #1f77b4; stroke: #1f77b4\"/>\n     <use xlink:href=\"#ma9f0df5ace\" x=\"104.015782\" y=\"71.393573\" style=\"fill: #1f77b4; stroke: #1f77b4\"/>\n     <use xlink:href=\"#ma9f0df5ace\" x=\"215.364915\" y=\"121.714314\" style=\"fill: #1f77b4; stroke: #1f77b4\"/>\n     <use xlink:href=\"#ma9f0df5ace\" x=\"107.404533\" y=\"62.181992\" style=\"fill: #1f77b4; stroke: #1f77b4\"/>\n     <use xlink:href=\"#ma9f0df5ace\" x=\"105.489047\" y=\"73.263749\" style=\"fill: #1f77b4; stroke: #1f77b4\"/>\n     <use xlink:href=\"#ma9f0df5ace\" x=\"131.132556\" y=\"89.351181\" style=\"fill: #1f77b4; stroke: #1f77b4\"/>\n     <use xlink:href=\"#ma9f0df5ace\" x=\"118.202552\" y=\"91.180432\" style=\"fill: #1f77b4; stroke: #1f77b4\"/>\n     <use xlink:href=\"#ma9f0df5ace\" x=\"172.397148\" y=\"99.997485\" style=\"fill: #1f77b4; stroke: #1f77b4\"/>\n     <use xlink:href=\"#ma9f0df5ace\" x=\"91.461292\" y=\"45.308762\" style=\"fill: #1f77b4; stroke: #1f77b4\"/>\n     <use xlink:href=\"#ma9f0df5ace\" x=\"174.220218\" y=\"129.992452\" style=\"fill: #1f77b4; stroke: #1f77b4\"/>\n     <use xlink:href=\"#ma9f0df5ace\" x=\"132.587941\" y=\"89.940223\" style=\"fill: #1f77b4; stroke: #1f77b4\"/>\n     <use xlink:href=\"#ma9f0df5ace\" x=\"147.130886\" y=\"86.454478\" style=\"fill: #1f77b4; stroke: #1f77b4\"/>\n     <use xlink:href=\"#ma9f0df5ace\" x=\"147.659324\" y=\"87.008084\" style=\"fill: #1f77b4; stroke: #1f77b4\"/>\n     <use xlink:href=\"#ma9f0df5ace\" x=\"102.482104\" y=\"77.446748\" style=\"fill: #1f77b4; stroke: #1f77b4\"/>\n     <use xlink:href=\"#ma9f0df5ace\" x=\"135.022295\" y=\"81.827898\" style=\"fill: #1f77b4; stroke: #1f77b4\"/>\n     <use xlink:href=\"#ma9f0df5ace\" x=\"180.200313\" y=\"113.300208\" style=\"fill: #1f77b4; stroke: #1f77b4\"/>\n     <use xlink:href=\"#ma9f0df5ace\" x=\"92.3934\" y=\"52.491797\" style=\"fill: #1f77b4; stroke: #1f77b4\"/>\n     <use xlink:href=\"#ma9f0df5ace\" x=\"153.412353\" y=\"89.29201\" style=\"fill: #1f77b4; stroke: #1f77b4\"/>\n     <use xlink:href=\"#ma9f0df5ace\" x=\"142.537494\" y=\"97.736489\" style=\"fill: #1f77b4; stroke: #1f77b4\"/>\n     <use xlink:href=\"#ma9f0df5ace\" x=\"149.119289\" y=\"108.161902\" style=\"fill: #1f77b4; stroke: #1f77b4\"/>\n     <use xlink:href=\"#ma9f0df5ace\" x=\"113.09878\" y=\"82.309752\" style=\"fill: #1f77b4; stroke: #1f77b4\"/>\n     <use xlink:href=\"#ma9f0df5ace\" x=\"163.913981\" y=\"104.96924\" style=\"fill: #1f77b4; stroke: #1f77b4\"/>\n     <use xlink:href=\"#ma9f0df5ace\" x=\"130.872748\" y=\"86.941151\" style=\"fill: #1f77b4; stroke: #1f77b4\"/>\n     <use xlink:href=\"#ma9f0df5ace\" x=\"106.779914\" y=\"63.127211\" style=\"fill: #1f77b4; stroke: #1f77b4\"/>\n     <use xlink:href=\"#ma9f0df5ace\" x=\"119.070045\" y=\"80.757753\" style=\"fill: #1f77b4; stroke: #1f77b4\"/>\n     <use xlink:href=\"#ma9f0df5ace\" x=\"162.08252\" y=\"107.689665\" style=\"fill: #1f77b4; stroke: #1f77b4\"/>\n     <use xlink:href=\"#ma9f0df5ace\" x=\"91.635816\" y=\"77.60336\" style=\"fill: #1f77b4; stroke: #1f77b4\"/>\n     <use xlink:href=\"#ma9f0df5ace\" x=\"131.618346\" y=\"101.055299\" style=\"fill: #1f77b4; stroke: #1f77b4\"/>\n     <use xlink:href=\"#ma9f0df5ace\" x=\"106.909983\" y=\"62.138334\" style=\"fill: #1f77b4; stroke: #1f77b4\"/>\n     <use xlink:href=\"#ma9f0df5ace\" x=\"132.025506\" y=\"53.752235\" style=\"fill: #1f77b4; stroke: #1f77b4\"/>\n     <use xlink:href=\"#ma9f0df5ace\" x=\"154.668926\" y=\"94.657019\" style=\"fill: #1f77b4; stroke: #1f77b4\"/>\n     <use xlink:href=\"#ma9f0df5ace\" x=\"170.490973\" y=\"102.131334\" style=\"fill: #1f77b4; stroke: #1f77b4\"/>\n     <use xlink:href=\"#ma9f0df5ace\" x=\"130.036166\" y=\"79.058617\" style=\"fill: #1f77b4; stroke: #1f77b4\"/>\n     <use xlink:href=\"#ma9f0df5ace\" x=\"130.593013\" y=\"60.056269\" style=\"fill: #1f77b4; stroke: #1f77b4\"/>\n     <use xlink:href=\"#ma9f0df5ace\" x=\"134.71555\" y=\"91.239062\" style=\"fill: #1f77b4; stroke: #1f77b4\"/>\n     <use xlink:href=\"#ma9f0df5ace\" x=\"155.31722\" y=\"99.379949\" style=\"fill: #1f77b4; stroke: #1f77b4\"/>\n     <use xlink:href=\"#ma9f0df5ace\" x=\"137.134475\" y=\"86.731912\" style=\"fill: #1f77b4; stroke: #1f77b4\"/>\n     <use xlink:href=\"#ma9f0df5ace\" x=\"152.987516\" y=\"82.754644\" style=\"fill: #1f77b4; stroke: #1f77b4\"/>\n     <use xlink:href=\"#ma9f0df5ace\" x=\"95.748514\" y=\"75.813253\" style=\"fill: #1f77b4; stroke: #1f77b4\"/>\n     <use xlink:href=\"#ma9f0df5ace\" x=\"80.664587\" y=\"52.354009\" style=\"fill: #1f77b4; stroke: #1f77b4\"/>\n     <use xlink:href=\"#ma9f0df5ace\" x=\"163.868421\" y=\"107.889294\" style=\"fill: #1f77b4; stroke: #1f77b4\"/>\n     <use xlink:href=\"#ma9f0df5ace\" x=\"120.138351\" y=\"81.515977\" style=\"fill: #1f77b4; stroke: #1f77b4\"/>\n     <use xlink:href=\"#ma9f0df5ace\" x=\"148.667268\" y=\"110.579723\" style=\"fill: #1f77b4; stroke: #1f77b4\"/>\n     <use xlink:href=\"#ma9f0df5ace\" x=\"185.823057\" y=\"124.232412\" style=\"fill: #1f77b4; stroke: #1f77b4\"/>\n     <use xlink:href=\"#ma9f0df5ace\" x=\"114.877928\" y=\"79.435959\" style=\"fill: #1f77b4; stroke: #1f77b4\"/>\n     <use xlink:href=\"#ma9f0df5ace\" x=\"137.845501\" y=\"99.274504\" style=\"fill: #1f77b4; stroke: #1f77b4\"/>\n     <use xlink:href=\"#ma9f0df5ace\" x=\"150.890537\" y=\"113.093641\" style=\"fill: #1f77b4; stroke: #1f77b4\"/>\n     <use xlink:href=\"#ma9f0df5ace\" x=\"155.237524\" y=\"97.937961\" style=\"fill: #1f77b4; stroke: #1f77b4\"/>\n     <use xlink:href=\"#ma9f0df5ace\" x=\"100.349193\" y=\"52.551972\" style=\"fill: #1f77b4; stroke: #1f77b4\"/>\n     <use xlink:href=\"#ma9f0df5ace\" x=\"145.118914\" y=\"85.620327\" style=\"fill: #1f77b4; stroke: #1f77b4\"/>\n     <use xlink:href=\"#ma9f0df5ace\" x=\"90.768216\" y=\"47.48247\" style=\"fill: #1f77b4; stroke: #1f77b4\"/>\n     <use xlink:href=\"#ma9f0df5ace\" x=\"102.742514\" y=\"62.827159\" style=\"fill: #1f77b4; stroke: #1f77b4\"/>\n     <use xlink:href=\"#ma9f0df5ace\" x=\"142.207001\" y=\"82.510717\" style=\"fill: #1f77b4; stroke: #1f77b4\"/>\n     <use xlink:href=\"#ma9f0df5ace\" x=\"176.513191\" y=\"113.730307\" style=\"fill: #1f77b4; stroke: #1f77b4\"/>\n     <use xlink:href=\"#ma9f0df5ace\" x=\"146.319205\" y=\"103.435473\" style=\"fill: #1f77b4; stroke: #1f77b4\"/>\n     <use xlink:href=\"#ma9f0df5ace\" x=\"169.559131\" y=\"109.674741\" style=\"fill: #1f77b4; stroke: #1f77b4\"/>\n     <use xlink:href=\"#ma9f0df5ace\" x=\"151.748875\" y=\"85.76908\" style=\"fill: #1f77b4; stroke: #1f77b4\"/>\n     <use xlink:href=\"#ma9f0df5ace\" x=\"132.291726\" y=\"96.213475\" style=\"fill: #1f77b4; stroke: #1f77b4\"/>\n     <use xlink:href=\"#ma9f0df5ace\" x=\"184.823277\" y=\"110.446059\" style=\"fill: #1f77b4; stroke: #1f77b4\"/>\n     <use xlink:href=\"#ma9f0df5ace\" x=\"120.446668\" y=\"68.280382\" style=\"fill: #1f77b4; stroke: #1f77b4\"/>\n     <use xlink:href=\"#ma9f0df5ace\" x=\"116.120087\" y=\"57.218282\" style=\"fill: #1f77b4; stroke: #1f77b4\"/>\n     <use xlink:href=\"#ma9f0df5ace\" x=\"132.126716\" y=\"76.075092\" style=\"fill: #1f77b4; stroke: #1f77b4\"/>\n     <use xlink:href=\"#ma9f0df5ace\" x=\"129.23966\" y=\"92.877144\" style=\"fill: #1f77b4; stroke: #1f77b4\"/>\n     <use xlink:href=\"#ma9f0df5ace\" x=\"107.133859\" y=\"74.33029\" style=\"fill: #1f77b4; stroke: #1f77b4\"/>\n     <use xlink:href=\"#ma9f0df5ace\" x=\"149.439047\" y=\"91.617514\" style=\"fill: #1f77b4; stroke: #1f77b4\"/>\n     <use xlink:href=\"#ma9f0df5ace\" x=\"99.63939\" y=\"50.948949\" style=\"fill: #1f77b4; stroke: #1f77b4\"/>\n     <use xlink:href=\"#ma9f0df5ace\" x=\"126.712375\" y=\"84.763452\" style=\"fill: #1f77b4; stroke: #1f77b4\"/>\n     <use xlink:href=\"#ma9f0df5ace\" x=\"136.201755\" y=\"100.416719\" style=\"fill: #1f77b4; stroke: #1f77b4\"/>\n     <use xlink:href=\"#ma9f0df5ace\" x=\"192.988558\" y=\"126.726977\" style=\"fill: #1f77b4; stroke: #1f77b4\"/>\n     <use xlink:href=\"#ma9f0df5ace\" x=\"107.708476\" y=\"56.774787\" style=\"fill: #1f77b4; stroke: #1f77b4\"/>\n     <use xlink:href=\"#ma9f0df5ace\" x=\"148.127815\" y=\"83.253595\" style=\"fill: #1f77b4; stroke: #1f77b4\"/>\n     <use xlink:href=\"#ma9f0df5ace\" x=\"158.742235\" y=\"114.557479\" style=\"fill: #1f77b4; stroke: #1f77b4\"/>\n     <use xlink:href=\"#ma9f0df5ace\" x=\"171.385955\" y=\"101.423617\" style=\"fill: #1f77b4; stroke: #1f77b4\"/>\n     <use xlink:href=\"#ma9f0df5ace\" x=\"141.896754\" y=\"101.277681\" style=\"fill: #1f77b4; stroke: #1f77b4\"/>\n     <use xlink:href=\"#ma9f0df5ace\" x=\"115.111598\" y=\"82.886421\" style=\"fill: #1f77b4; stroke: #1f77b4\"/>\n     <use xlink:href=\"#ma9f0df5ace\" x=\"111.682805\" y=\"81.110819\" style=\"fill: #1f77b4; stroke: #1f77b4\"/>\n     <use xlink:href=\"#ma9f0df5ace\" x=\"127.827998\" y=\"67.422152\" style=\"fill: #1f77b4; stroke: #1f77b4\"/>\n     <use xlink:href=\"#ma9f0df5ace\" x=\"130.100796\" y=\"84.174587\" style=\"fill: #1f77b4; stroke: #1f77b4\"/>\n     <use xlink:href=\"#ma9f0df5ace\" x=\"142.673368\" y=\"90.162293\" style=\"fill: #1f77b4; stroke: #1f77b4\"/>\n     <use xlink:href=\"#ma9f0df5ace\" x=\"178.899391\" y=\"115.491494\" style=\"fill: #1f77b4; stroke: #1f77b4\"/>\n     <use xlink:href=\"#ma9f0df5ace\" x=\"143.202273\" y=\"97.283478\" style=\"fill: #1f77b4; stroke: #1f77b4\"/>\n     <use xlink:href=\"#ma9f0df5ace\" x=\"55.49026\" y=\"35.063402\" style=\"fill: #1f77b4; stroke: #1f77b4\"/>\n     <use xlink:href=\"#ma9f0df5ace\" x=\"104.51285\" y=\"76.664562\" style=\"fill: #1f77b4; stroke: #1f77b4\"/>\n     <use xlink:href=\"#ma9f0df5ace\" x=\"154.947389\" y=\"105.219263\" style=\"fill: #1f77b4; stroke: #1f77b4\"/>\n     <use xlink:href=\"#ma9f0df5ace\" x=\"152.165827\" y=\"110.146295\" style=\"fill: #1f77b4; stroke: #1f77b4\"/>\n     <use xlink:href=\"#ma9f0df5ace\" x=\"84.514782\" y=\"73.652803\" style=\"fill: #1f77b4; stroke: #1f77b4\"/>\n     <use xlink:href=\"#ma9f0df5ace\" x=\"147.109986\" y=\"99.383466\" style=\"fill: #1f77b4; stroke: #1f77b4\"/>\n     <use xlink:href=\"#ma9f0df5ace\" x=\"124.420923\" y=\"88.37926\" style=\"fill: #1f77b4; stroke: #1f77b4\"/>\n     <use xlink:href=\"#ma9f0df5ace\" x=\"151.031261\" y=\"86.485152\" style=\"fill: #1f77b4; stroke: #1f77b4\"/>\n     <use xlink:href=\"#ma9f0df5ace\" x=\"107.625655\" y=\"68.817758\" style=\"fill: #1f77b4; stroke: #1f77b4\"/>\n     <use xlink:href=\"#ma9f0df5ace\" x=\"46.740107\" y=\"43.514553\" style=\"fill: #1f77b4; stroke: #1f77b4\"/>\n     <use xlink:href=\"#ma9f0df5ace\" x=\"81.847339\" y=\"51.157241\" style=\"fill: #1f77b4; stroke: #1f77b4\"/>\n     <use xlink:href=\"#ma9f0df5ace\" x=\"100.457142\" y=\"73.261141\" style=\"fill: #1f77b4; stroke: #1f77b4\"/>\n     <use xlink:href=\"#ma9f0df5ace\" x=\"152.64556\" y=\"96.614763\" style=\"fill: #1f77b4; stroke: #1f77b4\"/>\n     <use xlink:href=\"#ma9f0df5ace\" x=\"159.029598\" y=\"110.188309\" style=\"fill: #1f77b4; stroke: #1f77b4\"/>\n     <use xlink:href=\"#ma9f0df5ace\" x=\"145.190448\" y=\"84.765704\" style=\"fill: #1f77b4; stroke: #1f77b4\"/>\n     <use xlink:href=\"#ma9f0df5ace\" x=\"169.437147\" y=\"104.432794\" style=\"fill: #1f77b4; stroke: #1f77b4\"/>\n     <use xlink:href=\"#ma9f0df5ace\" x=\"131.189027\" y=\"56.743516\" style=\"fill: #1f77b4; stroke: #1f77b4\"/>\n     <use xlink:href=\"#ma9f0df5ace\" x=\"179.446202\" y=\"117.908251\" style=\"fill: #1f77b4; stroke: #1f77b4\"/>\n     <use xlink:href=\"#ma9f0df5ace\" x=\"191.776846\" y=\"112.45148\" style=\"fill: #1f77b4; stroke: #1f77b4\"/>\n     <use xlink:href=\"#ma9f0df5ace\" x=\"141.715805\" y=\"76.881024\" style=\"fill: #1f77b4; stroke: #1f77b4\"/>\n     <use xlink:href=\"#ma9f0df5ace\" x=\"118.807645\" y=\"71.053005\" style=\"fill: #1f77b4; stroke: #1f77b4\"/>\n     <use xlink:href=\"#ma9f0df5ace\" x=\"112.785203\" y=\"68.057965\" style=\"fill: #1f77b4; stroke: #1f77b4\"/>\n     <use xlink:href=\"#ma9f0df5ace\" x=\"148.947945\" y=\"96.831808\" style=\"fill: #1f77b4; stroke: #1f77b4\"/>\n     <use xlink:href=\"#ma9f0df5ace\" x=\"136.827873\" y=\"83.841218\" style=\"fill: #1f77b4; stroke: #1f77b4\"/>\n     <use xlink:href=\"#ma9f0df5ace\" x=\"139.880342\" y=\"88.802528\" style=\"fill: #1f77b4; stroke: #1f77b4\"/>\n     <use xlink:href=\"#ma9f0df5ace\" x=\"171.77161\" y=\"106.589124\" style=\"fill: #1f77b4; stroke: #1f77b4\"/>\n     <use xlink:href=\"#ma9f0df5ace\" x=\"127.898013\" y=\"80.550519\" style=\"fill: #1f77b4; stroke: #1f77b4\"/>\n     <use xlink:href=\"#ma9f0df5ace\" x=\"162.481821\" y=\"115.255368\" style=\"fill: #1f77b4; stroke: #1f77b4\"/>\n     <use xlink:href=\"#ma9f0df5ace\" x=\"168.617979\" y=\"106.666882\" style=\"fill: #1f77b4; stroke: #1f77b4\"/>\n     <use xlink:href=\"#ma9f0df5ace\" x=\"102.167811\" y=\"65.04381\" style=\"fill: #1f77b4; stroke: #1f77b4\"/>\n     <use xlink:href=\"#ma9f0df5ace\" x=\"132.828179\" y=\"68.588444\" style=\"fill: #1f77b4; stroke: #1f77b4\"/>\n     <use xlink:href=\"#ma9f0df5ace\" x=\"118.8977\" y=\"59.788868\" style=\"fill: #1f77b4; stroke: #1f77b4\"/>\n     <use xlink:href=\"#ma9f0df5ace\" x=\"146.146541\" y=\"99.339668\" style=\"fill: #1f77b4; stroke: #1f77b4\"/>\n     <use xlink:href=\"#ma9f0df5ace\" x=\"114.223231\" y=\"63.588707\" style=\"fill: #1f77b4; stroke: #1f77b4\"/>\n     <use xlink:href=\"#ma9f0df5ace\" x=\"93.26957\" y=\"61.034456\" style=\"fill: #1f77b4; stroke: #1f77b4\"/>\n     <use xlink:href=\"#ma9f0df5ace\" x=\"108.008997\" y=\"54.26561\" style=\"fill: #1f77b4; stroke: #1f77b4\"/>\n     <use xlink:href=\"#ma9f0df5ace\" x=\"181.453827\" y=\"94.807342\" style=\"fill: #1f77b4; stroke: #1f77b4\"/>\n     <use xlink:href=\"#ma9f0df5ace\" x=\"171.693217\" y=\"94.774527\" style=\"fill: #1f77b4; stroke: #1f77b4\"/>\n     <use xlink:href=\"#ma9f0df5ace\" x=\"131.41811\" y=\"100.455055\" style=\"fill: #1f77b4; stroke: #1f77b4\"/>\n     <use xlink:href=\"#ma9f0df5ace\" x=\"114.581606\" y=\"88.530871\" style=\"fill: #1f77b4; stroke: #1f77b4\"/>\n     <use xlink:href=\"#ma9f0df5ace\" x=\"145.511401\" y=\"75.388396\" style=\"fill: #1f77b4; stroke: #1f77b4\"/>\n     <use xlink:href=\"#ma9f0df5ace\" x=\"143.185154\" y=\"79.53517\" style=\"fill: #1f77b4; stroke: #1f77b4\"/>\n     <use xlink:href=\"#ma9f0df5ace\" x=\"123.151245\" y=\"83.665636\" style=\"fill: #1f77b4; stroke: #1f77b4\"/>\n     <use xlink:href=\"#ma9f0df5ace\" x=\"139.399032\" y=\"80.017629\" style=\"fill: #1f77b4; stroke: #1f77b4\"/>\n     <use xlink:href=\"#ma9f0df5ace\" x=\"72.767055\" y=\"43.690111\" style=\"fill: #1f77b4; stroke: #1f77b4\"/>\n     <use xlink:href=\"#ma9f0df5ace\" x=\"171.199275\" y=\"118.111095\" style=\"fill: #1f77b4; stroke: #1f77b4\"/>\n     <use xlink:href=\"#ma9f0df5ace\" x=\"126.219099\" y=\"62.125976\" style=\"fill: #1f77b4; stroke: #1f77b4\"/>\n     <use xlink:href=\"#ma9f0df5ace\" x=\"126.882151\" y=\"79.007037\" style=\"fill: #1f77b4; stroke: #1f77b4\"/>\n     <use xlink:href=\"#ma9f0df5ace\" x=\"121.618633\" y=\"74.977074\" style=\"fill: #1f77b4; stroke: #1f77b4\"/>\n     <use xlink:href=\"#ma9f0df5ace\" x=\"149.560318\" y=\"92.027358\" style=\"fill: #1f77b4; stroke: #1f77b4\"/>\n     <use xlink:href=\"#ma9f0df5ace\" x=\"111.028611\" y=\"82.530418\" style=\"fill: #1f77b4; stroke: #1f77b4\"/>\n     <use xlink:href=\"#ma9f0df5ace\" x=\"158.771635\" y=\"109.424612\" style=\"fill: #1f77b4; stroke: #1f77b4\"/>\n     <use xlink:href=\"#ma9f0df5ace\" x=\"100.254388\" y=\"77.51115\" style=\"fill: #1f77b4; stroke: #1f77b4\"/>\n     <use xlink:href=\"#ma9f0df5ace\" x=\"148.443274\" y=\"79.065113\" style=\"fill: #1f77b4; stroke: #1f77b4\"/>\n     <use xlink:href=\"#ma9f0df5ace\" x=\"145.848198\" y=\"109.682328\" style=\"fill: #1f77b4; stroke: #1f77b4\"/>\n     <use xlink:href=\"#ma9f0df5ace\" x=\"140.577535\" y=\"93.949101\" style=\"fill: #1f77b4; stroke: #1f77b4\"/>\n     <use xlink:href=\"#ma9f0df5ace\" x=\"169.289616\" y=\"119.026527\" style=\"fill: #1f77b4; stroke: #1f77b4\"/>\n     <use xlink:href=\"#ma9f0df5ace\" x=\"132.75501\" y=\"94.60947\" style=\"fill: #1f77b4; stroke: #1f77b4\"/>\n     <use xlink:href=\"#ma9f0df5ace\" x=\"87.658838\" y=\"62.285883\" style=\"fill: #1f77b4; stroke: #1f77b4\"/>\n     <use xlink:href=\"#ma9f0df5ace\" x=\"133.670532\" y=\"105.330155\" style=\"fill: #1f77b4; stroke: #1f77b4\"/>\n     <use xlink:href=\"#ma9f0df5ace\" x=\"157.293967\" y=\"109.056386\" style=\"fill: #1f77b4; stroke: #1f77b4\"/>\n     <use xlink:href=\"#ma9f0df5ace\" x=\"129.727989\" y=\"73.28474\" style=\"fill: #1f77b4; stroke: #1f77b4\"/>\n     <use xlink:href=\"#ma9f0df5ace\" x=\"80.555835\" y=\"47.410046\" style=\"fill: #1f77b4; stroke: #1f77b4\"/>\n     <use xlink:href=\"#ma9f0df5ace\" x=\"136.150348\" y=\"84.114946\" style=\"fill: #1f77b4; stroke: #1f77b4\"/>\n     <use xlink:href=\"#ma9f0df5ace\" x=\"174.546306\" y=\"114.511798\" style=\"fill: #1f77b4; stroke: #1f77b4\"/>\n     <use xlink:href=\"#ma9f0df5ace\" x=\"180.082942\" y=\"116.573344\" style=\"fill: #1f77b4; stroke: #1f77b4\"/>\n     <use xlink:href=\"#ma9f0df5ace\" x=\"174.009983\" y=\"113.461673\" style=\"fill: #1f77b4; stroke: #1f77b4\"/>\n     <use xlink:href=\"#ma9f0df5ace\" x=\"182.480622\" y=\"91.255694\" style=\"fill: #1f77b4; stroke: #1f77b4\"/>\n     <use xlink:href=\"#ma9f0df5ace\" x=\"164.70189\" y=\"116.186421\" style=\"fill: #1f77b4; stroke: #1f77b4\"/>\n     <use xlink:href=\"#ma9f0df5ace\" x=\"118.267049\" y=\"63.923145\" style=\"fill: #1f77b4; stroke: #1f77b4\"/>\n     <use xlink:href=\"#ma9f0df5ace\" x=\"123.490345\" y=\"106.847322\" style=\"fill: #1f77b4; stroke: #1f77b4\"/>\n     <use xlink:href=\"#ma9f0df5ace\" x=\"162.303249\" y=\"99.396183\" style=\"fill: #1f77b4; stroke: #1f77b4\"/>\n     <use xlink:href=\"#ma9f0df5ace\" x=\"126.548919\" y=\"63.930872\" style=\"fill: #1f77b4; stroke: #1f77b4\"/>\n     <use xlink:href=\"#ma9f0df5ace\" x=\"76.386349\" y=\"48.422203\" style=\"fill: #1f77b4; stroke: #1f77b4\"/>\n     <use xlink:href=\"#ma9f0df5ace\" x=\"137.247933\" y=\"80.096955\" style=\"fill: #1f77b4; stroke: #1f77b4\"/>\n     <use xlink:href=\"#ma9f0df5ace\" x=\"176.303517\" y=\"96.545847\" style=\"fill: #1f77b4; stroke: #1f77b4\"/>\n     <use xlink:href=\"#ma9f0df5ace\" x=\"176.591994\" y=\"114.737042\" style=\"fill: #1f77b4; stroke: #1f77b4\"/>\n     <use xlink:href=\"#ma9f0df5ace\" x=\"166.14208\" y=\"101.585134\" style=\"fill: #1f77b4; stroke: #1f77b4\"/>\n     <use xlink:href=\"#ma9f0df5ace\" x=\"49.009314\" y=\"13.5\" style=\"fill: #1f77b4; stroke: #1f77b4\"/>\n     <use xlink:href=\"#ma9f0df5ace\" x=\"82.706865\" y=\"46.576424\" style=\"fill: #1f77b4; stroke: #1f77b4\"/>\n     <use xlink:href=\"#ma9f0df5ace\" x=\"68.682065\" y=\"30.140005\" style=\"fill: #1f77b4; stroke: #1f77b4\"/>\n     <use xlink:href=\"#ma9f0df5ace\" x=\"144.698963\" y=\"83.430412\" style=\"fill: #1f77b4; stroke: #1f77b4\"/>\n     <use xlink:href=\"#ma9f0df5ace\" x=\"82.290062\" y=\"52.816972\" style=\"fill: #1f77b4; stroke: #1f77b4\"/>\n     <use xlink:href=\"#ma9f0df5ace\" x=\"170.140927\" y=\"98.239772\" style=\"fill: #1f77b4; stroke: #1f77b4\"/>\n     <use xlink:href=\"#ma9f0df5ace\" x=\"137.149044\" y=\"83.539043\" style=\"fill: #1f77b4; stroke: #1f77b4\"/>\n     <use xlink:href=\"#ma9f0df5ace\" x=\"197.226115\" y=\"133.785651\" style=\"fill: #1f77b4; stroke: #1f77b4\"/>\n     <use xlink:href=\"#ma9f0df5ace\" x=\"131.047921\" y=\"100.45266\" style=\"fill: #1f77b4; stroke: #1f77b4\"/>\n     <use xlink:href=\"#ma9f0df5ace\" x=\"182.997701\" y=\"107.271197\" style=\"fill: #1f77b4; stroke: #1f77b4\"/>\n     <use xlink:href=\"#ma9f0df5ace\" x=\"118.280764\" y=\"83.482578\" style=\"fill: #1f77b4; stroke: #1f77b4\"/>\n     <use xlink:href=\"#ma9f0df5ace\" x=\"94.440996\" y=\"70.18686\" style=\"fill: #1f77b4; stroke: #1f77b4\"/>\n     <use xlink:href=\"#ma9f0df5ace\" x=\"102.048547\" y=\"40.092728\" style=\"fill: #1f77b4; stroke: #1f77b4\"/>\n     <use xlink:href=\"#ma9f0df5ace\" x=\"132.299042\" y=\"79.927537\" style=\"fill: #1f77b4; stroke: #1f77b4\"/>\n     <use xlink:href=\"#ma9f0df5ace\" x=\"105.366164\" y=\"62.880706\" style=\"fill: #1f77b4; stroke: #1f77b4\"/>\n     <use xlink:href=\"#ma9f0df5ace\" x=\"152.700429\" y=\"96.484328\" style=\"fill: #1f77b4; stroke: #1f77b4\"/>\n     <use xlink:href=\"#ma9f0df5ace\" x=\"146.51683\" y=\"95.923494\" style=\"fill: #1f77b4; stroke: #1f77b4\"/>\n     <use xlink:href=\"#ma9f0df5ace\" x=\"157.865482\" y=\"102.859197\" style=\"fill: #1f77b4; stroke: #1f77b4\"/>\n     <use xlink:href=\"#ma9f0df5ace\" x=\"82.041088\" y=\"70.586697\" style=\"fill: #1f77b4; stroke: #1f77b4\"/>\n     <use xlink:href=\"#ma9f0df5ace\" x=\"118.943451\" y=\"78.268172\" style=\"fill: #1f77b4; stroke: #1f77b4\"/>\n     <use xlink:href=\"#ma9f0df5ace\" x=\"101.030806\" y=\"57.012852\" style=\"fill: #1f77b4; stroke: #1f77b4\"/>\n     <use xlink:href=\"#ma9f0df5ace\" x=\"207.462072\" y=\"129.381427\" style=\"fill: #1f77b4; stroke: #1f77b4\"/>\n     <use xlink:href=\"#ma9f0df5ace\" x=\"100.330713\" y=\"51.514038\" style=\"fill: #1f77b4; stroke: #1f77b4\"/>\n     <use xlink:href=\"#ma9f0df5ace\" x=\"93.15447\" y=\"47.3184\" style=\"fill: #1f77b4; stroke: #1f77b4\"/>\n     <use xlink:href=\"#ma9f0df5ace\" x=\"186.725004\" y=\"122.444237\" style=\"fill: #1f77b4; stroke: #1f77b4\"/>\n     <use xlink:href=\"#ma9f0df5ace\" x=\"126.492964\" y=\"77.076564\" style=\"fill: #1f77b4; stroke: #1f77b4\"/>\n     <use xlink:href=\"#ma9f0df5ace\" x=\"130.565139\" y=\"78.445929\" style=\"fill: #1f77b4; stroke: #1f77b4\"/>\n     <use xlink:href=\"#ma9f0df5ace\" x=\"152.218955\" y=\"76.197417\" style=\"fill: #1f77b4; stroke: #1f77b4\"/>\n     <use xlink:href=\"#ma9f0df5ace\" x=\"194.36788\" y=\"117.519455\" style=\"fill: #1f77b4; stroke: #1f77b4\"/>\n     <use xlink:href=\"#ma9f0df5ace\" x=\"91.536654\" y=\"58.529254\" style=\"fill: #1f77b4; stroke: #1f77b4\"/>\n     <use xlink:href=\"#ma9f0df5ace\" x=\"74.663254\" y=\"54.976001\" style=\"fill: #1f77b4; stroke: #1f77b4\"/>\n     <use xlink:href=\"#ma9f0df5ace\" x=\"109.767184\" y=\"57.430575\" style=\"fill: #1f77b4; stroke: #1f77b4\"/>\n     <use xlink:href=\"#ma9f0df5ace\" x=\"153.515622\" y=\"105.574629\" style=\"fill: #1f77b4; stroke: #1f77b4\"/>\n     <use xlink:href=\"#ma9f0df5ace\" x=\"88.850278\" y=\"63.73752\" style=\"fill: #1f77b4; stroke: #1f77b4\"/>\n     <use xlink:href=\"#ma9f0df5ace\" x=\"134.080413\" y=\"91.345859\" style=\"fill: #1f77b4; stroke: #1f77b4\"/>\n     <use xlink:href=\"#ma9f0df5ace\" x=\"78.19307\" y=\"47.70688\" style=\"fill: #1f77b4; stroke: #1f77b4\"/>\n     <use xlink:href=\"#ma9f0df5ace\" x=\"111.218612\" y=\"63.452275\" style=\"fill: #1f77b4; stroke: #1f77b4\"/>\n     <use xlink:href=\"#ma9f0df5ace\" x=\"94.158242\" y=\"53.444501\" style=\"fill: #1f77b4; stroke: #1f77b4\"/>\n     <use xlink:href=\"#ma9f0df5ace\" x=\"154.617892\" y=\"84.395962\" style=\"fill: #1f77b4; stroke: #1f77b4\"/>\n     <use xlink:href=\"#ma9f0df5ace\" x=\"137.758436\" y=\"81.735454\" style=\"fill: #1f77b4; stroke: #1f77b4\"/>\n     <use xlink:href=\"#ma9f0df5ace\" x=\"147.371329\" y=\"93.766464\" style=\"fill: #1f77b4; stroke: #1f77b4\"/>\n     <use xlink:href=\"#ma9f0df5ace\" x=\"113.803812\" y=\"72.757547\" style=\"fill: #1f77b4; stroke: #1f77b4\"/>\n     <use xlink:href=\"#ma9f0df5ace\" x=\"109.73021\" y=\"49.728155\" style=\"fill: #1f77b4; stroke: #1f77b4\"/>\n     <use xlink:href=\"#ma9f0df5ace\" x=\"106.735036\" y=\"56.142805\" style=\"fill: #1f77b4; stroke: #1f77b4\"/>\n     <use xlink:href=\"#ma9f0df5ace\" x=\"114.13204\" y=\"67.21397\" style=\"fill: #1f77b4; stroke: #1f77b4\"/>\n     <use xlink:href=\"#ma9f0df5ace\" x=\"97.664952\" y=\"63.73819\" style=\"fill: #1f77b4; stroke: #1f77b4\"/>\n     <use xlink:href=\"#ma9f0df5ace\" x=\"116.282027\" y=\"74.723512\" style=\"fill: #1f77b4; stroke: #1f77b4\"/>\n     <use xlink:href=\"#ma9f0df5ace\" x=\"80.590754\" y=\"31.837542\" style=\"fill: #1f77b4; stroke: #1f77b4\"/>\n     <use xlink:href=\"#ma9f0df5ace\" x=\"180.963489\" y=\"91.63863\" style=\"fill: #1f77b4; stroke: #1f77b4\"/>\n     <use xlink:href=\"#ma9f0df5ace\" x=\"115.17506\" y=\"77.283455\" style=\"fill: #1f77b4; stroke: #1f77b4\"/>\n     <use xlink:href=\"#ma9f0df5ace\" x=\"99.981294\" y=\"51.580025\" style=\"fill: #1f77b4; stroke: #1f77b4\"/>\n     <use xlink:href=\"#ma9f0df5ace\" x=\"151.103398\" y=\"92.205272\" style=\"fill: #1f77b4; stroke: #1f77b4\"/>\n     <use xlink:href=\"#ma9f0df5ace\" x=\"134.677651\" y=\"92.446495\" style=\"fill: #1f77b4; stroke: #1f77b4\"/>\n     <use xlink:href=\"#ma9f0df5ace\" x=\"139.680052\" y=\"87.588447\" style=\"fill: #1f77b4; stroke: #1f77b4\"/>\n     <use xlink:href=\"#ma9f0df5ace\" x=\"146.533652\" y=\"70.681816\" style=\"fill: #1f77b4; stroke: #1f77b4\"/>\n     <use xlink:href=\"#ma9f0df5ace\" x=\"177.539873\" y=\"113.638248\" style=\"fill: #1f77b4; stroke: #1f77b4\"/>\n     <use xlink:href=\"#ma9f0df5ace\" x=\"166.341789\" y=\"99.293934\" style=\"fill: #1f77b4; stroke: #1f77b4\"/>\n     <use xlink:href=\"#ma9f0df5ace\" x=\"130.957893\" y=\"82.866621\" style=\"fill: #1f77b4; stroke: #1f77b4\"/>\n     <use xlink:href=\"#ma9f0df5ace\" x=\"186.505424\" y=\"98.055351\" style=\"fill: #1f77b4; stroke: #1f77b4\"/>\n     <use xlink:href=\"#ma9f0df5ace\" x=\"93.678311\" y=\"58.000076\" style=\"fill: #1f77b4; stroke: #1f77b4\"/>\n     <use xlink:href=\"#ma9f0df5ace\" x=\"127.343172\" y=\"91.324196\" style=\"fill: #1f77b4; stroke: #1f77b4\"/>\n     <use xlink:href=\"#ma9f0df5ace\" x=\"101.400811\" y=\"62.521641\" style=\"fill: #1f77b4; stroke: #1f77b4\"/>\n     <use xlink:href=\"#ma9f0df5ace\" x=\"136.926535\" y=\"78.726046\" style=\"fill: #1f77b4; stroke: #1f77b4\"/>\n     <use xlink:href=\"#ma9f0df5ace\" x=\"109.220894\" y=\"73.712547\" style=\"fill: #1f77b4; stroke: #1f77b4\"/>\n     <use xlink:href=\"#ma9f0df5ace\" x=\"121.055762\" y=\"72.398436\" style=\"fill: #1f77b4; stroke: #1f77b4\"/>\n     <use xlink:href=\"#ma9f0df5ace\" x=\"154.648182\" y=\"88.989436\" style=\"fill: #1f77b4; stroke: #1f77b4\"/>\n     <use xlink:href=\"#ma9f0df5ace\" x=\"127.186617\" y=\"72.386637\" style=\"fill: #1f77b4; stroke: #1f77b4\"/>\n     <use xlink:href=\"#ma9f0df5ace\" x=\"146.595178\" y=\"96.184951\" style=\"fill: #1f77b4; stroke: #1f77b4\"/>\n     <use xlink:href=\"#ma9f0df5ace\" x=\"146.937284\" y=\"82.087987\" style=\"fill: #1f77b4; stroke: #1f77b4\"/>\n     <use xlink:href=\"#ma9f0df5ace\" x=\"202.11934\" y=\"120.145034\" style=\"fill: #1f77b4; stroke: #1f77b4\"/>\n     <use xlink:href=\"#ma9f0df5ace\" x=\"117.508399\" y=\"75.053643\" style=\"fill: #1f77b4; stroke: #1f77b4\"/>\n     <use xlink:href=\"#ma9f0df5ace\" x=\"121.944602\" y=\"80.798507\" style=\"fill: #1f77b4; stroke: #1f77b4\"/>\n     <use xlink:href=\"#ma9f0df5ace\" x=\"47.520426\" y=\"47.009424\" style=\"fill: #1f77b4; stroke: #1f77b4\"/>\n     <use xlink:href=\"#ma9f0df5ace\" x=\"143.926481\" y=\"75.927429\" style=\"fill: #1f77b4; stroke: #1f77b4\"/>\n     <use xlink:href=\"#ma9f0df5ace\" x=\"119.328911\" y=\"72.250697\" style=\"fill: #1f77b4; stroke: #1f77b4\"/>\n     <use xlink:href=\"#ma9f0df5ace\" x=\"141.312177\" y=\"82.8178\" style=\"fill: #1f77b4; stroke: #1f77b4\"/>\n     <use xlink:href=\"#ma9f0df5ace\" x=\"121.903411\" y=\"65.646668\" style=\"fill: #1f77b4; stroke: #1f77b4\"/>\n     <use xlink:href=\"#ma9f0df5ace\" x=\"134.408485\" y=\"74.14484\" style=\"fill: #1f77b4; stroke: #1f77b4\"/>\n     <use xlink:href=\"#ma9f0df5ace\" x=\"189.792566\" y=\"111.867277\" style=\"fill: #1f77b4; stroke: #1f77b4\"/>\n     <use xlink:href=\"#ma9f0df5ace\" x=\"168.974468\" y=\"107.681449\" style=\"fill: #1f77b4; stroke: #1f77b4\"/>\n     <use xlink:href=\"#ma9f0df5ace\" x=\"90.722481\" y=\"50.302909\" style=\"fill: #1f77b4; stroke: #1f77b4\"/>\n     <use xlink:href=\"#ma9f0df5ace\" x=\"143.7748\" y=\"88.604149\" style=\"fill: #1f77b4; stroke: #1f77b4\"/>\n     <use xlink:href=\"#ma9f0df5ace\" x=\"125.609468\" y=\"86.905122\" style=\"fill: #1f77b4; stroke: #1f77b4\"/>\n     <use xlink:href=\"#ma9f0df5ace\" x=\"142.691151\" y=\"100.687117\" style=\"fill: #1f77b4; stroke: #1f77b4\"/>\n     <use xlink:href=\"#ma9f0df5ace\" x=\"68.351273\" y=\"31.805756\" style=\"fill: #1f77b4; stroke: #1f77b4\"/>\n     <use xlink:href=\"#ma9f0df5ace\" x=\"103.316965\" y=\"72.6411\" style=\"fill: #1f77b4; stroke: #1f77b4\"/>\n     <use xlink:href=\"#ma9f0df5ace\" x=\"142.237634\" y=\"95.800574\" style=\"fill: #1f77b4; stroke: #1f77b4\"/>\n     <use xlink:href=\"#ma9f0df5ace\" x=\"117.247459\" y=\"76.285812\" style=\"fill: #1f77b4; stroke: #1f77b4\"/>\n     <use xlink:href=\"#ma9f0df5ace\" x=\"122.035861\" y=\"71.898179\" style=\"fill: #1f77b4; stroke: #1f77b4\"/>\n     <use xlink:href=\"#ma9f0df5ace\" x=\"133.603951\" y=\"79.568223\" style=\"fill: #1f77b4; stroke: #1f77b4\"/>\n     <use xlink:href=\"#ma9f0df5ace\" x=\"170.220446\" y=\"107.578543\" style=\"fill: #1f77b4; stroke: #1f77b4\"/>\n     <use xlink:href=\"#ma9f0df5ace\" x=\"139.879238\" y=\"96.107177\" style=\"fill: #1f77b4; stroke: #1f77b4\"/>\n     <use xlink:href=\"#ma9f0df5ace\" x=\"147.460191\" y=\"122.101537\" style=\"fill: #1f77b4; stroke: #1f77b4\"/>\n     <use xlink:href=\"#ma9f0df5ace\" x=\"147.7296\" y=\"90.608213\" style=\"fill: #1f77b4; stroke: #1f77b4\"/>\n     <use xlink:href=\"#ma9f0df5ace\" x=\"190.71276\" y=\"125.466267\" style=\"fill: #1f77b4; stroke: #1f77b4\"/>\n     <use xlink:href=\"#ma9f0df5ace\" x=\"109.453499\" y=\"60.831998\" style=\"fill: #1f77b4; stroke: #1f77b4\"/>\n     <use xlink:href=\"#ma9f0df5ace\" x=\"153.155939\" y=\"84.828172\" style=\"fill: #1f77b4; stroke: #1f77b4\"/>\n     <use xlink:href=\"#ma9f0df5ace\" x=\"147.481052\" y=\"104.345593\" style=\"fill: #1f77b4; stroke: #1f77b4\"/>\n     <use xlink:href=\"#ma9f0df5ace\" x=\"150.090193\" y=\"86.664755\" style=\"fill: #1f77b4; stroke: #1f77b4\"/>\n     <use xlink:href=\"#ma9f0df5ace\" x=\"171.285044\" y=\"110.818176\" style=\"fill: #1f77b4; stroke: #1f77b4\"/>\n     <use xlink:href=\"#ma9f0df5ace\" x=\"100.925633\" y=\"77.200341\" style=\"fill: #1f77b4; stroke: #1f77b4\"/>\n     <use xlink:href=\"#ma9f0df5ace\" x=\"196.419107\" y=\"108.801146\" style=\"fill: #1f77b4; stroke: #1f77b4\"/>\n     <use xlink:href=\"#ma9f0df5ace\" x=\"108.400852\" y=\"51.083998\" style=\"fill: #1f77b4; stroke: #1f77b4\"/>\n     <use xlink:href=\"#ma9f0df5ace\" x=\"114.070135\" y=\"63.962349\" style=\"fill: #1f77b4; stroke: #1f77b4\"/>\n     <use xlink:href=\"#ma9f0df5ace\" x=\"142.591759\" y=\"88.982595\" style=\"fill: #1f77b4; stroke: #1f77b4\"/>\n     <use xlink:href=\"#ma9f0df5ace\" x=\"148.419484\" y=\"85.750868\" style=\"fill: #1f77b4; stroke: #1f77b4\"/>\n     <use xlink:href=\"#ma9f0df5ace\" x=\"117.523833\" y=\"72.637379\" style=\"fill: #1f77b4; stroke: #1f77b4\"/>\n     <use xlink:href=\"#ma9f0df5ace\" x=\"158.16155\" y=\"87.143561\" style=\"fill: #1f77b4; stroke: #1f77b4\"/>\n     <use xlink:href=\"#ma9f0df5ace\" x=\"167.047444\" y=\"95.059211\" style=\"fill: #1f77b4; stroke: #1f77b4\"/>\n     <use xlink:href=\"#ma9f0df5ace\" x=\"87.215381\" y=\"60.185886\" style=\"fill: #1f77b4; stroke: #1f77b4\"/>\n     <use xlink:href=\"#ma9f0df5ace\" x=\"109.408135\" y=\"73.62802\" style=\"fill: #1f77b4; stroke: #1f77b4\"/>\n     <use xlink:href=\"#ma9f0df5ace\" x=\"161.001351\" y=\"110.163613\" style=\"fill: #1f77b4; stroke: #1f77b4\"/>\n     <use xlink:href=\"#ma9f0df5ace\" x=\"128.63556\" y=\"72.505059\" style=\"fill: #1f77b4; stroke: #1f77b4\"/>\n     <use xlink:href=\"#ma9f0df5ace\" x=\"183.842359\" y=\"124.816528\" style=\"fill: #1f77b4; stroke: #1f77b4\"/>\n     <use xlink:href=\"#ma9f0df5ace\" x=\"122.810768\" y=\"79.022737\" style=\"fill: #1f77b4; stroke: #1f77b4\"/>\n     <use xlink:href=\"#ma9f0df5ace\" x=\"161.361698\" y=\"98.436252\" style=\"fill: #1f77b4; stroke: #1f77b4\"/>\n     <use xlink:href=\"#ma9f0df5ace\" x=\"142.215495\" y=\"85.739617\" style=\"fill: #1f77b4; stroke: #1f77b4\"/>\n     <use xlink:href=\"#ma9f0df5ace\" x=\"175.555252\" y=\"105.441259\" style=\"fill: #1f77b4; stroke: #1f77b4\"/>\n     <use xlink:href=\"#ma9f0df5ace\" x=\"103.627099\" y=\"52.69183\" style=\"fill: #1f77b4; stroke: #1f77b4\"/>\n     <use xlink:href=\"#ma9f0df5ace\" x=\"126.716411\" y=\"64.389461\" style=\"fill: #1f77b4; stroke: #1f77b4\"/>\n     <use xlink:href=\"#ma9f0df5ace\" x=\"191.764501\" y=\"132.756604\" style=\"fill: #1f77b4; stroke: #1f77b4\"/>\n     <use xlink:href=\"#ma9f0df5ace\" x=\"114.608605\" y=\"68.648322\" style=\"fill: #1f77b4; stroke: #1f77b4\"/>\n     <use xlink:href=\"#ma9f0df5ace\" x=\"108.969451\" y=\"65.906988\" style=\"fill: #1f77b4; stroke: #1f77b4\"/>\n     <use xlink:href=\"#ma9f0df5ace\" x=\"108.614904\" y=\"65.09453\" style=\"fill: #1f77b4; stroke: #1f77b4\"/>\n     <use xlink:href=\"#ma9f0df5ace\" x=\"144.140691\" y=\"100.412515\" style=\"fill: #1f77b4; stroke: #1f77b4\"/>\n     <use xlink:href=\"#ma9f0df5ace\" x=\"117.482423\" y=\"58.715353\" style=\"fill: #1f77b4; stroke: #1f77b4\"/>\n     <use xlink:href=\"#ma9f0df5ace\" x=\"98.675609\" y=\"43.358242\" style=\"fill: #1f77b4; stroke: #1f77b4\"/>\n     <use xlink:href=\"#ma9f0df5ace\" x=\"138.664603\" y=\"93.036792\" style=\"fill: #1f77b4; stroke: #1f77b4\"/>\n     <use xlink:href=\"#ma9f0df5ace\" x=\"123.934155\" y=\"95.924837\" style=\"fill: #1f77b4; stroke: #1f77b4\"/>\n     <use xlink:href=\"#ma9f0df5ace\" x=\"128.165266\" y=\"66.274163\" style=\"fill: #1f77b4; stroke: #1f77b4\"/>\n     <use xlink:href=\"#ma9f0df5ace\" x=\"149.356717\" y=\"75.684472\" style=\"fill: #1f77b4; stroke: #1f77b4\"/>\n     <use xlink:href=\"#ma9f0df5ace\" x=\"121.150608\" y=\"79.81212\" style=\"fill: #1f77b4; stroke: #1f77b4\"/>\n     <use xlink:href=\"#ma9f0df5ace\" x=\"128.281862\" y=\"98.756999\" style=\"fill: #1f77b4; stroke: #1f77b4\"/>\n     <use xlink:href=\"#ma9f0df5ace\" x=\"204.776608\" y=\"139.5\" style=\"fill: #1f77b4; stroke: #1f77b4\"/>\n     <use xlink:href=\"#ma9f0df5ace\" x=\"115.674086\" y=\"70.500241\" style=\"fill: #1f77b4; stroke: #1f77b4\"/>\n     <use xlink:href=\"#ma9f0df5ace\" x=\"147.386541\" y=\"94.950915\" style=\"fill: #1f77b4; stroke: #1f77b4\"/>\n     <use xlink:href=\"#ma9f0df5ace\" x=\"144.504319\" y=\"72.108389\" style=\"fill: #1f77b4; stroke: #1f77b4\"/>\n     <use xlink:href=\"#ma9f0df5ace\" x=\"149.05322\" y=\"93.354969\" style=\"fill: #1f77b4; stroke: #1f77b4\"/>\n     <use xlink:href=\"#ma9f0df5ace\" x=\"122.830029\" y=\"69.936692\" style=\"fill: #1f77b4; stroke: #1f77b4\"/>\n     <use xlink:href=\"#ma9f0df5ace\" x=\"186.944696\" y=\"104.643785\" style=\"fill: #1f77b4; stroke: #1f77b4\"/>\n     <use xlink:href=\"#ma9f0df5ace\" x=\"110.798281\" y=\"58.680689\" style=\"fill: #1f77b4; stroke: #1f77b4\"/>\n     <use xlink:href=\"#ma9f0df5ace\" x=\"125.596875\" y=\"73.924781\" style=\"fill: #1f77b4; stroke: #1f77b4\"/>\n     <use xlink:href=\"#ma9f0df5ace\" x=\"125.451593\" y=\"76.454627\" style=\"fill: #1f77b4; stroke: #1f77b4\"/>\n     <use xlink:href=\"#ma9f0df5ace\" x=\"155.832666\" y=\"100.946767\" style=\"fill: #1f77b4; stroke: #1f77b4\"/>\n     <use xlink:href=\"#ma9f0df5ace\" x=\"118.24552\" y=\"84.773509\" style=\"fill: #1f77b4; stroke: #1f77b4\"/>\n     <use xlink:href=\"#ma9f0df5ace\" x=\"180.108323\" y=\"108.890969\" style=\"fill: #1f77b4; stroke: #1f77b4\"/>\n     <use xlink:href=\"#ma9f0df5ace\" x=\"104.697909\" y=\"59.490258\" style=\"fill: #1f77b4; stroke: #1f77b4\"/>\n     <use xlink:href=\"#ma9f0df5ace\" x=\"107.708029\" y=\"62.559975\" style=\"fill: #1f77b4; stroke: #1f77b4\"/>\n     <use xlink:href=\"#ma9f0df5ace\" x=\"152.800248\" y=\"88.431386\" style=\"fill: #1f77b4; stroke: #1f77b4\"/>\n     <use xlink:href=\"#ma9f0df5ace\" x=\"109.918577\" y=\"86.155483\" style=\"fill: #1f77b4; stroke: #1f77b4\"/>\n     <use xlink:href=\"#ma9f0df5ace\" x=\"85.643504\" y=\"58.841453\" style=\"fill: #1f77b4; stroke: #1f77b4\"/>\n     <use xlink:href=\"#ma9f0df5ace\" x=\"85.529042\" y=\"66.324384\" style=\"fill: #1f77b4; stroke: #1f77b4\"/>\n     <use xlink:href=\"#ma9f0df5ace\" x=\"112.90469\" y=\"88.624343\" style=\"fill: #1f77b4; stroke: #1f77b4\"/>\n     <use xlink:href=\"#ma9f0df5ace\" x=\"178.422436\" y=\"109.582795\" style=\"fill: #1f77b4; stroke: #1f77b4\"/>\n     <use xlink:href=\"#ma9f0df5ace\" x=\"157.47821\" y=\"103.783034\" style=\"fill: #1f77b4; stroke: #1f77b4\"/>\n     <use xlink:href=\"#ma9f0df5ace\" x=\"113.14314\" y=\"54.559988\" style=\"fill: #1f77b4; stroke: #1f77b4\"/>\n     <use xlink:href=\"#ma9f0df5ace\" x=\"157.368177\" y=\"82.200588\" style=\"fill: #1f77b4; stroke: #1f77b4\"/>\n     <use xlink:href=\"#ma9f0df5ace\" x=\"64.388649\" y=\"34.672903\" style=\"fill: #1f77b4; stroke: #1f77b4\"/>\n     <use xlink:href=\"#ma9f0df5ace\" x=\"188.158278\" y=\"112.923953\" style=\"fill: #1f77b4; stroke: #1f77b4\"/>\n     <use xlink:href=\"#ma9f0df5ace\" x=\"116.579892\" y=\"79.431227\" style=\"fill: #1f77b4; stroke: #1f77b4\"/>\n     <use xlink:href=\"#ma9f0df5ace\" x=\"129.160953\" y=\"101.101868\" style=\"fill: #1f77b4; stroke: #1f77b4\"/>\n     <use xlink:href=\"#ma9f0df5ace\" x=\"106.481883\" y=\"70.591195\" style=\"fill: #1f77b4; stroke: #1f77b4\"/>\n     <use xlink:href=\"#ma9f0df5ace\" x=\"101.951642\" y=\"56.799133\" style=\"fill: #1f77b4; stroke: #1f77b4\"/>\n     <use xlink:href=\"#ma9f0df5ace\" x=\"156.771514\" y=\"93.095895\" style=\"fill: #1f77b4; stroke: #1f77b4\"/>\n     <use xlink:href=\"#ma9f0df5ace\" x=\"162.125424\" y=\"106.622794\" style=\"fill: #1f77b4; stroke: #1f77b4\"/>\n     <use xlink:href=\"#ma9f0df5ace\" x=\"118.746434\" y=\"69.170195\" style=\"fill: #1f77b4; stroke: #1f77b4\"/>\n     <use xlink:href=\"#ma9f0df5ace\" x=\"150.978978\" y=\"86.644373\" style=\"fill: #1f77b4; stroke: #1f77b4\"/>\n     <use xlink:href=\"#ma9f0df5ace\" x=\"116.903554\" y=\"79.078246\" style=\"fill: #1f77b4; stroke: #1f77b4\"/>\n     <use xlink:href=\"#ma9f0df5ace\" x=\"159.557004\" y=\"106.148861\" style=\"fill: #1f77b4; stroke: #1f77b4\"/>\n     <use xlink:href=\"#ma9f0df5ace\" x=\"127.218251\" y=\"78.052748\" style=\"fill: #1f77b4; stroke: #1f77b4\"/>\n     <use xlink:href=\"#ma9f0df5ace\" x=\"163.069941\" y=\"95.479861\" style=\"fill: #1f77b4; stroke: #1f77b4\"/>\n     <use xlink:href=\"#ma9f0df5ace\" x=\"128.737534\" y=\"82.598903\" style=\"fill: #1f77b4; stroke: #1f77b4\"/>\n     <use xlink:href=\"#ma9f0df5ace\" x=\"171.126493\" y=\"104.844993\" style=\"fill: #1f77b4; stroke: #1f77b4\"/>\n     <use xlink:href=\"#ma9f0df5ace\" x=\"161.327347\" y=\"85.801736\" style=\"fill: #1f77b4; stroke: #1f77b4\"/>\n     <use xlink:href=\"#ma9f0df5ace\" x=\"175.037864\" y=\"106.151574\" style=\"fill: #1f77b4; stroke: #1f77b4\"/>\n     <use xlink:href=\"#ma9f0df5ace\" x=\"124.301012\" y=\"76.912166\" style=\"fill: #1f77b4; stroke: #1f77b4\"/>\n     <use xlink:href=\"#ma9f0df5ace\" x=\"131.9222\" y=\"78.510694\" style=\"fill: #1f77b4; stroke: #1f77b4\"/>\n     <use xlink:href=\"#ma9f0df5ace\" x=\"110.670896\" y=\"82.975841\" style=\"fill: #1f77b4; stroke: #1f77b4\"/>\n     <use xlink:href=\"#ma9f0df5ace\" x=\"186.01877\" y=\"116.603021\" style=\"fill: #1f77b4; stroke: #1f77b4\"/>\n     <use xlink:href=\"#ma9f0df5ace\" x=\"103.461957\" y=\"71.894387\" style=\"fill: #1f77b4; stroke: #1f77b4\"/>\n     <use xlink:href=\"#ma9f0df5ace\" x=\"145.092231\" y=\"66.327659\" style=\"fill: #1f77b4; stroke: #1f77b4\"/>\n     <use xlink:href=\"#ma9f0df5ace\" x=\"173.590779\" y=\"102.470055\" style=\"fill: #1f77b4; stroke: #1f77b4\"/>\n     <use xlink:href=\"#ma9f0df5ace\" x=\"135.292612\" y=\"83.502295\" style=\"fill: #1f77b4; stroke: #1f77b4\"/>\n     <use xlink:href=\"#ma9f0df5ace\" x=\"158.732022\" y=\"90.518497\" style=\"fill: #1f77b4; stroke: #1f77b4\"/>\n     <use xlink:href=\"#ma9f0df5ace\" x=\"119.939407\" y=\"70.78933\" style=\"fill: #1f77b4; stroke: #1f77b4\"/>\n     <use xlink:href=\"#ma9f0df5ace\" x=\"115.906258\" y=\"57.746811\" style=\"fill: #1f77b4; stroke: #1f77b4\"/>\n     <use xlink:href=\"#ma9f0df5ace\" x=\"68.399147\" y=\"46.1978\" style=\"fill: #1f77b4; stroke: #1f77b4\"/>\n     <use xlink:href=\"#ma9f0df5ace\" x=\"115.566512\" y=\"64.89097\" style=\"fill: #1f77b4; stroke: #1f77b4\"/>\n     <use xlink:href=\"#ma9f0df5ace\" x=\"140.583619\" y=\"75.701009\" style=\"fill: #1f77b4; stroke: #1f77b4\"/>\n     <use xlink:href=\"#ma9f0df5ace\" x=\"116.237876\" y=\"61.251167\" style=\"fill: #1f77b4; stroke: #1f77b4\"/>\n     <use xlink:href=\"#ma9f0df5ace\" x=\"146.505566\" y=\"85.207675\" style=\"fill: #1f77b4; stroke: #1f77b4\"/>\n     <use xlink:href=\"#ma9f0df5ace\" x=\"125.001698\" y=\"71.718684\" style=\"fill: #1f77b4; stroke: #1f77b4\"/>\n     <use xlink:href=\"#ma9f0df5ace\" x=\"173.899436\" y=\"104.741637\" style=\"fill: #1f77b4; stroke: #1f77b4\"/>\n     <use xlink:href=\"#ma9f0df5ace\" x=\"118.452915\" y=\"84.269557\" style=\"fill: #1f77b4; stroke: #1f77b4\"/>\n     <use xlink:href=\"#ma9f0df5ace\" x=\"118.373736\" y=\"72.147171\" style=\"fill: #1f77b4; stroke: #1f77b4\"/>\n     <use xlink:href=\"#ma9f0df5ace\" x=\"132.460846\" y=\"83.309355\" style=\"fill: #1f77b4; stroke: #1f77b4\"/>\n     <use xlink:href=\"#ma9f0df5ace\" x=\"117.355252\" y=\"63.252301\" style=\"fill: #1f77b4; stroke: #1f77b4\"/>\n     <use xlink:href=\"#ma9f0df5ace\" x=\"80.519662\" y=\"43.761377\" style=\"fill: #1f77b4; stroke: #1f77b4\"/>\n     <use xlink:href=\"#ma9f0df5ace\" x=\"152.905942\" y=\"106.511489\" style=\"fill: #1f77b4; stroke: #1f77b4\"/>\n     <use xlink:href=\"#ma9f0df5ace\" x=\"118.190677\" y=\"86.665315\" style=\"fill: #1f77b4; stroke: #1f77b4\"/>\n     <use xlink:href=\"#ma9f0df5ace\" x=\"197.753296\" y=\"118.713037\" style=\"fill: #1f77b4; stroke: #1f77b4\"/>\n     <use xlink:href=\"#ma9f0df5ace\" x=\"89.21832\" y=\"55.014259\" style=\"fill: #1f77b4; stroke: #1f77b4\"/>\n     <use xlink:href=\"#ma9f0df5ace\" x=\"83.989055\" y=\"42.167916\" style=\"fill: #1f77b4; stroke: #1f77b4\"/>\n     <use xlink:href=\"#ma9f0df5ace\" x=\"121.648305\" y=\"74.554563\" style=\"fill: #1f77b4; stroke: #1f77b4\"/>\n     <use xlink:href=\"#ma9f0df5ace\" x=\"114.176284\" y=\"85.481273\" style=\"fill: #1f77b4; stroke: #1f77b4\"/>\n     <use xlink:href=\"#ma9f0df5ace\" x=\"165.580036\" y=\"96.467738\" style=\"fill: #1f77b4; stroke: #1f77b4\"/>\n     <use xlink:href=\"#ma9f0df5ace\" x=\"58.41827\" y=\"39.486858\" style=\"fill: #1f77b4; stroke: #1f77b4\"/>\n     <use xlink:href=\"#ma9f0df5ace\" x=\"146.778439\" y=\"83.907777\" style=\"fill: #1f77b4; stroke: #1f77b4\"/>\n     <use xlink:href=\"#ma9f0df5ace\" x=\"93.083388\" y=\"51.567126\" style=\"fill: #1f77b4; stroke: #1f77b4\"/>\n     <use xlink:href=\"#ma9f0df5ace\" x=\"157.625665\" y=\"82.546903\" style=\"fill: #1f77b4; stroke: #1f77b4\"/>\n     <use xlink:href=\"#ma9f0df5ace\" x=\"150.937802\" y=\"103.286454\" style=\"fill: #1f77b4; stroke: #1f77b4\"/>\n     <use xlink:href=\"#ma9f0df5ace\" x=\"101.143789\" y=\"69.702998\" style=\"fill: #1f77b4; stroke: #1f77b4\"/>\n     <use xlink:href=\"#ma9f0df5ace\" x=\"153.2577\" y=\"92.196895\" style=\"fill: #1f77b4; stroke: #1f77b4\"/>\n     <use xlink:href=\"#ma9f0df5ace\" x=\"170.58235\" y=\"126.215731\" style=\"fill: #1f77b4; stroke: #1f77b4\"/>\n     <use xlink:href=\"#ma9f0df5ace\" x=\"103.569833\" y=\"58.006693\" style=\"fill: #1f77b4; stroke: #1f77b4\"/>\n     <use xlink:href=\"#ma9f0df5ace\" x=\"147.657933\" y=\"85.009779\" style=\"fill: #1f77b4; stroke: #1f77b4\"/>\n     <use xlink:href=\"#ma9f0df5ace\" x=\"119.571669\" y=\"75.000982\" style=\"fill: #1f77b4; stroke: #1f77b4\"/>\n     <use xlink:href=\"#ma9f0df5ace\" x=\"118.136829\" y=\"64.863403\" style=\"fill: #1f77b4; stroke: #1f77b4\"/>\n     <use xlink:href=\"#ma9f0df5ace\" x=\"131.869317\" y=\"78.444799\" style=\"fill: #1f77b4; stroke: #1f77b4\"/>\n     <use xlink:href=\"#ma9f0df5ace\" x=\"68.477193\" y=\"49.301056\" style=\"fill: #1f77b4; stroke: #1f77b4\"/>\n     <use xlink:href=\"#ma9f0df5ace\" x=\"133.876194\" y=\"63.376898\" style=\"fill: #1f77b4; stroke: #1f77b4\"/>\n     <use xlink:href=\"#ma9f0df5ace\" x=\"136.212041\" y=\"74.59224\" style=\"fill: #1f77b4; stroke: #1f77b4\"/>\n     <use xlink:href=\"#ma9f0df5ace\" x=\"151.586649\" y=\"106.097496\" style=\"fill: #1f77b4; stroke: #1f77b4\"/>\n     <use xlink:href=\"#ma9f0df5ace\" x=\"144.608957\" y=\"86.38791\" style=\"fill: #1f77b4; stroke: #1f77b4\"/>\n     <use xlink:href=\"#ma9f0df5ace\" x=\"135.374544\" y=\"105.794468\" style=\"fill: #1f77b4; stroke: #1f77b4\"/>\n     <use xlink:href=\"#ma9f0df5ace\" x=\"132.740139\" y=\"89.188336\" style=\"fill: #1f77b4; stroke: #1f77b4\"/>\n     <use xlink:href=\"#ma9f0df5ace\" x=\"149.484878\" y=\"82.281156\" style=\"fill: #1f77b4; stroke: #1f77b4\"/>\n     <use xlink:href=\"#ma9f0df5ace\" x=\"140.569167\" y=\"85.603489\" style=\"fill: #1f77b4; stroke: #1f77b4\"/>\n     <use xlink:href=\"#ma9f0df5ace\" x=\"133.507505\" y=\"91.70741\" style=\"fill: #1f77b4; stroke: #1f77b4\"/>\n     <use xlink:href=\"#ma9f0df5ace\" x=\"176.479902\" y=\"122.396189\" style=\"fill: #1f77b4; stroke: #1f77b4\"/>\n     <use xlink:href=\"#ma9f0df5ace\" x=\"153.893818\" y=\"89.014894\" style=\"fill: #1f77b4; stroke: #1f77b4\"/>\n     <use xlink:href=\"#ma9f0df5ace\" x=\"159.252532\" y=\"101.408337\" style=\"fill: #1f77b4; stroke: #1f77b4\"/>\n     <use xlink:href=\"#ma9f0df5ace\" x=\"171.015641\" y=\"123.153993\" style=\"fill: #1f77b4; stroke: #1f77b4\"/>\n     <use xlink:href=\"#ma9f0df5ace\" x=\"93.123375\" y=\"46.246579\" style=\"fill: #1f77b4; stroke: #1f77b4\"/>\n     <use xlink:href=\"#ma9f0df5ace\" x=\"143.389624\" y=\"86.761779\" style=\"fill: #1f77b4; stroke: #1f77b4\"/>\n     <use xlink:href=\"#ma9f0df5ace\" x=\"106.191273\" y=\"73.881075\" style=\"fill: #1f77b4; stroke: #1f77b4\"/>\n     <use xlink:href=\"#ma9f0df5ace\" x=\"151.079756\" y=\"80.54443\" style=\"fill: #1f77b4; stroke: #1f77b4\"/>\n     <use xlink:href=\"#ma9f0df5ace\" x=\"135.273932\" y=\"119.012455\" style=\"fill: #1f77b4; stroke: #1f77b4\"/>\n     <use xlink:href=\"#ma9f0df5ace\" x=\"118.925521\" y=\"70.724658\" style=\"fill: #1f77b4; stroke: #1f77b4\"/>\n     <use xlink:href=\"#ma9f0df5ace\" x=\"95.534329\" y=\"55.872572\" style=\"fill: #1f77b4; stroke: #1f77b4\"/>\n     <use xlink:href=\"#ma9f0df5ace\" x=\"194.613615\" y=\"138.895754\" style=\"fill: #1f77b4; stroke: #1f77b4\"/>\n     <use xlink:href=\"#ma9f0df5ace\" x=\"125.519493\" y=\"89.096693\" style=\"fill: #1f77b4; stroke: #1f77b4\"/>\n     <use xlink:href=\"#ma9f0df5ace\" x=\"161.830195\" y=\"91.081145\" style=\"fill: #1f77b4; stroke: #1f77b4\"/>\n     <use xlink:href=\"#ma9f0df5ace\" x=\"142.163595\" y=\"97.128015\" style=\"fill: #1f77b4; stroke: #1f77b4\"/>\n     <use xlink:href=\"#ma9f0df5ace\" x=\"98.674715\" y=\"51.639803\" style=\"fill: #1f77b4; stroke: #1f77b4\"/>\n     <use xlink:href=\"#ma9f0df5ace\" x=\"116.570924\" y=\"75.775812\" style=\"fill: #1f77b4; stroke: #1f77b4\"/>\n     <use xlink:href=\"#ma9f0df5ace\" x=\"154.578402\" y=\"109.274731\" style=\"fill: #1f77b4; stroke: #1f77b4\"/>\n     <use xlink:href=\"#ma9f0df5ace\" x=\"106.838842\" y=\"55.807532\" style=\"fill: #1f77b4; stroke: #1f77b4\"/>\n     <use xlink:href=\"#ma9f0df5ace\" x=\"171.068363\" y=\"119.887986\" style=\"fill: #1f77b4; stroke: #1f77b4\"/>\n     <use xlink:href=\"#ma9f0df5ace\" x=\"125.609158\" y=\"86.068435\" style=\"fill: #1f77b4; stroke: #1f77b4\"/>\n     <use xlink:href=\"#ma9f0df5ace\" x=\"117.909449\" y=\"67.817769\" style=\"fill: #1f77b4; stroke: #1f77b4\"/>\n     <use xlink:href=\"#ma9f0df5ace\" x=\"164.872183\" y=\"106.861113\" style=\"fill: #1f77b4; stroke: #1f77b4\"/>\n     <use xlink:href=\"#ma9f0df5ace\" x=\"154.345913\" y=\"84.7928\" style=\"fill: #1f77b4; stroke: #1f77b4\"/>\n     <use xlink:href=\"#ma9f0df5ace\" x=\"127.710553\" y=\"67.224977\" style=\"fill: #1f77b4; stroke: #1f77b4\"/>\n     <use xlink:href=\"#ma9f0df5ace\" x=\"121.277813\" y=\"88.271627\" style=\"fill: #1f77b4; stroke: #1f77b4\"/>\n     <use xlink:href=\"#ma9f0df5ace\" x=\"149.664153\" y=\"89.803564\" style=\"fill: #1f77b4; stroke: #1f77b4\"/>\n     <use xlink:href=\"#ma9f0df5ace\" x=\"128.579554\" y=\"99.130323\" style=\"fill: #1f77b4; stroke: #1f77b4\"/>\n     <use xlink:href=\"#ma9f0df5ace\" x=\"118.172337\" y=\"78.760862\" style=\"fill: #1f77b4; stroke: #1f77b4\"/>\n     <use xlink:href=\"#ma9f0df5ace\" x=\"124.191628\" y=\"83.941112\" style=\"fill: #1f77b4; stroke: #1f77b4\"/>\n     <use xlink:href=\"#ma9f0df5ace\" x=\"143.688814\" y=\"102.047231\" style=\"fill: #1f77b4; stroke: #1f77b4\"/>\n     <use xlink:href=\"#ma9f0df5ace\" x=\"184.066698\" y=\"115.276038\" style=\"fill: #1f77b4; stroke: #1f77b4\"/>\n     <use xlink:href=\"#ma9f0df5ace\" x=\"76.94759\" y=\"57.767408\" style=\"fill: #1f77b4; stroke: #1f77b4\"/>\n     <use xlink:href=\"#ma9f0df5ace\" x=\"100.465288\" y=\"66.645789\" style=\"fill: #1f77b4; stroke: #1f77b4\"/>\n     <use xlink:href=\"#ma9f0df5ace\" x=\"116.960449\" y=\"87.869986\" style=\"fill: #1f77b4; stroke: #1f77b4\"/>\n     <use xlink:href=\"#ma9f0df5ace\" x=\"197.105852\" y=\"125.198893\" style=\"fill: #1f77b4; stroke: #1f77b4\"/>\n     <use xlink:href=\"#ma9f0df5ace\" x=\"169.670491\" y=\"121.395007\" style=\"fill: #1f77b4; stroke: #1f77b4\"/>\n     <use xlink:href=\"#ma9f0df5ace\" x=\"162.29804\" y=\"120.350231\" style=\"fill: #1f77b4; stroke: #1f77b4\"/>\n     <use xlink:href=\"#ma9f0df5ace\" x=\"125.131998\" y=\"89.049468\" style=\"fill: #1f77b4; stroke: #1f77b4\"/>\n     <use xlink:href=\"#ma9f0df5ace\" x=\"109.547142\" y=\"55.937849\" style=\"fill: #1f77b4; stroke: #1f77b4\"/>\n     <use xlink:href=\"#ma9f0df5ace\" x=\"129.350098\" y=\"70.272714\" style=\"fill: #1f77b4; stroke: #1f77b4\"/>\n     <use xlink:href=\"#ma9f0df5ace\" x=\"81.622582\" y=\"32.199076\" style=\"fill: #1f77b4; stroke: #1f77b4\"/>\n     <use xlink:href=\"#ma9f0df5ace\" x=\"157.861281\" y=\"103.402303\" style=\"fill: #1f77b4; stroke: #1f77b4\"/>\n     <use xlink:href=\"#ma9f0df5ace\" x=\"92.460066\" y=\"55.812635\" style=\"fill: #1f77b4; stroke: #1f77b4\"/>\n     <use xlink:href=\"#ma9f0df5ace\" x=\"54.011614\" y=\"36.68665\" style=\"fill: #1f77b4; stroke: #1f77b4\"/>\n     <use xlink:href=\"#ma9f0df5ace\" x=\"171.019364\" y=\"97.025665\" style=\"fill: #1f77b4; stroke: #1f77b4\"/>\n     <use xlink:href=\"#ma9f0df5ace\" x=\"101.07596\" y=\"78.377864\" style=\"fill: #1f77b4; stroke: #1f77b4\"/>\n     <use xlink:href=\"#ma9f0df5ace\" x=\"160.739513\" y=\"125.964202\" style=\"fill: #1f77b4; stroke: #1f77b4\"/>\n     <use xlink:href=\"#ma9f0df5ace\" x=\"119.572759\" y=\"66.608694\" style=\"fill: #1f77b4; stroke: #1f77b4\"/>\n     <use xlink:href=\"#ma9f0df5ace\" x=\"169.989653\" y=\"103.626502\" style=\"fill: #1f77b4; stroke: #1f77b4\"/>\n     <use xlink:href=\"#ma9f0df5ace\" x=\"104.939736\" y=\"56.204889\" style=\"fill: #1f77b4; stroke: #1f77b4\"/>\n     <use xlink:href=\"#ma9f0df5ace\" x=\"113.506722\" y=\"66.318678\" style=\"fill: #1f77b4; stroke: #1f77b4\"/>\n     <use xlink:href=\"#ma9f0df5ace\" x=\"140.069982\" y=\"80.285948\" style=\"fill: #1f77b4; stroke: #1f77b4\"/>\n     <use xlink:href=\"#ma9f0df5ace\" x=\"149.140836\" y=\"102.075901\" style=\"fill: #1f77b4; stroke: #1f77b4\"/>\n     <use xlink:href=\"#ma9f0df5ace\" x=\"104.896099\" y=\"72.959514\" style=\"fill: #1f77b4; stroke: #1f77b4\"/>\n     <use xlink:href=\"#ma9f0df5ace\" x=\"79.961624\" y=\"61.204057\" style=\"fill: #1f77b4; stroke: #1f77b4\"/>\n     <use xlink:href=\"#ma9f0df5ace\" x=\"115.777687\" y=\"76.74926\" style=\"fill: #1f77b4; stroke: #1f77b4\"/>\n     <use xlink:href=\"#ma9f0df5ace\" x=\"114.28634\" y=\"69.993073\" style=\"fill: #1f77b4; stroke: #1f77b4\"/>\n     <use xlink:href=\"#ma9f0df5ace\" x=\"118.977178\" y=\"68.721982\" style=\"fill: #1f77b4; stroke: #1f77b4\"/>\n     <use xlink:href=\"#ma9f0df5ace\" x=\"75.672838\" y=\"43.480702\" style=\"fill: #1f77b4; stroke: #1f77b4\"/>\n     <use xlink:href=\"#ma9f0df5ace\" x=\"130.460238\" y=\"78.795916\" style=\"fill: #1f77b4; stroke: #1f77b4\"/>\n     <use xlink:href=\"#ma9f0df5ace\" x=\"68.216918\" y=\"54.097879\" style=\"fill: #1f77b4; stroke: #1f77b4\"/>\n     <use xlink:href=\"#ma9f0df5ace\" x=\"124.362932\" y=\"63.207359\" style=\"fill: #1f77b4; stroke: #1f77b4\"/>\n     <use xlink:href=\"#ma9f0df5ace\" x=\"126.181228\" y=\"73.20519\" style=\"fill: #1f77b4; stroke: #1f77b4\"/>\n     <use xlink:href=\"#ma9f0df5ace\" x=\"69.73987\" y=\"52.371068\" style=\"fill: #1f77b4; stroke: #1f77b4\"/>\n     <use xlink:href=\"#ma9f0df5ace\" x=\"125.860112\" y=\"81.908752\" style=\"fill: #1f77b4; stroke: #1f77b4\"/>\n     <use xlink:href=\"#ma9f0df5ace\" x=\"158.651899\" y=\"104.833284\" style=\"fill: #1f77b4; stroke: #1f77b4\"/>\n     <use xlink:href=\"#ma9f0df5ace\" x=\"91.604672\" y=\"69.054711\" style=\"fill: #1f77b4; stroke: #1f77b4\"/>\n     <use xlink:href=\"#ma9f0df5ace\" x=\"137.971326\" y=\"95.190739\" style=\"fill: #1f77b4; stroke: #1f77b4\"/>\n     <use xlink:href=\"#ma9f0df5ace\" x=\"69.195835\" y=\"50.327836\" style=\"fill: #1f77b4; stroke: #1f77b4\"/>\n     <use xlink:href=\"#ma9f0df5ace\" x=\"118.880803\" y=\"90.052047\" style=\"fill: #1f77b4; stroke: #1f77b4\"/>\n     <use xlink:href=\"#ma9f0df5ace\" x=\"128.067736\" y=\"77.021683\" style=\"fill: #1f77b4; stroke: #1f77b4\"/>\n     <use xlink:href=\"#ma9f0df5ace\" x=\"83.244194\" y=\"50.862442\" style=\"fill: #1f77b4; stroke: #1f77b4\"/>\n     <use xlink:href=\"#ma9f0df5ace\" x=\"130.212706\" y=\"95.485377\" style=\"fill: #1f77b4; stroke: #1f77b4\"/>\n     <use xlink:href=\"#ma9f0df5ace\" x=\"91.185415\" y=\"57.705261\" style=\"fill: #1f77b4; stroke: #1f77b4\"/>\n     <use xlink:href=\"#ma9f0df5ace\" x=\"141.075288\" y=\"96.210646\" style=\"fill: #1f77b4; stroke: #1f77b4\"/>\n     <use xlink:href=\"#ma9f0df5ace\" x=\"110.513828\" y=\"69.958581\" style=\"fill: #1f77b4; stroke: #1f77b4\"/>\n     <use xlink:href=\"#ma9f0df5ace\" x=\"146.712806\" y=\"99.834175\" style=\"fill: #1f77b4; stroke: #1f77b4\"/>\n     <use xlink:href=\"#ma9f0df5ace\" x=\"181.988885\" y=\"132.823776\" style=\"fill: #1f77b4; stroke: #1f77b4\"/>\n     <use xlink:href=\"#ma9f0df5ace\" x=\"142.312075\" y=\"89.171422\" style=\"fill: #1f77b4; stroke: #1f77b4\"/>\n     <use xlink:href=\"#ma9f0df5ace\" x=\"120.613303\" y=\"80.199547\" style=\"fill: #1f77b4; stroke: #1f77b4\"/>\n     <use xlink:href=\"#ma9f0df5ace\" x=\"120.598083\" y=\"73.697725\" style=\"fill: #1f77b4; stroke: #1f77b4\"/>\n     <use xlink:href=\"#ma9f0df5ace\" x=\"154.229505\" y=\"114.831627\" style=\"fill: #1f77b4; stroke: #1f77b4\"/>\n     <use xlink:href=\"#ma9f0df5ace\" x=\"107.475867\" y=\"73.725619\" style=\"fill: #1f77b4; stroke: #1f77b4\"/>\n     <use xlink:href=\"#ma9f0df5ace\" x=\"135.082155\" y=\"89.193647\" style=\"fill: #1f77b4; stroke: #1f77b4\"/>\n     <use xlink:href=\"#ma9f0df5ace\" x=\"129.756084\" y=\"94.72018\" style=\"fill: #1f77b4; stroke: #1f77b4\"/>\n     <use xlink:href=\"#ma9f0df5ace\" x=\"79.735346\" y=\"58.013346\" style=\"fill: #1f77b4; stroke: #1f77b4\"/>\n     <use xlink:href=\"#ma9f0df5ace\" x=\"113.509733\" y=\"76.313041\" style=\"fill: #1f77b4; stroke: #1f77b4\"/>\n     <use xlink:href=\"#ma9f0df5ace\" x=\"112.327185\" y=\"84.658622\" style=\"fill: #1f77b4; stroke: #1f77b4\"/>\n     <use xlink:href=\"#ma9f0df5ace\" x=\"143.572396\" y=\"96.011599\" style=\"fill: #1f77b4; stroke: #1f77b4\"/>\n     <use xlink:href=\"#ma9f0df5ace\" x=\"143.534635\" y=\"66.227562\" style=\"fill: #1f77b4; stroke: #1f77b4\"/>\n     <use xlink:href=\"#ma9f0df5ace\" x=\"142.909589\" y=\"87.969763\" style=\"fill: #1f77b4; stroke: #1f77b4\"/>\n     <use xlink:href=\"#ma9f0df5ace\" x=\"147.791624\" y=\"101.157228\" style=\"fill: #1f77b4; stroke: #1f77b4\"/>\n     <use xlink:href=\"#ma9f0df5ace\" x=\"155.188858\" y=\"91.282899\" style=\"fill: #1f77b4; stroke: #1f77b4\"/>\n     <use xlink:href=\"#ma9f0df5ace\" x=\"148.478068\" y=\"104.038929\" style=\"fill: #1f77b4; stroke: #1f77b4\"/>\n     <use xlink:href=\"#ma9f0df5ace\" x=\"189.842196\" y=\"109.847163\" style=\"fill: #1f77b4; stroke: #1f77b4\"/>\n     <use xlink:href=\"#ma9f0df5ace\" x=\"117.041179\" y=\"68.460338\" style=\"fill: #1f77b4; stroke: #1f77b4\"/>\n     <use xlink:href=\"#ma9f0df5ace\" x=\"145.995608\" y=\"89.299347\" style=\"fill: #1f77b4; stroke: #1f77b4\"/>\n     <use xlink:href=\"#ma9f0df5ace\" x=\"108.652267\" y=\"56.071627\" style=\"fill: #1f77b4; stroke: #1f77b4\"/>\n     <use xlink:href=\"#ma9f0df5ace\" x=\"202.060558\" y=\"114.472948\" style=\"fill: #1f77b4; stroke: #1f77b4\"/>\n     <use xlink:href=\"#ma9f0df5ace\" x=\"88.503828\" y=\"60.971192\" style=\"fill: #1f77b4; stroke: #1f77b4\"/>\n     <use xlink:href=\"#ma9f0df5ace\" x=\"115.238788\" y=\"67.033538\" style=\"fill: #1f77b4; stroke: #1f77b4\"/>\n     <use xlink:href=\"#ma9f0df5ace\" x=\"119.207763\" y=\"92.417051\" style=\"fill: #1f77b4; stroke: #1f77b4\"/>\n     <use xlink:href=\"#ma9f0df5ace\" x=\"207.612634\" y=\"118.534642\" style=\"fill: #1f77b4; stroke: #1f77b4\"/>\n     <use xlink:href=\"#ma9f0df5ace\" x=\"109.125532\" y=\"71.272744\" style=\"fill: #1f77b4; stroke: #1f77b4\"/>\n     <use xlink:href=\"#ma9f0df5ace\" x=\"135.726016\" y=\"77.747745\" style=\"fill: #1f77b4; stroke: #1f77b4\"/>\n     <use xlink:href=\"#ma9f0df5ace\" x=\"122.795014\" y=\"76.421742\" style=\"fill: #1f77b4; stroke: #1f77b4\"/>\n     <use xlink:href=\"#ma9f0df5ace\" x=\"122.362033\" y=\"73.495571\" style=\"fill: #1f77b4; stroke: #1f77b4\"/>\n     <use xlink:href=\"#ma9f0df5ace\" x=\"156.195256\" y=\"99.012513\" style=\"fill: #1f77b4; stroke: #1f77b4\"/>\n     <use xlink:href=\"#ma9f0df5ace\" x=\"154.450203\" y=\"97.972911\" style=\"fill: #1f77b4; stroke: #1f77b4\"/>\n     <use xlink:href=\"#ma9f0df5ace\" x=\"164.518586\" y=\"89.34391\" style=\"fill: #1f77b4; stroke: #1f77b4\"/>\n     <use xlink:href=\"#ma9f0df5ace\" x=\"65.936901\" y=\"21.472848\" style=\"fill: #1f77b4; stroke: #1f77b4\"/>\n     <use xlink:href=\"#ma9f0df5ace\" x=\"114.430747\" y=\"71.395633\" style=\"fill: #1f77b4; stroke: #1f77b4\"/>\n     <use xlink:href=\"#ma9f0df5ace\" x=\"107.536805\" y=\"57.44611\" style=\"fill: #1f77b4; stroke: #1f77b4\"/>\n     <use xlink:href=\"#ma9f0df5ace\" x=\"126.826144\" y=\"92.826905\" style=\"fill: #1f77b4; stroke: #1f77b4\"/>\n     <use xlink:href=\"#ma9f0df5ace\" x=\"113.851261\" y=\"53.510689\" style=\"fill: #1f77b4; stroke: #1f77b4\"/>\n     <use xlink:href=\"#ma9f0df5ace\" x=\"98.564049\" y=\"60.000837\" style=\"fill: #1f77b4; stroke: #1f77b4\"/>\n     <use xlink:href=\"#ma9f0df5ace\" x=\"104.651533\" y=\"63.623907\" style=\"fill: #1f77b4; stroke: #1f77b4\"/>\n     <use xlink:href=\"#ma9f0df5ace\" x=\"102.061123\" y=\"55.301464\" style=\"fill: #1f77b4; stroke: #1f77b4\"/>\n     <use xlink:href=\"#ma9f0df5ace\" x=\"121.116959\" y=\"80.92211\" style=\"fill: #1f77b4; stroke: #1f77b4\"/>\n     <use xlink:href=\"#ma9f0df5ace\" x=\"106.858753\" y=\"69.474189\" style=\"fill: #1f77b4; stroke: #1f77b4\"/>\n     <use xlink:href=\"#ma9f0df5ace\" x=\"64.147779\" y=\"36.234428\" style=\"fill: #1f77b4; stroke: #1f77b4\"/>\n     <use xlink:href=\"#ma9f0df5ace\" x=\"77.257488\" y=\"27.134595\" style=\"fill: #1f77b4; stroke: #1f77b4\"/>\n     <use xlink:href=\"#ma9f0df5ace\" x=\"155.598977\" y=\"86.704301\" style=\"fill: #1f77b4; stroke: #1f77b4\"/>\n     <use xlink:href=\"#ma9f0df5ace\" x=\"168.899502\" y=\"89.016375\" style=\"fill: #1f77b4; stroke: #1f77b4\"/>\n     <use xlink:href=\"#ma9f0df5ace\" x=\"98.555486\" y=\"67.527462\" style=\"fill: #1f77b4; stroke: #1f77b4\"/>\n     <use xlink:href=\"#ma9f0df5ace\" x=\"140.537602\" y=\"80.375962\" style=\"fill: #1f77b4; stroke: #1f77b4\"/>\n     <use xlink:href=\"#ma9f0df5ace\" x=\"89.27174\" y=\"55.386102\" style=\"fill: #1f77b4; stroke: #1f77b4\"/>\n     <use xlink:href=\"#ma9f0df5ace\" x=\"85.395004\" y=\"43.536834\" style=\"fill: #1f77b4; stroke: #1f77b4\"/>\n     <use xlink:href=\"#ma9f0df5ace\" x=\"148.029901\" y=\"73.647945\" style=\"fill: #1f77b4; stroke: #1f77b4\"/>\n     <use xlink:href=\"#ma9f0df5ace\" x=\"101.450883\" y=\"72.817703\" style=\"fill: #1f77b4; stroke: #1f77b4\"/>\n     <use xlink:href=\"#ma9f0df5ace\" x=\"108.951905\" y=\"77.525035\" style=\"fill: #1f77b4; stroke: #1f77b4\"/>\n     <use xlink:href=\"#ma9f0df5ace\" x=\"204.070353\" y=\"126.012601\" style=\"fill: #1f77b4; stroke: #1f77b4\"/>\n     <use xlink:href=\"#ma9f0df5ace\" x=\"132.35927\" y=\"82.612245\" style=\"fill: #1f77b4; stroke: #1f77b4\"/>\n     <use xlink:href=\"#ma9f0df5ace\" x=\"133.847392\" y=\"85.717413\" style=\"fill: #1f77b4; stroke: #1f77b4\"/>\n     <use xlink:href=\"#ma9f0df5ace\" x=\"98.579269\" y=\"81.788787\" style=\"fill: #1f77b4; stroke: #1f77b4\"/>\n     <use xlink:href=\"#ma9f0df5ace\" x=\"118.918404\" y=\"78.091607\" style=\"fill: #1f77b4; stroke: #1f77b4\"/>\n     <use xlink:href=\"#ma9f0df5ace\" x=\"158.476383\" y=\"85.109976\" style=\"fill: #1f77b4; stroke: #1f77b4\"/>\n     <use xlink:href=\"#ma9f0df5ace\" x=\"155.77309\" y=\"88.915386\" style=\"fill: #1f77b4; stroke: #1f77b4\"/>\n     <use xlink:href=\"#ma9f0df5ace\" x=\"100.817255\" y=\"63.875785\" style=\"fill: #1f77b4; stroke: #1f77b4\"/>\n     <use xlink:href=\"#ma9f0df5ace\" x=\"169.503293\" y=\"99.776005\" style=\"fill: #1f77b4; stroke: #1f77b4\"/>\n     <use xlink:href=\"#ma9f0df5ace\" x=\"139.986673\" y=\"83.79277\" style=\"fill: #1f77b4; stroke: #1f77b4\"/>\n     <use xlink:href=\"#ma9f0df5ace\" x=\"130.211582\" y=\"68.159159\" style=\"fill: #1f77b4; stroke: #1f77b4\"/>\n     <use xlink:href=\"#ma9f0df5ace\" x=\"103.750409\" y=\"73.78561\" style=\"fill: #1f77b4; stroke: #1f77b4\"/>\n     <use xlink:href=\"#ma9f0df5ace\" x=\"137.658714\" y=\"94.962696\" style=\"fill: #1f77b4; stroke: #1f77b4\"/>\n     <use xlink:href=\"#ma9f0df5ace\" x=\"96.869111\" y=\"29.511338\" style=\"fill: #1f77b4; stroke: #1f77b4\"/>\n     <use xlink:href=\"#ma9f0df5ace\" x=\"148.063077\" y=\"94.560227\" style=\"fill: #1f77b4; stroke: #1f77b4\"/>\n     <use xlink:href=\"#ma9f0df5ace\" x=\"140.275059\" y=\"87.246307\" style=\"fill: #1f77b4; stroke: #1f77b4\"/>\n     <use xlink:href=\"#ma9f0df5ace\" x=\"100.395507\" y=\"65.62113\" style=\"fill: #1f77b4; stroke: #1f77b4\"/>\n     <use xlink:href=\"#ma9f0df5ace\" x=\"104.869849\" y=\"92.281306\" style=\"fill: #1f77b4; stroke: #1f77b4\"/>\n     <use xlink:href=\"#ma9f0df5ace\" x=\"55.37508\" y=\"32.413805\" style=\"fill: #1f77b4; stroke: #1f77b4\"/>\n     <use xlink:href=\"#ma9f0df5ace\" x=\"129.310233\" y=\"76.106546\" style=\"fill: #1f77b4; stroke: #1f77b4\"/>\n     <use xlink:href=\"#ma9f0df5ace\" x=\"142.535278\" y=\"83.529533\" style=\"fill: #1f77b4; stroke: #1f77b4\"/>\n     <use xlink:href=\"#ma9f0df5ace\" x=\"79.891566\" y=\"62.502713\" style=\"fill: #1f77b4; stroke: #1f77b4\"/>\n     <use xlink:href=\"#ma9f0df5ace\" x=\"146.214139\" y=\"87.494451\" style=\"fill: #1f77b4; stroke: #1f77b4\"/>\n     <use xlink:href=\"#ma9f0df5ace\" x=\"93.274561\" y=\"75.147753\" style=\"fill: #1f77b4; stroke: #1f77b4\"/>\n     <use xlink:href=\"#ma9f0df5ace\" x=\"117.128807\" y=\"64.465827\" style=\"fill: #1f77b4; stroke: #1f77b4\"/>\n     <use xlink:href=\"#ma9f0df5ace\" x=\"107.713402\" y=\"85.805608\" style=\"fill: #1f77b4; stroke: #1f77b4\"/>\n     <use xlink:href=\"#ma9f0df5ace\" x=\"94.456058\" y=\"65.953635\" style=\"fill: #1f77b4; stroke: #1f77b4\"/>\n     <use xlink:href=\"#ma9f0df5ace\" x=\"79.12378\" y=\"30.647468\" style=\"fill: #1f77b4; stroke: #1f77b4\"/>\n     <use xlink:href=\"#ma9f0df5ace\" x=\"83.248968\" y=\"48.537536\" style=\"fill: #1f77b4; stroke: #1f77b4\"/>\n     <use xlink:href=\"#ma9f0df5ace\" x=\"116.347024\" y=\"83.294551\" style=\"fill: #1f77b4; stroke: #1f77b4\"/>\n     <use xlink:href=\"#ma9f0df5ace\" x=\"167.68573\" y=\"114.756299\" style=\"fill: #1f77b4; stroke: #1f77b4\"/>\n     <use xlink:href=\"#ma9f0df5ace\" x=\"79.294463\" y=\"48.132928\" style=\"fill: #1f77b4; stroke: #1f77b4\"/>\n     <use xlink:href=\"#ma9f0df5ace\" x=\"84.640047\" y=\"42.937101\" style=\"fill: #1f77b4; stroke: #1f77b4\"/>\n     <use xlink:href=\"#ma9f0df5ace\" x=\"127.589135\" y=\"91.738694\" style=\"fill: #1f77b4; stroke: #1f77b4\"/>\n     <use xlink:href=\"#ma9f0df5ace\" x=\"136.618071\" y=\"84.492006\" style=\"fill: #1f77b4; stroke: #1f77b4\"/>\n     <use xlink:href=\"#ma9f0df5ace\" x=\"144.084896\" y=\"85.587332\" style=\"fill: #1f77b4; stroke: #1f77b4\"/>\n     <use xlink:href=\"#ma9f0df5ace\" x=\"196.047675\" y=\"120.524289\" style=\"fill: #1f77b4; stroke: #1f77b4\"/>\n     <use xlink:href=\"#ma9f0df5ace\" x=\"151.061949\" y=\"97.269686\" style=\"fill: #1f77b4; stroke: #1f77b4\"/>\n     <use xlink:href=\"#ma9f0df5ace\" x=\"108.91182\" y=\"68.721603\" style=\"fill: #1f77b4; stroke: #1f77b4\"/>\n     <use xlink:href=\"#ma9f0df5ace\" x=\"142.885687\" y=\"92.980395\" style=\"fill: #1f77b4; stroke: #1f77b4\"/>\n     <use xlink:href=\"#ma9f0df5ace\" x=\"139.646879\" y=\"101.853985\" style=\"fill: #1f77b4; stroke: #1f77b4\"/>\n     <use xlink:href=\"#ma9f0df5ace\" x=\"133.769695\" y=\"72.483232\" style=\"fill: #1f77b4; stroke: #1f77b4\"/>\n     <use xlink:href=\"#ma9f0df5ace\" x=\"118.828782\" y=\"75.844061\" style=\"fill: #1f77b4; stroke: #1f77b4\"/>\n     <use xlink:href=\"#ma9f0df5ace\" x=\"169.577137\" y=\"110.096216\" style=\"fill: #1f77b4; stroke: #1f77b4\"/>\n     <use xlink:href=\"#ma9f0df5ace\" x=\"147.376975\" y=\"92.718355\" style=\"fill: #1f77b4; stroke: #1f77b4\"/>\n     <use xlink:href=\"#ma9f0df5ace\" x=\"102.791221\" y=\"53.701747\" style=\"fill: #1f77b4; stroke: #1f77b4\"/>\n     <use xlink:href=\"#ma9f0df5ace\" x=\"116.553172\" y=\"82.067632\" style=\"fill: #1f77b4; stroke: #1f77b4\"/>\n     <use xlink:href=\"#ma9f0df5ace\" x=\"134.207925\" y=\"74.740875\" style=\"fill: #1f77b4; stroke: #1f77b4\"/>\n     <use xlink:href=\"#ma9f0df5ace\" x=\"194.026201\" y=\"118.860425\" style=\"fill: #1f77b4; stroke: #1f77b4\"/>\n     <use xlink:href=\"#ma9f0df5ace\" x=\"165.011854\" y=\"87.424081\" style=\"fill: #1f77b4; stroke: #1f77b4\"/>\n     <use xlink:href=\"#ma9f0df5ace\" x=\"148.779411\" y=\"79.824612\" style=\"fill: #1f77b4; stroke: #1f77b4\"/>\n     <use xlink:href=\"#ma9f0df5ace\" x=\"151.393352\" y=\"81.254411\" style=\"fill: #1f77b4; stroke: #1f77b4\"/>\n     <use xlink:href=\"#ma9f0df5ace\" x=\"145.231489\" y=\"103.499107\" style=\"fill: #1f77b4; stroke: #1f77b4\"/>\n     <use xlink:href=\"#ma9f0df5ace\" x=\"95.817279\" y=\"53.927099\" style=\"fill: #1f77b4; stroke: #1f77b4\"/>\n     <use xlink:href=\"#ma9f0df5ace\" x=\"196.560156\" y=\"126.363893\" style=\"fill: #1f77b4; stroke: #1f77b4\"/>\n     <use xlink:href=\"#ma9f0df5ace\" x=\"88.132015\" y=\"57.945747\" style=\"fill: #1f77b4; stroke: #1f77b4\"/>\n     <use xlink:href=\"#ma9f0df5ace\" x=\"144.736133\" y=\"90.46305\" style=\"fill: #1f77b4; stroke: #1f77b4\"/>\n     <use xlink:href=\"#ma9f0df5ace\" x=\"138.770036\" y=\"84.394389\" style=\"fill: #1f77b4; stroke: #1f77b4\"/>\n     <use xlink:href=\"#ma9f0df5ace\" x=\"89.863525\" y=\"86.533586\" style=\"fill: #1f77b4; stroke: #1f77b4\"/>\n     <use xlink:href=\"#ma9f0df5ace\" x=\"115.599348\" y=\"66.664368\" style=\"fill: #1f77b4; stroke: #1f77b4\"/>\n     <use xlink:href=\"#ma9f0df5ace\" x=\"189.726528\" y=\"114.280136\" style=\"fill: #1f77b4; stroke: #1f77b4\"/>\n     <use xlink:href=\"#ma9f0df5ace\" x=\"126.479098\" y=\"80.149668\" style=\"fill: #1f77b4; stroke: #1f77b4\"/>\n     <use xlink:href=\"#ma9f0df5ace\" x=\"144.590843\" y=\"90.43769\" style=\"fill: #1f77b4; stroke: #1f77b4\"/>\n     <use xlink:href=\"#ma9f0df5ace\" x=\"191.024498\" y=\"128.648089\" style=\"fill: #1f77b4; stroke: #1f77b4\"/>\n     <use xlink:href=\"#ma9f0df5ace\" x=\"115.318687\" y=\"65.718588\" style=\"fill: #1f77b4; stroke: #1f77b4\"/>\n     <use xlink:href=\"#ma9f0df5ace\" x=\"137.792402\" y=\"102.234196\" style=\"fill: #1f77b4; stroke: #1f77b4\"/>\n     <use xlink:href=\"#ma9f0df5ace\" x=\"169.244592\" y=\"113.134605\" style=\"fill: #1f77b4; stroke: #1f77b4\"/>\n     <use xlink:href=\"#ma9f0df5ace\" x=\"159.594458\" y=\"86.58448\" style=\"fill: #1f77b4; stroke: #1f77b4\"/>\n     <use xlink:href=\"#ma9f0df5ace\" x=\"143.34794\" y=\"84.531118\" style=\"fill: #1f77b4; stroke: #1f77b4\"/>\n     <use xlink:href=\"#ma9f0df5ace\" x=\"116.999245\" y=\"56.214673\" style=\"fill: #1f77b4; stroke: #1f77b4\"/>\n     <use xlink:href=\"#ma9f0df5ace\" x=\"99.948398\" y=\"58.800954\" style=\"fill: #1f77b4; stroke: #1f77b4\"/>\n     <use xlink:href=\"#ma9f0df5ace\" x=\"173.23285\" y=\"127.124113\" style=\"fill: #1f77b4; stroke: #1f77b4\"/>\n     <use xlink:href=\"#ma9f0df5ace\" x=\"204.307094\" y=\"136.862869\" style=\"fill: #1f77b4; stroke: #1f77b4\"/>\n     <use xlink:href=\"#ma9f0df5ace\" x=\"85.005072\" y=\"64.721773\" style=\"fill: #1f77b4; stroke: #1f77b4\"/>\n     <use xlink:href=\"#ma9f0df5ace\" x=\"105.39715\" y=\"56.451862\" style=\"fill: #1f77b4; stroke: #1f77b4\"/>\n     <use xlink:href=\"#ma9f0df5ace\" x=\"135.207129\" y=\"87.923666\" style=\"fill: #1f77b4; stroke: #1f77b4\"/>\n     <use xlink:href=\"#ma9f0df5ace\" x=\"135.725001\" y=\"63.742188\" style=\"fill: #1f77b4; stroke: #1f77b4\"/>\n     <use xlink:href=\"#ma9f0df5ace\" x=\"107.139879\" y=\"97.554871\" style=\"fill: #1f77b4; stroke: #1f77b4\"/>\n     <use xlink:href=\"#ma9f0df5ace\" x=\"147.847893\" y=\"107.881302\" style=\"fill: #1f77b4; stroke: #1f77b4\"/>\n     <use xlink:href=\"#ma9f0df5ace\" x=\"88.575369\" y=\"50.626817\" style=\"fill: #1f77b4; stroke: #1f77b4\"/>\n     <use xlink:href=\"#ma9f0df5ace\" x=\"128.859787\" y=\"76.578361\" style=\"fill: #1f77b4; stroke: #1f77b4\"/>\n     <use xlink:href=\"#ma9f0df5ace\" x=\"95.816375\" y=\"74.092711\" style=\"fill: #1f77b4; stroke: #1f77b4\"/>\n     <use xlink:href=\"#ma9f0df5ace\" x=\"158.356583\" y=\"97.492479\" style=\"fill: #1f77b4; stroke: #1f77b4\"/>\n     <use xlink:href=\"#ma9f0df5ace\" x=\"178.966179\" y=\"97.898208\" style=\"fill: #1f77b4; stroke: #1f77b4\"/>\n     <use xlink:href=\"#ma9f0df5ace\" x=\"57.697223\" y=\"34.523863\" style=\"fill: #1f77b4; stroke: #1f77b4\"/>\n     <use xlink:href=\"#ma9f0df5ace\" x=\"111.878896\" y=\"76.580751\" style=\"fill: #1f77b4; stroke: #1f77b4\"/>\n     <use xlink:href=\"#ma9f0df5ace\" x=\"135.637619\" y=\"75.544459\" style=\"fill: #1f77b4; stroke: #1f77b4\"/>\n     <use xlink:href=\"#ma9f0df5ace\" x=\"126.190579\" y=\"70.8071\" style=\"fill: #1f77b4; stroke: #1f77b4\"/>\n     <use xlink:href=\"#ma9f0df5ace\" x=\"129.086697\" y=\"98.135568\" style=\"fill: #1f77b4; stroke: #1f77b4\"/>\n     <use xlink:href=\"#ma9f0df5ace\" x=\"150.196683\" y=\"104.284118\" style=\"fill: #1f77b4; stroke: #1f77b4\"/>\n     <use xlink:href=\"#ma9f0df5ace\" x=\"130.828272\" y=\"86.567378\" style=\"fill: #1f77b4; stroke: #1f77b4\"/>\n     <use xlink:href=\"#ma9f0df5ace\" x=\"125.476739\" y=\"77.63191\" style=\"fill: #1f77b4; stroke: #1f77b4\"/>\n     <use xlink:href=\"#ma9f0df5ace\" x=\"113.818688\" y=\"65.700068\" style=\"fill: #1f77b4; stroke: #1f77b4\"/>\n     <use xlink:href=\"#ma9f0df5ace\" x=\"170.748984\" y=\"115.120715\" style=\"fill: #1f77b4; stroke: #1f77b4\"/>\n     <use xlink:href=\"#ma9f0df5ace\" x=\"159.705719\" y=\"95.374161\" style=\"fill: #1f77b4; stroke: #1f77b4\"/>\n     <use xlink:href=\"#ma9f0df5ace\" x=\"160.463994\" y=\"102.533239\" style=\"fill: #1f77b4; stroke: #1f77b4\"/>\n     <use xlink:href=\"#ma9f0df5ace\" x=\"177.008475\" y=\"95.660636\" style=\"fill: #1f77b4; stroke: #1f77b4\"/>\n     <use xlink:href=\"#ma9f0df5ace\" x=\"130.452038\" y=\"80.258029\" style=\"fill: #1f77b4; stroke: #1f77b4\"/>\n     <use xlink:href=\"#ma9f0df5ace\" x=\"113.016164\" y=\"81.835396\" style=\"fill: #1f77b4; stroke: #1f77b4\"/>\n     <use xlink:href=\"#ma9f0df5ace\" x=\"167.672354\" y=\"105.760546\" style=\"fill: #1f77b4; stroke: #1f77b4\"/>\n     <use xlink:href=\"#ma9f0df5ace\" x=\"181.473176\" y=\"105.573867\" style=\"fill: #1f77b4; stroke: #1f77b4\"/>\n     <use xlink:href=\"#ma9f0df5ace\" x=\"183.418633\" y=\"111.120145\" style=\"fill: #1f77b4; stroke: #1f77b4\"/>\n     <use xlink:href=\"#ma9f0df5ace\" x=\"130.65846\" y=\"64.904873\" style=\"fill: #1f77b4; stroke: #1f77b4\"/>\n     <use xlink:href=\"#ma9f0df5ace\" x=\"125.410937\" y=\"84.946441\" style=\"fill: #1f77b4; stroke: #1f77b4\"/>\n     <use xlink:href=\"#ma9f0df5ace\" x=\"114.581646\" y=\"39.572011\" style=\"fill: #1f77b4; stroke: #1f77b4\"/>\n     <use xlink:href=\"#ma9f0df5ace\" x=\"154.754954\" y=\"98.93717\" style=\"fill: #1f77b4; stroke: #1f77b4\"/>\n     <use xlink:href=\"#ma9f0df5ace\" x=\"160.243962\" y=\"81.104455\" style=\"fill: #1f77b4; stroke: #1f77b4\"/>\n     <use xlink:href=\"#ma9f0df5ace\" x=\"143.775555\" y=\"85.079961\" style=\"fill: #1f77b4; stroke: #1f77b4\"/>\n     <use xlink:href=\"#ma9f0df5ace\" x=\"153.063271\" y=\"102.424107\" style=\"fill: #1f77b4; stroke: #1f77b4\"/>\n     <use xlink:href=\"#ma9f0df5ace\" x=\"144.507483\" y=\"86.28671\" style=\"fill: #1f77b4; stroke: #1f77b4\"/>\n     <use xlink:href=\"#ma9f0df5ace\" x=\"107.803323\" y=\"73.672082\" style=\"fill: #1f77b4; stroke: #1f77b4\"/>\n     <use xlink:href=\"#ma9f0df5ace\" x=\"145.42078\" y=\"90.357933\" style=\"fill: #1f77b4; stroke: #1f77b4\"/>\n     <use xlink:href=\"#ma9f0df5ace\" x=\"170.707577\" y=\"92.030342\" style=\"fill: #1f77b4; stroke: #1f77b4\"/>\n    </g>\n   </g>\n   <g id=\"matplotlib.axis_1\">\n    <g id=\"xtick_1\">\n     <g id=\"line2d_1\">\n      <defs>\n       <path id=\"maba018775c\" d=\"M 0 0 \nL 0 3.5 \n\" style=\"stroke: #000000; stroke-width: 0.8\"/>\n      </defs>\n      <g>\n       <use xlink:href=\"#maba018775c\" x=\"72.937758\" y=\"145.8\" style=\"stroke: #000000; stroke-width: 0.8\"/>\n      </g>\n     </g>\n     <g id=\"text_1\">\n      <!-- −2 -->\n      <g transform=\"translate(65.566665 160.398438) scale(0.1 -0.1)\">\n       <defs>\n        <path id=\"DejaVuSans-2212\" d=\"M 678 2272 \nL 4684 2272 \nL 4684 1741 \nL 678 1741 \nL 678 2272 \nz\n\" transform=\"scale(0.015625)\"/>\n        <path id=\"DejaVuSans-32\" d=\"M 1228 531 \nL 3431 531 \nL 3431 0 \nL 469 0 \nL 469 531 \nQ 828 903 1448 1529 \nQ 2069 2156 2228 2338 \nQ 2531 2678 2651 2914 \nQ 2772 3150 2772 3378 \nQ 2772 3750 2511 3984 \nQ 2250 4219 1831 4219 \nQ 1534 4219 1204 4116 \nQ 875 4013 500 3803 \nL 500 4441 \nQ 881 4594 1212 4672 \nQ 1544 4750 1819 4750 \nQ 2544 4750 2975 4387 \nQ 3406 4025 3406 3419 \nQ 3406 3131 3298 2873 \nQ 3191 2616 2906 2266 \nQ 2828 2175 2409 1742 \nQ 1991 1309 1228 531 \nz\n\" transform=\"scale(0.015625)\"/>\n       </defs>\n       <use xlink:href=\"#DejaVuSans-2212\"/>\n       <use xlink:href=\"#DejaVuSans-32\" x=\"83.789062\"/>\n      </g>\n     </g>\n    </g>\n    <g id=\"xtick_2\">\n     <g id=\"line2d_2\">\n      <g>\n       <use xlink:href=\"#maba018775c\" x=\"131.745186\" y=\"145.8\" style=\"stroke: #000000; stroke-width: 0.8\"/>\n      </g>\n     </g>\n     <g id=\"text_2\">\n      <!-- 0 -->\n      <g transform=\"translate(128.563936 160.398438) scale(0.1 -0.1)\">\n       <defs>\n        <path id=\"DejaVuSans-30\" d=\"M 2034 4250 \nQ 1547 4250 1301 3770 \nQ 1056 3291 1056 2328 \nQ 1056 1369 1301 889 \nQ 1547 409 2034 409 \nQ 2525 409 2770 889 \nQ 3016 1369 3016 2328 \nQ 3016 3291 2770 3770 \nQ 2525 4250 2034 4250 \nz\nM 2034 4750 \nQ 2819 4750 3233 4129 \nQ 3647 3509 3647 2328 \nQ 3647 1150 3233 529 \nQ 2819 -91 2034 -91 \nQ 1250 -91 836 529 \nQ 422 1150 422 2328 \nQ 422 3509 836 4129 \nQ 1250 4750 2034 4750 \nz\n\" transform=\"scale(0.015625)\"/>\n       </defs>\n       <use xlink:href=\"#DejaVuSans-30\"/>\n      </g>\n     </g>\n    </g>\n    <g id=\"xtick_3\">\n     <g id=\"line2d_3\">\n      <g>\n       <use xlink:href=\"#maba018775c\" x=\"190.552615\" y=\"145.8\" style=\"stroke: #000000; stroke-width: 0.8\"/>\n      </g>\n     </g>\n     <g id=\"text_3\">\n      <!-- 2 -->\n      <g transform=\"translate(187.371365 160.398438) scale(0.1 -0.1)\">\n       <use xlink:href=\"#DejaVuSans-32\"/>\n      </g>\n     </g>\n    </g>\n   </g>\n   <g id=\"matplotlib.axis_2\">\n    <g id=\"ytick_1\">\n     <g id=\"line2d_4\">\n      <defs>\n       <path id=\"mf65fdff026\" d=\"M 0 0 \nL -3.5 0 \n\" style=\"stroke: #000000; stroke-width: 0.8\"/>\n      </defs>\n      <g>\n       <use xlink:href=\"#mf65fdff026\" x=\"28.942188\" y=\"131.409533\" style=\"stroke: #000000; stroke-width: 0.8\"/>\n      </g>\n     </g>\n     <g id=\"text_4\">\n      <!-- −5 -->\n      <g transform=\"translate(7.2 135.208752) scale(0.1 -0.1)\">\n       <defs>\n        <path id=\"DejaVuSans-35\" d=\"M 691 4666 \nL 3169 4666 \nL 3169 4134 \nL 1269 4134 \nL 1269 2991 \nQ 1406 3038 1543 3061 \nQ 1681 3084 1819 3084 \nQ 2600 3084 3056 2656 \nQ 3513 2228 3513 1497 \nQ 3513 744 3044 326 \nQ 2575 -91 1722 -91 \nQ 1428 -91 1123 -41 \nQ 819 9 494 109 \nL 494 744 \nQ 775 591 1075 516 \nQ 1375 441 1709 441 \nQ 2250 441 2565 725 \nQ 2881 1009 2881 1497 \nQ 2881 1984 2565 2268 \nQ 2250 2553 1709 2553 \nQ 1456 2553 1204 2497 \nQ 953 2441 691 2322 \nL 691 4666 \nz\n\" transform=\"scale(0.015625)\"/>\n       </defs>\n       <use xlink:href=\"#DejaVuSans-2212\"/>\n       <use xlink:href=\"#DejaVuSans-35\" x=\"83.789062\"/>\n      </g>\n     </g>\n    </g>\n    <g id=\"ytick_2\">\n     <g id=\"line2d_5\">\n      <g>\n       <use xlink:href=\"#mf65fdff026\" x=\"28.942188\" y=\"104.412645\" style=\"stroke: #000000; stroke-width: 0.8\"/>\n      </g>\n     </g>\n     <g id=\"text_5\">\n      <!-- 0 -->\n      <g transform=\"translate(15.579688 108.211864) scale(0.1 -0.1)\">\n       <use xlink:href=\"#DejaVuSans-30\"/>\n      </g>\n     </g>\n    </g>\n    <g id=\"ytick_3\">\n     <g id=\"line2d_6\">\n      <g>\n       <use xlink:href=\"#mf65fdff026\" x=\"28.942188\" y=\"77.415758\" style=\"stroke: #000000; stroke-width: 0.8\"/>\n      </g>\n     </g>\n     <g id=\"text_6\">\n      <!-- 5 -->\n      <g transform=\"translate(15.579688 81.214976) scale(0.1 -0.1)\">\n       <use xlink:href=\"#DejaVuSans-35\"/>\n      </g>\n     </g>\n    </g>\n    <g id=\"ytick_4\">\n     <g id=\"line2d_7\">\n      <g>\n       <use xlink:href=\"#mf65fdff026\" x=\"28.942188\" y=\"50.41887\" style=\"stroke: #000000; stroke-width: 0.8\"/>\n      </g>\n     </g>\n     <g id=\"text_7\">\n      <!-- 10 -->\n      <g transform=\"translate(9.217188 54.218089) scale(0.1 -0.1)\">\n       <defs>\n        <path id=\"DejaVuSans-31\" d=\"M 794 531 \nL 1825 531 \nL 1825 4091 \nL 703 3866 \nL 703 4441 \nL 1819 4666 \nL 2450 4666 \nL 2450 531 \nL 3481 531 \nL 3481 0 \nL 794 0 \nL 794 531 \nz\n\" transform=\"scale(0.015625)\"/>\n       </defs>\n       <use xlink:href=\"#DejaVuSans-31\"/>\n       <use xlink:href=\"#DejaVuSans-30\" x=\"63.623047\"/>\n      </g>\n     </g>\n    </g>\n    <g id=\"ytick_5\">\n     <g id=\"line2d_8\">\n      <g>\n       <use xlink:href=\"#mf65fdff026\" x=\"28.942188\" y=\"23.421982\" style=\"stroke: #000000; stroke-width: 0.8\"/>\n      </g>\n     </g>\n     <g id=\"text_8\">\n      <!-- 15 -->\n      <g transform=\"translate(9.217188 27.221201) scale(0.1 -0.1)\">\n       <use xlink:href=\"#DejaVuSans-31\"/>\n       <use xlink:href=\"#DejaVuSans-35\" x=\"63.623047\"/>\n      </g>\n     </g>\n    </g>\n   </g>\n   <g id=\"patch_3\">\n    <path d=\"M 28.942188 145.8 \nL 28.942188 7.2 \n\" style=\"fill: none; stroke: #000000; stroke-width: 0.8; stroke-linejoin: miter; stroke-linecap: square\"/>\n   </g>\n   <g id=\"patch_4\">\n    <path d=\"M 224.242188 145.8 \nL 224.242188 7.2 \n\" style=\"fill: none; stroke: #000000; stroke-width: 0.8; stroke-linejoin: miter; stroke-linecap: square\"/>\n   </g>\n   <g id=\"patch_5\">\n    <path d=\"M 28.942188 145.8 \nL 224.242188 145.8 \n\" style=\"fill: none; stroke: #000000; stroke-width: 0.8; stroke-linejoin: miter; stroke-linecap: square\"/>\n   </g>\n   <g id=\"patch_6\">\n    <path d=\"M 28.942188 7.2 \nL 224.242188 7.2 \n\" style=\"fill: none; stroke: #000000; stroke-width: 0.8; stroke-linejoin: miter; stroke-linecap: square\"/>\n   </g>\n  </g>\n </g>\n <defs>\n  <clipPath id=\"p826ec03b1d\">\n   <rect x=\"28.942188\" y=\"7.2\" width=\"195.3\" height=\"138.6\"/>\n  </clipPath>\n </defs>\n</svg>\n"
     },
     "metadata": {},
     "output_type": "display_data"
    }
   ],
   "source": [
    "d2l.set_figsize()\n",
    "d2l.plt.scatter(features[:, (1)].detach().numpy(), labels.detach().numpy(), 1)"
   ],
   "metadata": {
    "collapsed": false,
    "ExecuteTime": {
     "end_time": "2023-09-20T08:24:26.689933Z",
     "start_time": "2023-09-20T08:24:26.482685800Z"
    }
   },
   "id": "e34d7d336ed38c2a"
  },
  {
   "cell_type": "markdown",
   "source": [
    "## 读取数据集\n",
    "\n",
    "回想一下，训练模型时要对数据集进行遍历，每次抽取一小批量样本，并使用它们来更新我们的模型。 由于这个过程是训练机器学习算法的基础，所以有必要定义一个函数， 该函数能打乱数据集中的样本并以小批量方式获取数据。\n",
    "\n",
    "在下面的代码中，我们定义一个data_iter函数， 该函数接收批量大小、特征矩阵和标签向量作为输入，生成大小为batch_size的小批量。 每个小批量包含一组特征和标签。"
   ],
   "metadata": {
    "collapsed": false
   },
   "id": "c56665eaee17018e"
  },
  {
   "cell_type": "code",
   "execution_count": 9,
   "outputs": [],
   "source": [
    "def data_iter(batch_size, features, labels):\n",
    "    num_examples = len(features)\n",
    "    indices = list(range(num_examples))\n",
    "    # 这些样本是随机读取的，没有特定的顺序\n",
    "    random.shuffle(indices)\n",
    "    for i in range(0, num_examples, batch_size):\n",
    "        batch_indices = torch.tensor(\n",
    "            indices[i: min(i + batch_size, num_examples)]\n",
    "        )\n",
    "        yield features[batch_indices], labels[batch_indices]"
   ],
   "metadata": {
    "collapsed": false,
    "ExecuteTime": {
     "end_time": "2023-09-20T08:28:49.944155300Z",
     "start_time": "2023-09-20T08:28:49.930620800Z"
    }
   },
   "id": "5a2f21ab465ee591"
  },
  {
   "cell_type": "markdown",
   "source": [
    "通常，我们利用GPU并行运算的优势，处理合理大小的“小批量”。 每个样本都可以并行地进行模型计算，且每个样本损失函数的梯度也可以被并行计算。 GPU可以在处理几百个样本时，所花费的时间不比处理一个样本时多太多。\n",
    "\n",
    "我们直观感受一下小批量运算：读取第一个小批量数据样本并打印。 每个批量的特征维度显示批量大小和输入特征数。 同样的，批量的标签形状与batch_size相等。"
   ],
   "metadata": {
    "collapsed": false
   },
   "id": "53b25538be871058"
  },
  {
   "cell_type": "code",
   "execution_count": 10,
   "outputs": [
    {
     "name": "stdout",
     "output_type": "stream",
     "text": [
      "tensor([[ 1.6962, -0.7487],\n",
      "        [-0.5133, -0.4251],\n",
      "        [ 0.5256,  0.5020],\n",
      "        [ 0.1513, -0.4223],\n",
      "        [-0.1857,  0.7722],\n",
      "        [ 0.5542, -1.4781],\n",
      "        [ 0.3837, -0.8175],\n",
      "        [-0.2361, -0.4811],\n",
      "        [ 1.9048,  0.1354],\n",
      "        [-0.5672, -0.7660]]) \n",
      " tensor([[10.1279],\n",
      "        [ 4.6188],\n",
      "        [ 3.5569],\n",
      "        [ 5.9566],\n",
      "        [ 1.1927],\n",
      "        [10.3448],\n",
      "        [ 7.7514],\n",
      "        [ 5.3744],\n",
      "        [ 7.5324],\n",
      "        [ 5.6859]])\n"
     ]
    }
   ],
   "source": [
    "batch_size = 10\n",
    "\n",
    "for X, y in data_iter(batch_size, features, labels):\n",
    "    print(X, '\\n', y)\n",
    "    break"
   ],
   "metadata": {
    "collapsed": false,
    "ExecuteTime": {
     "end_time": "2023-09-20T08:30:02.842252700Z",
     "start_time": "2023-09-20T08:30:02.789810400Z"
    }
   },
   "id": "83959df58ed1c6c"
  },
  {
   "cell_type": "markdown",
   "source": [
    "当我们运行迭代时，我们会连续地获得不同的小批量，直至遍历完整个数据集。 上面实现的迭代对教学来说很好，但它的执行效率很低，可能会在实际问题上陷入麻烦。 例如，它要求我们将所有数据加载到内存中，并执行大量的随机内存访问。 在深度学习框架中实现的内置迭代器效率要高得多， 它可以处理存储在文件中的数据和数据流提供的数据。"
   ],
   "metadata": {
    "collapsed": false
   },
   "id": "63e02ee15da43661"
  },
  {
   "cell_type": "markdown",
   "source": [
    "## 初始化模型参数\n",
    "\n",
    "在我们开始用小批量随机梯度下降优化我们的模型参数之前， 我们需要先有一些参数。 在下面的代码中，我们通过从均值为0、标准差为0.01的正态分布中采样随机数来初始化权重， 并将偏置初始化为0。"
   ],
   "metadata": {
    "collapsed": false
   },
   "id": "cdad528ef8c21cb9"
  },
  {
   "cell_type": "code",
   "execution_count": 11,
   "outputs": [],
   "source": [
    "w = torch.normal(0, 0.01, size=(2, 1), requires_grad=True)\n",
    "b = torch.zeros(1, requires_grad=True)"
   ],
   "metadata": {
    "collapsed": false,
    "ExecuteTime": {
     "end_time": "2023-09-20T08:32:04.479556400Z",
     "start_time": "2023-09-20T08:32:04.455620700Z"
    }
   },
   "id": "ea4c1b6084e74097"
  },
  {
   "cell_type": "markdown",
   "source": [
    "在初始化参数之后，我们的任务是更新这些参数，直到这些参数足够拟合我们的数据。 每次更新都需要计算损失函数关于模型参数的梯度。 有了这个梯度，我们就可以向减小损失的方向更新每个参数。 因为手动计算梯度很枯燥而且容易出错，所以没有人会手动计算梯度。 我们使用[2.5节](http://zh.d2l.ai/chapter_preliminaries/autograd.html#sec-autograd)中引入的自动微分来计算梯度。"
   ],
   "metadata": {
    "collapsed": false
   },
   "id": "e4a173c7b2b9430a"
  },
  {
   "cell_type": "markdown",
   "source": [
    "## 定义模型\n",
    "\n",
    "接下来，我们必须定义模型，将模型的输入和参数同模型的输出关联起来。 回想一下，要计算线性模型的输出， 我们只需计算输入特征X和模型权重w的矩阵-向量乘法后加上偏置b。 注意，上面的Xw是一个向量，而b是一个标量。 回想一下[2.1.3节](http://zh.d2l.ai/chapter_preliminaries/ndarray.html#subsec-broadcasting)中描述的广播机制： 当我们用一个向量加一个标量时，标量会被加到向量的每个分量上。"
   ],
   "metadata": {
    "collapsed": false
   },
   "id": "63d579dc7909cc52"
  },
  {
   "cell_type": "code",
   "execution_count": 12,
   "outputs": [],
   "source": [
    "def linreg(X, w, b): #@save\n",
    "    \"\"\"线性回归模型 linear regression model\"\"\"\n",
    "    return torch.matmul(X, w) + b"
   ],
   "metadata": {
    "collapsed": false,
    "ExecuteTime": {
     "end_time": "2023-09-20T08:33:24.837640600Z",
     "start_time": "2023-09-20T08:33:24.810712200Z"
    }
   },
   "id": "94b18ebf43421153"
  },
  {
   "cell_type": "markdown",
   "source": [
    "## 定义损失函数\n",
    "\n",
    "因为需要计算损失函数的梯度，所以我们应该先定义损失函数。 这里我们使用[3.1节](http://zh.d2l.ai/chapter_linear-networks/linear-regression.html#sec-linear-regression)中描述的平方损失函数。 在实现中，我们需要将真实值y的形状转换为和预测值y_hat的形状相同。"
   ],
   "metadata": {
    "collapsed": false
   },
   "id": "f01955145a2683f6"
  },
  {
   "cell_type": "code",
   "execution_count": 13,
   "outputs": [],
   "source": [
    "def squared_loss(y_hat, y): #@save\n",
    "    \"\"\"均方损失\"\"\"\n",
    "    return (y_hat - y.reshape(y_hat.shape)) ** 2 / 2"
   ],
   "metadata": {
    "collapsed": false,
    "ExecuteTime": {
     "end_time": "2023-09-20T08:35:16.155131Z",
     "start_time": "2023-09-20T08:35:16.135445900Z"
    }
   },
   "id": "4436ca49f385fd54"
  },
  {
   "cell_type": "markdown",
   "source": [
    "## 定义优化算法\n",
    "\n",
    "正如我们在[3.1节](http://zh.d2l.ai/chapter_linear-networks/linear-regression.html#sec-linear-regression)中讨论的，线性回归有解析解。 尽管线性回归有解析解，但本书中的其他模型却没有。 这里我们介绍小批量随机梯度下降。\n",
    "\n",
    "在每一步中，使用从数据集中随机抽取的一个小批量，然后根据参数计算损失的梯度。 接下来，朝着减少损失的方向更新我们的参数。 下面的函数实现小批量随机梯度下降更新。 该函数接受模型参数集合、学习速率和批量大小作为输入。每 一步更新的大小由学习速率lr决定。 因为我们计算的损失是一个批量样本的总和，所以我们用批量大小（batch_size） 来规范化步长，这样步长大小就不会取决于我们对批量大小的选择。"
   ],
   "metadata": {
    "collapsed": false
   },
   "id": "299b9102f6835ac0"
  },
  {
   "cell_type": "code",
   "execution_count": 14,
   "outputs": [],
   "source": [
    "def sgd(params, lr, batch_size): #@save\n",
    "    \"\"\"小批量随机梯度下降\"\"\"\n",
    "    with torch.no_grad():\n",
    "        for param in params:\n",
    "            param -= lr * param.grad / batch_size\n",
    "            param.grad.zero_()"
   ],
   "metadata": {
    "collapsed": false,
    "ExecuteTime": {
     "end_time": "2023-09-20T08:37:28.112006500Z",
     "start_time": "2023-09-20T08:37:28.071115500Z"
    }
   },
   "id": "27b59fa55cf7a1b6"
  },
  {
   "cell_type": "markdown",
   "source": [
    "## 训练\n",
    "\n",
    "现在我们已经准备好了模型训练所有需要的要素，可以实现主要的训练过程部分了。 理解这段代码至关重要，因为从事深度学习后， 相同的训练过程几乎一遍又一遍地出现。 在每次迭代中，我们读取一小批量训练样本，并通过我们的模型来获得一组预测。 计算完损失后，我们开始反向传播，存储每个参数的梯度。 最后，我们调用优化算法sgd来更新模型参数。\n",
    "\n",
    "概括一下，我们将执行以下循环：\n",
    "\n",
    "- 初始化参数\n",
    "- 重复以下训练，直到完成\n",
    "    - 计算梯度$g \\leftarrow \\partial_{w,b}\\frac{1}{|\\cal{B}|}\\sum_{i\\in\\cal{B}}l(x^{(i)},y^{(i)},w,b)$\n",
    "    - 更新参数$(w, b) \\leftarrow (w,b)-\\eta$\n",
    "\n",
    "在每个迭代周期（epoch）中，我们使用data_iter函数遍历整个数据集， 并将训练数据集中所有样本都使用一次（假设样本数能够被批量大小整除）。 这里的迭代周期个数num_epochs和学习率lr都是超参数，分别设为3和0.03。 设置超参数很棘手，需要通过反复试验进行调整。 我们现在忽略这些细节，以后会在[11节](http://zh.d2l.ai/chapter_optimization/index.html#chap-optimization)中详细介绍。"
   ],
   "metadata": {
    "collapsed": false
   },
   "id": "688e0a56f311bde"
  },
  {
   "cell_type": "code",
   "execution_count": 15,
   "outputs": [
    {
     "name": "stdout",
     "output_type": "stream",
     "text": [
      "epoch 1, loss 0.045140\n",
      "epoch 2, loss 0.000183\n",
      "epoch 3, loss 0.000048\n"
     ]
    }
   ],
   "source": [
    "lr = 0.03\n",
    "num_epochs = 3\n",
    "net = linreg\n",
    "loss = squared_loss\n",
    "\n",
    "for epoch in range(num_epochs):\n",
    "    for X, y in data_iter(batch_size, features, labels):\n",
    "        l = loss(net(X, w, b), y) # X和y的小批量损失\n",
    "        # 因为l形状是(batch_size,1)，而不是一个标量。l中的所有元素被加到一起，\n",
    "        # 并以此计算关于[w,b]的梯度\n",
    "        l.sum().backward()\n",
    "        sgd([w,b], lr, batch_size) # 使用参数的梯度更新参数\n",
    "    with torch.no_grad():\n",
    "        train_l = loss(net(features, w, b), labels)\n",
    "        print(f'epoch {epoch + 1}, loss {float(train_l.mean()):f}')"
   ],
   "metadata": {
    "collapsed": false,
    "ExecuteTime": {
     "end_time": "2023-09-20T08:45:26.189622400Z",
     "start_time": "2023-09-20T08:45:26.056107900Z"
    }
   },
   "id": "850047a05df7a86a"
  },
  {
   "cell_type": "markdown",
   "source": [
    "因为我们使用的是自己合成的数据集，所以我们知道真正的参数是什么。 因此，我们可以通过比较真实参数和通过训练学到的参数来评估训练的成功程度。 事实上，真实参数和通过训练学到的参数确实非常接近。"
   ],
   "metadata": {
    "collapsed": false
   },
   "id": "e017576d5a573605"
  },
  {
   "cell_type": "code",
   "execution_count": 16,
   "outputs": [
    {
     "name": "stdout",
     "output_type": "stream",
     "text": [
      "w的估计误差: tensor([ 0.0008, -0.0003], grad_fn=<SubBackward0>)\n",
      "b的估计误差: tensor([0.0005], grad_fn=<RsubBackward1>)\n"
     ]
    }
   ],
   "source": [
    "print(f'w的估计误差: {true_w - w.reshape(true_w.shape)}')\n",
    "print(f'b的估计误差: {true_b - b}')"
   ],
   "metadata": {
    "collapsed": false,
    "ExecuteTime": {
     "end_time": "2023-09-20T08:46:38.914112300Z",
     "start_time": "2023-09-20T08:46:38.881200900Z"
    }
   },
   "id": "31788648e9bc836b"
  },
  {
   "cell_type": "markdown",
   "source": [
    "注意，我们不应该想当然地认为我们能够完美地求解参数。 在机器学习中，我们通常不太关心恢复真正的参数，而更关心如何高度准确预测参数。 幸运的是，即使是在复杂的优化问题上，随机梯度下降通常也能找到非常好的解。 其中一个原因是，在深度网络中存在许多参数组合能够实现高度精确的预测。"
   ],
   "metadata": {
    "collapsed": false
   },
   "id": "fca4fbbcfe58a686"
  },
  {
   "cell_type": "markdown",
   "source": [
    "## 小结\n",
    "\n",
    "- 我们学习了深度网络是如何实现和优化的。在这一过程中只使用张量和自动微分，不需要定义层或复杂的优化器。\n",
    "- 这一节只触及到了表面知识。在下面的部分中，我们将基于刚刚介绍的概念描述其他模型，并学习如何更简洁地实现其他模型。"
   ],
   "metadata": {
    "collapsed": false
   },
   "id": "16493a78add90523"
  },
  {
   "cell_type": "markdown",
   "source": [
    "## 练习\n",
    "\n",
    "1. 如果我们将权重初始化为零，会发生什么。算法仍然有效吗？"
   ],
   "metadata": {
    "collapsed": false
   },
   "id": "49cbfc3001951af3"
  },
  {
   "cell_type": "code",
   "execution_count": 30,
   "outputs": [
    {
     "name": "stdout",
     "output_type": "stream",
     "text": [
      "epoch: 0, loss mean:7.945847\n",
      "epoch: 1, loss mean:8.134012\n",
      "epoch: 2, loss mean:8.015102\n"
     ]
    }
   ],
   "source": [
    "# 获取数据集\n",
    "\n",
    "# 初始化参数\n",
    "w = torch.zeros(2, requires_grad=True)\n",
    "b = torch.zeros(1, requires_grad=True)\n",
    "\n",
    "# 定义模型\n",
    "def model(X, w, b):\n",
    "    return torch.matmul(X, w) + b\n",
    "\n",
    "# 定义损失函数\n",
    "def loss(y_hat, y):\n",
    "    return (y_hat - y) ** 2 / 2\n",
    "\n",
    "# 定义优化算法\n",
    "def gradient_descent(params, learning_rate, batch_size):\n",
    "    with torch.no_grad():\n",
    "        for param in params:\n",
    "            # 不可写成赋值写法，即a = a - 1，否则会导致类型错误，应该使用原地操作\n",
    "            param -= learning_rate * param.grad / batch_size\n",
    "            param.grad.zero_()\n",
    "        \n",
    "# 进行训练\n",
    "lr = 0.01\n",
    "batch_size = 100\n",
    "num_epochs = 3\n",
    "\n",
    "# 进行多轮训练\n",
    "for epoch in range(num_epochs):\n",
    "    # 进行一轮训练\n",
    "    for X, y in data_iter(batch_size, features, labels):\n",
    "        # 求预测值y_hat\n",
    "        y_hat = model(X, w, b)\n",
    "        # 求损失函数值\n",
    "        l = loss(y_hat, y)\n",
    "        # 求梯度\n",
    "        l.sum().backward()\n",
    "        # 更新参数（模型）\n",
    "        gradient_descent([w, b], lr, batch_size)\n",
    "    # 验证每轮误差  \n",
    "    with torch.no_grad():\n",
    "        train_l = loss(model(features, w, b), labels)\n",
    "        print(f'epoch: {epoch}, loss mean:{float(train_l.mean()):f}')\n"
   ],
   "metadata": {
    "collapsed": false,
    "ExecuteTime": {
     "end_time": "2023-09-20T09:25:09.973436400Z",
     "start_time": "2023-09-20T09:25:09.915503900Z"
    }
   },
   "id": "fee385b41e4a20e9"
  },
  {
   "cell_type": "markdown",
   "source": [
    "2. 假设试图为电压和电流的关系建立一个模型。自动微分可以用来学习模型的参数吗?"
   ],
   "metadata": {
    "collapsed": false
   },
   "id": "799c58b1daa117c0"
  },
  {
   "cell_type": "code",
   "execution_count": null,
   "outputs": [],
   "source": [],
   "metadata": {
    "collapsed": false
   },
   "id": "1fbfa25e2a18084a"
  },
  {
   "cell_type": "markdown",
   "source": [
    "3. 能基于普朗克定律使用光谱能量密度来确定物体的温度吗？"
   ],
   "metadata": {
    "collapsed": false
   },
   "id": "8ab0d9d064a4500c"
  },
  {
   "cell_type": "code",
   "execution_count": null,
   "outputs": [],
   "source": [],
   "metadata": {
    "collapsed": false
   },
   "id": "5626446e86d4526e"
  },
  {
   "cell_type": "markdown",
   "source": [
    "4. 计算二阶导数时可能会遇到什么问题？这些问题可以如何解决？"
   ],
   "metadata": {
    "collapsed": false
   },
   "id": "73a68774d1e279db"
  },
  {
   "cell_type": "code",
   "execution_count": null,
   "outputs": [],
   "source": [],
   "metadata": {
    "collapsed": false
   },
   "id": "eff03d14129e2396"
  },
  {
   "cell_type": "markdown",
   "source": [
    "5. 为什么在squared_loss函数中需要使用reshape函数？"
   ],
   "metadata": {
    "collapsed": false
   },
   "id": "37c734e61abed997"
  },
  {
   "cell_type": "code",
   "execution_count": null,
   "outputs": [],
   "source": [],
   "metadata": {
    "collapsed": false
   },
   "id": "a0156684dd620a31"
  },
  {
   "cell_type": "markdown",
   "source": [
    "6. 尝试使用不同的学习率，观察损失函数值下降的快慢。"
   ],
   "metadata": {
    "collapsed": false
   },
   "id": "7e0ace16f0e89d7e"
  },
  {
   "cell_type": "code",
   "execution_count": null,
   "outputs": [],
   "source": [],
   "metadata": {
    "collapsed": false
   },
   "id": "3d65b205155fecdb"
  },
  {
   "cell_type": "markdown",
   "source": [
    "7. 如果样本个数不能被批量大小整除，data_iter函数的行为会有什么变化？"
   ],
   "metadata": {
    "collapsed": false
   },
   "id": "1d99420dde23dbdd"
  },
  {
   "cell_type": "code",
   "execution_count": null,
   "outputs": [],
   "source": [],
   "metadata": {
    "collapsed": false
   },
   "id": "ec9eafb83c51832f"
  },
  {
   "cell_type": "markdown",
   "source": [],
   "metadata": {
    "collapsed": false
   },
   "id": "c0b7db5711833c56"
  }
 ],
 "metadata": {
  "kernelspec": {
   "display_name": "Python 3",
   "language": "python",
   "name": "python3"
  },
  "language_info": {
   "codemirror_mode": {
    "name": "ipython",
    "version": 2
   },
   "file_extension": ".py",
   "mimetype": "text/x-python",
   "name": "python",
   "nbconvert_exporter": "python",
   "pygments_lexer": "ipython2",
   "version": "2.7.6"
  }
 },
 "nbformat": 4,
 "nbformat_minor": 5
}
