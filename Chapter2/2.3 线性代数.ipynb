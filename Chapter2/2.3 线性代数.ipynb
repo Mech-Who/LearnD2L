{
 "cells": [
  {
   "cell_type": "markdown",
   "source": [
    "# 标量"
   ],
   "metadata": {
    "collapsed": false
   },
   "id": "c981bfab021eccd"
  },
  {
   "cell_type": "code",
   "execution_count": 1,
   "outputs": [
    {
     "data": {
      "text/plain": "(tensor(5.), tensor(1.), tensor(6.), tensor(1.5000), tensor(9.))"
     },
     "execution_count": 1,
     "metadata": {},
     "output_type": "execute_result"
    }
   ],
   "source": [
    "import torch\n",
    "\n",
    "x = torch.tensor(3.0)\n",
    "y = torch.tensor(2.0)\n",
    "\n",
    "x + y, x - y, x * y, x / y, x ** y "
   ],
   "metadata": {
    "collapsed": false,
    "ExecuteTime": {
     "end_time": "2023-09-16T13:11:21.726459Z",
     "start_time": "2023-09-16T13:11:16.867082200Z"
    }
   },
   "id": "b89f08bf403756"
  },
  {
   "cell_type": "markdown",
   "source": [
    "# 向量"
   ],
   "metadata": {
    "collapsed": false
   },
   "id": "71806d37399e3284"
  },
  {
   "cell_type": "code",
   "execution_count": 2,
   "outputs": [
    {
     "data": {
      "text/plain": "tensor([0, 1, 2, 3])"
     },
     "execution_count": 2,
     "metadata": {},
     "output_type": "execute_result"
    }
   ],
   "source": [
    "x = torch.arange(4)\n",
    "x"
   ],
   "metadata": {
    "collapsed": false,
    "ExecuteTime": {
     "end_time": "2023-09-16T13:21:31.470727700Z",
     "start_time": "2023-09-16T13:21:31.408859800Z"
    }
   },
   "id": "a1c147e164f83b00"
  },
  {
   "cell_type": "code",
   "execution_count": 3,
   "outputs": [
    {
     "data": {
      "text/plain": "tensor(3)"
     },
     "execution_count": 3,
     "metadata": {},
     "output_type": "execute_result"
    }
   ],
   "source": [
    "x[3]"
   ],
   "metadata": {
    "collapsed": false,
    "ExecuteTime": {
     "end_time": "2023-09-16T13:21:42.324981600Z",
     "start_time": "2023-09-16T13:21:42.306030900Z"
    }
   },
   "id": "2e3ca8ec638c4806"
  },
  {
   "cell_type": "markdown",
   "source": [
    "# 长度、维度和形状\n",
    "\n",
    "向量或轴的维度被用来表示向量或轴的长度，即向量或轴的元素数量。 然而，张量的维度用来表示张量具有的轴数。 在这个意义上，张量的某个轴的维数就是这个轴的长度。"
   ],
   "metadata": {
    "collapsed": false
   },
   "id": "f36338bcdcc4911f"
  },
  {
   "cell_type": "code",
   "execution_count": 4,
   "outputs": [
    {
     "data": {
      "text/plain": "4"
     },
     "execution_count": 4,
     "metadata": {},
     "output_type": "execute_result"
    }
   ],
   "source": [
    "len(x)"
   ],
   "metadata": {
    "collapsed": false,
    "ExecuteTime": {
     "end_time": "2023-09-16T13:22:10.222949400Z",
     "start_time": "2023-09-16T13:22:10.200011Z"
    }
   },
   "id": "165c9ba8549e430a"
  },
  {
   "cell_type": "code",
   "execution_count": 5,
   "outputs": [
    {
     "data": {
      "text/plain": "torch.Size([4])"
     },
     "execution_count": 5,
     "metadata": {},
     "output_type": "execute_result"
    }
   ],
   "source": [
    "x.shape"
   ],
   "metadata": {
    "collapsed": false,
    "ExecuteTime": {
     "end_time": "2023-09-16T13:22:15.217064400Z",
     "start_time": "2023-09-16T13:22:15.197118Z"
    }
   },
   "id": "237c631aa26401f3"
  },
  {
   "cell_type": "markdown",
   "source": [
    "# 矩阵\n",
    "\n",
    "## 声明"
   ],
   "metadata": {
    "collapsed": false
   },
   "id": "4f0bd56931306d0e"
  },
  {
   "cell_type": "code",
   "execution_count": 6,
   "outputs": [
    {
     "data": {
      "text/plain": "tensor([[ 0,  1,  2,  3],\n        [ 4,  5,  6,  7],\n        [ 8,  9, 10, 11],\n        [12, 13, 14, 15],\n        [16, 17, 18, 19]])"
     },
     "execution_count": 6,
     "metadata": {},
     "output_type": "execute_result"
    }
   ],
   "source": [
    "A = torch.arange(20).reshape(5, 4)\n",
    "A"
   ],
   "metadata": {
    "collapsed": false,
    "ExecuteTime": {
     "end_time": "2023-09-16T13:24:02.142701700Z",
     "start_time": "2023-09-16T13:24:02.127743900Z"
    }
   },
   "id": "ac2fa817724b31da"
  },
  {
   "cell_type": "markdown",
   "source": [
    "## 转置"
   ],
   "metadata": {
    "collapsed": false
   },
   "id": "b8c5416f31940f7"
  },
  {
   "cell_type": "code",
   "execution_count": 7,
   "outputs": [
    {
     "data": {
      "text/plain": "tensor([[ 0,  4,  8, 12, 16],\n        [ 1,  5,  9, 13, 17],\n        [ 2,  6, 10, 14, 18],\n        [ 3,  7, 11, 15, 19]])"
     },
     "execution_count": 7,
     "metadata": {},
     "output_type": "execute_result"
    }
   ],
   "source": [
    "A.T"
   ],
   "metadata": {
    "collapsed": false,
    "ExecuteTime": {
     "end_time": "2023-09-16T13:24:13.093022100Z",
     "start_time": "2023-09-16T13:24:13.033756200Z"
    }
   },
   "id": "1fe873871488f0d1"
  },
  {
   "cell_type": "markdown",
   "source": [
    "# 对称矩阵"
   ],
   "metadata": {
    "collapsed": false
   },
   "id": "15afb3ea09302059"
  },
  {
   "cell_type": "code",
   "execution_count": 8,
   "outputs": [
    {
     "data": {
      "text/plain": "tensor([[1, 2, 3],\n        [2, 0, 4],\n        [3, 4, 5]])"
     },
     "execution_count": 8,
     "metadata": {},
     "output_type": "execute_result"
    }
   ],
   "source": [
    "B = torch.tensor([[1, 2, 3], [2, 0, 4], [3, 4, 5]])\n",
    "B"
   ],
   "metadata": {
    "collapsed": false,
    "ExecuteTime": {
     "end_time": "2023-09-16T13:25:08.997108200Z",
     "start_time": "2023-09-16T13:25:08.972175800Z"
    }
   },
   "id": "fd3fb7b4b9eb66c9"
  },
  {
   "cell_type": "code",
   "execution_count": 9,
   "outputs": [
    {
     "data": {
      "text/plain": "tensor([[True, True, True],\n        [True, True, True],\n        [True, True, True]])"
     },
     "execution_count": 9,
     "metadata": {},
     "output_type": "execute_result"
    }
   ],
   "source": [
    "B == B.T"
   ],
   "metadata": {
    "collapsed": false,
    "ExecuteTime": {
     "end_time": "2023-09-16T13:26:37.372811900Z",
     "start_time": "2023-09-16T13:26:37.351865200Z"
    }
   },
   "id": "ceb556621f999a1"
  },
  {
   "cell_type": "markdown",
   "source": [
    "# 张量\n",
    "\n",
    "就像向量是标量的推广，矩阵是向量的推广一样，我们可以构建具有更多轴的数据结构。 张量（本小节中的“张量”指代数对象）是描述具有任意数量轴的n维数组的通用方法。\n",
    "\n",
    "张量用特殊字体的大写字母表示（例如，X、Y和Z）， 它们的索引机制（例如$x_{ijk}$和$[X]_{1,2i-1,3}$）与矩阵类似。\n",
    "\n",
    "当我们开始处理图像时，张量将变得更加重要，图像以\n",
    "维数组形式出现， 其中3个轴对应于高度、宽度，以及一个通道（channel）轴， 用于表示颜色通道（红色、绿色和蓝色）。 现在先将高阶张量暂放一边，而是专注学习其基础知识。"
   ],
   "metadata": {
    "collapsed": false
   },
   "id": "8c25400fbdfec419"
  },
  {
   "cell_type": "code",
   "execution_count": 10,
   "outputs": [
    {
     "data": {
      "text/plain": "tensor([[[ 0,  1,  2,  3],\n         [ 4,  5,  6,  7],\n         [ 8,  9, 10, 11]],\n\n        [[12, 13, 14, 15],\n         [16, 17, 18, 19],\n         [20, 21, 22, 23]]])"
     },
     "execution_count": 10,
     "metadata": {},
     "output_type": "execute_result"
    }
   ],
   "source": [
    "X = torch.arange(24).reshape(2, 3, 4)\n",
    "X"
   ],
   "metadata": {
    "collapsed": false,
    "ExecuteTime": {
     "end_time": "2023-09-16T13:29:44.876640900Z",
     "start_time": "2023-09-16T13:29:44.863674200Z"
    }
   },
   "id": "4b1cc67f7bed2978"
  },
  {
   "cell_type": "markdown",
   "source": [
    "# 张量算法的基本性质\n",
    "\n",
    "给定具有相同形状的任意两个张量，任何按元素二元运算的结果都将是相同形状的张量。 例如，将两个相同形状的矩阵相加，会在这两个矩阵上执行元素加法。"
   ],
   "metadata": {
    "collapsed": false
   },
   "id": "8636b9b8536cb73b"
  },
  {
   "cell_type": "code",
   "execution_count": 11,
   "outputs": [
    {
     "data": {
      "text/plain": "(tensor([[ 0.,  1.,  2.,  3.],\n         [ 4.,  5.,  6.,  7.],\n         [ 8.,  9., 10., 11.],\n         [12., 13., 14., 15.],\n         [16., 17., 18., 19.]]),\n tensor([[ 0.,  2.,  4.,  6.],\n         [ 8., 10., 12., 14.],\n         [16., 18., 20., 22.],\n         [24., 26., 28., 30.],\n         [32., 34., 36., 38.]]))"
     },
     "execution_count": 11,
     "metadata": {},
     "output_type": "execute_result"
    }
   ],
   "source": [
    "A = torch.arange(20, dtype=torch.float32).reshape(5, 4)\n",
    "B = A.clone() # 通过分配新内容，将A的一个副本分配给B\n",
    "A, A + B"
   ],
   "metadata": {
    "collapsed": false,
    "ExecuteTime": {
     "end_time": "2023-09-16T13:31:03.918434100Z",
     "start_time": "2023-09-16T13:31:03.867526400Z"
    }
   },
   "id": "761f59b0e0e4377d"
  },
  {
   "cell_type": "code",
   "execution_count": 12,
   "outputs": [
    {
     "data": {
      "text/plain": "tensor([[  0.,   1.,   4.,   9.],\n        [ 16.,  25.,  36.,  49.],\n        [ 64.,  81., 100., 121.],\n        [144., 169., 196., 225.],\n        [256., 289., 324., 361.]])"
     },
     "execution_count": 12,
     "metadata": {},
     "output_type": "execute_result"
    }
   ],
   "source": [
    "A * B"
   ],
   "metadata": {
    "collapsed": false,
    "ExecuteTime": {
     "end_time": "2023-09-16T13:31:36.180274Z",
     "start_time": "2023-09-16T13:31:36.157303900Z"
    }
   },
   "id": "ba04b8815383bf3"
  },
  {
   "cell_type": "code",
   "execution_count": 13,
   "outputs": [
    {
     "data": {
      "text/plain": "(tensor([[[ 2,  3,  4,  5],\n          [ 6,  7,  8,  9],\n          [10, 11, 12, 13]],\n \n         [[14, 15, 16, 17],\n          [18, 19, 20, 21],\n          [22, 23, 24, 25]]]),\n torch.Size([2, 3, 4]))"
     },
     "execution_count": 13,
     "metadata": {},
     "output_type": "execute_result"
    }
   ],
   "source": [
    "a = 2\n",
    "X = torch.arange(24).reshape(2,  3, 4)\n",
    "a + X, (a * X).shape"
   ],
   "metadata": {
    "collapsed": false,
    "ExecuteTime": {
     "end_time": "2023-09-16T13:32:33.773723600Z",
     "start_time": "2023-09-16T13:32:33.748789700Z"
    }
   },
   "id": "c69920587237f268"
  },
  {
   "cell_type": "markdown",
   "source": [
    "# 降维\n",
    "\n",
    "我们可以对任意张量进行的一个有用的操作是计算其元素的和。 数学表示法使用$\\sum$符号表示求和。 为了表示长度为d的向量中元素的总和，可以记为$\\sum^{d}_{i=1}$。 在代码中可以调用计算求和的函数："
   ],
   "metadata": {
    "collapsed": false
   },
   "id": "6ca7e3f3c2d46222"
  },
  {
   "cell_type": "code",
   "execution_count": 14,
   "outputs": [
    {
     "data": {
      "text/plain": "(tensor([0., 1., 2., 3.]), tensor(6.))"
     },
     "execution_count": 14,
     "metadata": {},
     "output_type": "execute_result"
    }
   ],
   "source": [
    "x = torch.arange(4, dtype=torch.float32)\n",
    "x, x.sum()"
   ],
   "metadata": {
    "collapsed": false,
    "ExecuteTime": {
     "end_time": "2023-09-16T13:33:58.091311Z",
     "start_time": "2023-09-16T13:33:58.042374600Z"
    }
   },
   "id": "c1aa81211b3232e6"
  },
  {
   "cell_type": "markdown",
   "source": [
    "## 求和"
   ],
   "metadata": {
    "collapsed": false
   },
   "id": "3f48022427eb20b4"
  },
  {
   "cell_type": "code",
   "execution_count": 15,
   "outputs": [
    {
     "data": {
      "text/plain": "(tensor([[ 0.,  1.,  2.,  3.],\n         [ 4.,  5.,  6.,  7.],\n         [ 8.,  9., 10., 11.],\n         [12., 13., 14., 15.],\n         [16., 17., 18., 19.]]),\n torch.Size([5, 4]),\n tensor(190.))"
     },
     "execution_count": 15,
     "metadata": {},
     "output_type": "execute_result"
    }
   ],
   "source": [
    "A, A.shape, A.sum()"
   ],
   "metadata": {
    "collapsed": false,
    "ExecuteTime": {
     "end_time": "2023-09-16T13:34:21.286108900Z",
     "start_time": "2023-09-16T13:34:21.264152400Z"
    }
   },
   "id": "c35e211760e88a29"
  },
  {
   "cell_type": "code",
   "execution_count": 16,
   "outputs": [
    {
     "data": {
      "text/plain": "(tensor([40., 45., 50., 55.]), torch.Size([4]))"
     },
     "execution_count": 16,
     "metadata": {},
     "output_type": "execute_result"
    }
   ],
   "source": [
    "A_sum_axis0 = A.sum(axis=0)\n",
    "A_sum_axis0, A_sum_axis0.shape"
   ],
   "metadata": {
    "collapsed": false,
    "ExecuteTime": {
     "end_time": "2023-09-16T13:35:11.555416800Z",
     "start_time": "2023-09-16T13:35:11.505550800Z"
    }
   },
   "id": "d04730ddbb3a8a7"
  },
  {
   "cell_type": "code",
   "execution_count": 17,
   "outputs": [
    {
     "data": {
      "text/plain": "(tensor([ 6., 22., 38., 54., 70.]), torch.Size([5]))"
     },
     "execution_count": 17,
     "metadata": {},
     "output_type": "execute_result"
    }
   ],
   "source": [
    "A_sum_axis1 = A.sum(axis=1)\n",
    "A_sum_axis1, A_sum_axis1.shape"
   ],
   "metadata": {
    "collapsed": false,
    "ExecuteTime": {
     "end_time": "2023-09-16T13:37:13.080733900Z",
     "start_time": "2023-09-16T13:37:13.057794900Z"
    }
   },
   "id": "c6b2967714fda23c"
  },
  {
   "cell_type": "code",
   "execution_count": 18,
   "outputs": [
    {
     "data": {
      "text/plain": "tensor(190.)"
     },
     "execution_count": 18,
     "metadata": {},
     "output_type": "execute_result"
    }
   ],
   "source": [
    "A.sum(axis=[0, 1])"
   ],
   "metadata": {
    "collapsed": false,
    "ExecuteTime": {
     "end_time": "2023-09-16T13:37:35.821512400Z",
     "start_time": "2023-09-16T13:37:35.773710300Z"
    }
   },
   "id": "de9e8e4fb2d0fb6"
  },
  {
   "cell_type": "markdown",
   "source": [
    "## 求平均"
   ],
   "metadata": {
    "collapsed": false
   },
   "id": "3689cbaf08019fd0"
  },
  {
   "cell_type": "code",
   "execution_count": 19,
   "outputs": [
    {
     "data": {
      "text/plain": "(tensor(9.5000), tensor(9.5000))"
     },
     "execution_count": 19,
     "metadata": {},
     "output_type": "execute_result"
    }
   ],
   "source": [
    "A.mean(), A.sum() / A.numel()"
   ],
   "metadata": {
    "collapsed": false,
    "ExecuteTime": {
     "end_time": "2023-09-16T13:38:54.858648600Z",
     "start_time": "2023-09-16T13:38:54.830708600Z"
    }
   },
   "id": "4d83b8f91c7686eb"
  },
  {
   "cell_type": "code",
   "execution_count": 20,
   "outputs": [
    {
     "data": {
      "text/plain": "(tensor([ 8.,  9., 10., 11.]), tensor([ 8.,  9., 10., 11.]))"
     },
     "execution_count": 20,
     "metadata": {},
     "output_type": "execute_result"
    }
   ],
   "source": [
    "A.mean(axis=0), A.sum(axis=0) / A.shape[0]"
   ],
   "metadata": {
    "collapsed": false,
    "ExecuteTime": {
     "end_time": "2023-09-16T13:40:15.581337100Z",
     "start_time": "2023-09-16T13:40:15.515090300Z"
    }
   },
   "id": "4d32fe357640cf84"
  },
  {
   "cell_type": "markdown",
   "source": [
    "# 非降维求和"
   ],
   "metadata": {
    "collapsed": false
   },
   "id": "64e5f106a39a17f"
  },
  {
   "cell_type": "code",
   "execution_count": 21,
   "outputs": [
    {
     "data": {
      "text/plain": "tensor([[ 6.],\n        [22.],\n        [38.],\n        [54.],\n        [70.]])"
     },
     "execution_count": 21,
     "metadata": {},
     "output_type": "execute_result"
    }
   ],
   "source": [
    "# 通过参数keepdims来确保求和不降维\n",
    "sum_A = A.sum(axis=1, keepdims=True)\n",
    "sum_A"
   ],
   "metadata": {
    "collapsed": false,
    "ExecuteTime": {
     "end_time": "2023-09-16T13:41:02.241756300Z",
     "start_time": "2023-09-16T13:41:02.214828600Z"
    }
   },
   "id": "2cafb41862b51e13"
  },
  {
   "cell_type": "code",
   "execution_count": 22,
   "outputs": [
    {
     "data": {
      "text/plain": "tensor([[0.0000, 0.1667, 0.3333, 0.5000],\n        [0.1818, 0.2273, 0.2727, 0.3182],\n        [0.2105, 0.2368, 0.2632, 0.2895],\n        [0.2222, 0.2407, 0.2593, 0.2778],\n        [0.2286, 0.2429, 0.2571, 0.2714]])"
     },
     "execution_count": 22,
     "metadata": {},
     "output_type": "execute_result"
    }
   ],
   "source": [
    "A / sum_A"
   ],
   "metadata": {
    "collapsed": false,
    "ExecuteTime": {
     "end_time": "2023-09-16T13:41:51.604613Z",
     "start_time": "2023-09-16T13:41:51.556695500Z"
    }
   },
   "id": "4e3429f3cbb6771f"
  },
  {
   "cell_type": "markdown",
   "source": [
    "如果我们想沿某个轴计算A元素的累积总和， 比如axis=0（按行计算），可以调用cumsum函数。 此函数不会沿任何轴降低输入张量的维度。"
   ],
   "metadata": {
    "collapsed": false
   },
   "id": "de686f54565c9ecf"
  },
  {
   "cell_type": "code",
   "execution_count": 23,
   "outputs": [
    {
     "data": {
      "text/plain": "tensor([[ 0.,  1.,  2.,  3.],\n        [ 4.,  6.,  8., 10.],\n        [12., 15., 18., 21.],\n        [24., 28., 32., 36.],\n        [40., 45., 50., 55.]])"
     },
     "execution_count": 23,
     "metadata": {},
     "output_type": "execute_result"
    }
   ],
   "source": [
    "A.cumsum(axis=0)"
   ],
   "metadata": {
    "collapsed": false,
    "ExecuteTime": {
     "end_time": "2023-09-16T13:42:32.842643Z",
     "start_time": "2023-09-16T13:42:32.801351Z"
    }
   },
   "id": "24e47733cd8631a5"
  },
  {
   "cell_type": "markdown",
   "source": [
    "# 点积"
   ],
   "metadata": {
    "collapsed": false
   },
   "id": "ff2044a645e7917b"
  },
  {
   "cell_type": "code",
   "execution_count": 24,
   "outputs": [
    {
     "data": {
      "text/plain": "(tensor([0., 1., 2., 3.]), tensor([1., 1., 1., 1.]), tensor(6.))"
     },
     "execution_count": 24,
     "metadata": {},
     "output_type": "execute_result"
    }
   ],
   "source": [
    "y = torch.ones(4, dtype=torch.float32)\n",
    "x, y, torch.dot(x, y)"
   ],
   "metadata": {
    "collapsed": false,
    "ExecuteTime": {
     "end_time": "2023-09-16T13:43:49.234506400Z",
     "start_time": "2023-09-16T13:43:49.148673800Z"
    }
   },
   "id": "22238b20e1f88cfe"
  },
  {
   "cell_type": "code",
   "execution_count": 25,
   "outputs": [
    {
     "data": {
      "text/plain": "tensor(6.)"
     },
     "execution_count": 25,
     "metadata": {},
     "output_type": "execute_result"
    }
   ],
   "source": [
    "torch.sum(x * y)"
   ],
   "metadata": {
    "collapsed": false,
    "ExecuteTime": {
     "end_time": "2023-09-16T13:44:25.198360100Z",
     "start_time": "2023-09-16T13:44:25.134182100Z"
    }
   },
   "id": "302da88488277142"
  },
  {
   "cell_type": "markdown",
   "source": [
    "# 矩阵-向量积\n",
    "\n",
    "在代码中使用张量表示矩阵-向量积，我们使用mv函数。 当我们为矩阵A和向量x调用torch.mv(A, x)时，会执行矩阵-向量积。 注意，A的列维数（沿轴1的长度）必须与x的维数（其长度）相同。"
   ],
   "metadata": {
    "collapsed": false
   },
   "id": "e25d57b5b9d5f66"
  },
  {
   "cell_type": "code",
   "execution_count": 26,
   "outputs": [
    {
     "data": {
      "text/plain": "(torch.Size([5, 4]), torch.Size([4]), tensor([ 14.,  38.,  62.,  86., 110.]))"
     },
     "execution_count": 26,
     "metadata": {},
     "output_type": "execute_result"
    }
   ],
   "source": [
    "A.shape, x.shape, torch.mv(A, x)"
   ],
   "metadata": {
    "collapsed": false,
    "ExecuteTime": {
     "end_time": "2023-09-16T13:45:10.777134600Z",
     "start_time": "2023-09-16T13:45:10.745220100Z"
    }
   },
   "id": "3521d4560552b65e"
  },
  {
   "cell_type": "markdown",
   "source": [
    "# 矩阵-矩阵乘法\n",
    "\n",
    "我们可以将矩阵-矩阵乘法$AB$看作简单地执行$m$次矩阵-向量积，并将结果拼接在一起，形成一个$n×m$矩阵。 在下面的代码中，我们在A和B上执行矩阵乘法。 这里的A是一个5行4列的矩阵，B是一个4行3列的矩阵。 两者相乘后，我们得到了一个5行3列的矩阵。\n",
    "\n",
    "矩阵-矩阵乘法可以简单地称为矩阵乘法，不应与“Hadamard积”混淆。"
   ],
   "metadata": {
    "collapsed": false
   },
   "id": "43f16b8cc2ce45f"
  },
  {
   "cell_type": "code",
   "execution_count": 28,
   "outputs": [
    {
     "data": {
      "text/plain": "(tensor([[ 0.,  1.,  2.,  3.],\n         [ 4.,  5.,  6.,  7.],\n         [ 8.,  9., 10., 11.],\n         [12., 13., 14., 15.],\n         [16., 17., 18., 19.]]),\n tensor([[1., 1., 1.],\n         [1., 1., 1.],\n         [1., 1., 1.],\n         [1., 1., 1.]]),\n tensor([[ 6.,  6.,  6.],\n         [22., 22., 22.],\n         [38., 38., 38.],\n         [54., 54., 54.],\n         [70., 70., 70.]]))"
     },
     "execution_count": 28,
     "metadata": {},
     "output_type": "execute_result"
    }
   ],
   "source": [
    "B = torch.ones(4, 3)\n",
    "A, B, torch.mm(A, B)"
   ],
   "metadata": {
    "collapsed": false,
    "ExecuteTime": {
     "end_time": "2023-09-16T13:48:02.571385900Z",
     "start_time": "2023-09-16T13:48:02.555121200Z"
    }
   },
   "id": "96d720ddaa0cb0fa"
  },
  {
   "cell_type": "markdown",
   "source": [
    "# 范数\n",
    "\n",
    "线性代数中最有用的一些运算符是范数（norm）。 非正式地说，向量的范数是表示一个向量有多大。 这里考虑的大小（size）概念不涉及维度，而是分量的大小。\n",
    "\n",
    "在线性代数中，向量范数是将向量映射到标量的函数$f$。 给定任意向量$x$，向量范数要满足一些属性。\n",
    "1. 第一个性质是：如果我们按常数因子$\\alpha$缩放向量的所有元素， 其范数也会按相同常数因子的绝对值缩放：\n",
    "    $$\n",
    "        f(\\alpha x)=|\\alpha |f(x)\n",
    "    $$\n",
    "2. 第二个性质是熟悉的三角不等式:\n",
    "    $$\n",
    "        f(x+y)\\leq f(x) + f(y)\n",
    "    $$\n",
    "3. 第三个性质简单地说范数必须是非负的:\n",
    "    $$\n",
    "        f(x)\\geq 0\n",
    "    $$\n",
    "4. 最后一个性质要求范数最小为0，当且仅当向量全由0组成。\n",
    "    $$\n",
    "        \\forall i,[x]_i=0\\iff f(x)=0\n",
    "    $$\n",
    "\n",
    "范数听起来很像距离的度量。 欧几里得距离和毕达哥拉斯定理中的非负性概念和三角不等式可能会给出一些启发。 事实上，欧几里得距离是一个$L_2$范数： 假设$n$维向量$x$中的元素是$x_1,\\cdot \\cdot \\cdot ,X_n$，其$L_2$范数是向量元素平方和的平方根：\n",
    "$$\n",
    "    ||x||_2=\\sqrt{\\sum^{n}_{i=1}x^{2}_{i}]}\n",
    "$$\n",
    "其中，在$L_2$范数中常常省略下标2，也就是说$||X||$等同于$||x||_2$。 在代码中，我们可以按如下方式计算向量的$L_2$范数。"
   ],
   "metadata": {
    "collapsed": false
   },
   "id": "96970d37184a9bf"
  },
  {
   "cell_type": "code",
   "execution_count": 30,
   "outputs": [
    {
     "data": {
      "text/plain": "tensor(5.)"
     },
     "execution_count": 30,
     "metadata": {},
     "output_type": "execute_result"
    }
   ],
   "source": [
    "u = torch.tensor([3.0, -4.0])\n",
    "# 计算l2范数\n",
    "torch.norm(u)"
   ],
   "metadata": {
    "collapsed": false,
    "ExecuteTime": {
     "end_time": "2023-09-16T14:02:43.179505Z",
     "start_time": "2023-09-16T14:02:43.123654200Z"
    }
   },
   "id": "317d61c47c6b75ad"
  },
  {
   "cell_type": "markdown",
   "source": [
    "深度学习中更经常地使用$L_2$范数的平方，也会经常遇到$L_1$范数，它表示为向量元素的绝对值之和：\n",
    "$$\n",
    "||x||_1=\\sum^{n}_{i=1}|x_i|\n",
    "$$\n",
    "与$L_2$范数相比，$L_1$范数受异常值的影响较小。 为了计算$L_1$范数，我们将绝对值函数和按元素求和组合起来。"
   ],
   "metadata": {
    "collapsed": false
   },
   "id": "a105873ef7f82d7c"
  },
  {
   "cell_type": "code",
   "execution_count": 31,
   "outputs": [
    {
     "data": {
      "text/plain": "tensor(7.)"
     },
     "execution_count": 31,
     "metadata": {},
     "output_type": "execute_result"
    }
   ],
   "source": [
    "# 计算l1范数\n",
    "torch.abs(u).sum()"
   ],
   "metadata": {
    "collapsed": false,
    "ExecuteTime": {
     "end_time": "2023-09-16T14:02:47.974911600Z",
     "start_time": "2023-09-16T14:02:47.944233700Z"
    }
   },
   "id": "e8418f3a0649021b"
  },
  {
   "cell_type": "markdown",
   "source": [
    "范数和$L_2$范数$L_1$都是更一般的$L_p$范数的特例：\n",
    "$$\n",
    "||x||_p = (\\sum^{n}_{i=1}|x_i|^p)^{\\frac{1}{[}}\n",
    "$$\n",
    "类似于向量的$L_2$范数，矩阵$X\\in \\mathbb{R}$的*Frobenius*范数（Frobenius norm）是矩阵元素平方和的平方根：\n",
    "$$\n",
    "||X||_F = \\sqrt{\\sum^{m}_{i=1}\\sum^{n}_{j=1}x^{2}_{ij}}\n",
    "$$\n",
    "Frobenius范数满足向量范数的所有性质，它就像是矩阵形向量的$L_2$范数。 调用以下函数将计算矩阵的Frobenius范数。"
   ],
   "metadata": {
    "collapsed": false
   },
   "id": "f80f20f0ccb879f4"
  },
  {
   "cell_type": "code",
   "execution_count": 34,
   "outputs": [
    {
     "data": {
      "text/plain": "(tensor([[1., 1., 1., 1., 1., 1., 1., 1., 1.],\n         [1., 1., 1., 1., 1., 1., 1., 1., 1.],\n         [1., 1., 1., 1., 1., 1., 1., 1., 1.],\n         [1., 1., 1., 1., 1., 1., 1., 1., 1.]]),\n tensor(6.))"
     },
     "execution_count": 34,
     "metadata": {},
     "output_type": "execute_result"
    }
   ],
   "source": [
    "temp = torch.ones((4, 9))\n",
    "temp, torch.norm(temp)"
   ],
   "metadata": {
    "collapsed": false,
    "ExecuteTime": {
     "end_time": "2023-09-16T14:18:43.930799900Z",
     "start_time": "2023-09-16T14:18:43.896889300Z"
    }
   },
   "id": "882c5f4a50ea91e2"
  },
  {
   "cell_type": "code",
   "execution_count": null,
   "outputs": [],
   "source": [],
   "metadata": {
    "collapsed": false
   },
   "id": "b2186402fc4388c0"
  }
 ],
 "metadata": {
  "kernelspec": {
   "display_name": "Python 3",
   "language": "python",
   "name": "python3"
  },
  "language_info": {
   "codemirror_mode": {
    "name": "ipython",
    "version": 2
   },
   "file_extension": ".py",
   "mimetype": "text/x-python",
   "name": "python",
   "nbconvert_exporter": "python",
   "pygments_lexer": "ipython2",
   "version": "2.7.6"
  }
 },
 "nbformat": 4,
 "nbformat_minor": 5
}
