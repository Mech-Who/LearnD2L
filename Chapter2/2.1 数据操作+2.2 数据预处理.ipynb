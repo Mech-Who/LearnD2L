{
 "cells": [
  {
   "cell_type": "markdown",
   "id": "db1385a2",
   "metadata": {},
   "source": [
    "# 数据操作\n",
    "\n",
    "## 导入Pytorch\n",
    "\n",
    "注意，pytorch在导入时，实际上是torch（这个框架原先是叫torch，且并非是python编写的）。"
   ]
  },
  {
   "cell_type": "code",
   "execution_count": 1,
   "id": "4678f2f0",
   "metadata": {
    "ExecuteTime": {
     "end_time": "2023-09-14T08:26:08.989181700Z",
     "start_time": "2023-09-14T08:26:05.964219400Z"
    }
   },
   "outputs": [],
   "source": [
    "import torch"
   ]
  },
  {
   "cell_type": "markdown",
   "id": "d01e09bf",
   "metadata": {},
   "source": [
    "## 创建张量"
   ]
  },
  {
   "cell_type": "code",
   "execution_count": 2,
   "id": "bfc27612",
   "metadata": {
    "ExecuteTime": {
     "end_time": "2023-09-14T08:26:09.013120400Z",
     "start_time": "2023-09-14T08:26:08.994169Z"
    }
   },
   "outputs": [
    {
     "data": {
      "text/plain": "tensor([ 0,  1,  2,  3,  4,  5,  6,  7,  8,  9, 10, 11])"
     },
     "execution_count": 2,
     "metadata": {},
     "output_type": "execute_result"
    }
   ],
   "source": [
    "x = torch.arange(12)\n",
    "x"
   ]
  },
  {
   "cell_type": "markdown",
   "id": "86c69de6",
   "metadata": {},
   "source": [
    "## 查看张量的形状"
   ]
  },
  {
   "cell_type": "code",
   "execution_count": 3,
   "id": "b1c48427",
   "metadata": {
    "ExecuteTime": {
     "end_time": "2023-09-14T08:26:09.096992Z",
     "start_time": "2023-09-14T08:26:09.010125700Z"
    }
   },
   "outputs": [
    {
     "data": {
      "text/plain": "torch.Size([12])"
     },
     "execution_count": 3,
     "metadata": {},
     "output_type": "execute_result"
    }
   ],
   "source": [
    "x.shape"
   ]
  },
  {
   "cell_type": "markdown",
   "id": "18cb8f5c",
   "metadata": {},
   "source": [
    "## 查看元素总数（number of elements）"
   ]
  },
  {
   "cell_type": "code",
   "execution_count": 4,
   "id": "99bd38dd",
   "metadata": {
    "ExecuteTime": {
     "end_time": "2023-09-14T08:26:09.098971100Z",
     "start_time": "2023-09-14T08:26:09.025085800Z"
    }
   },
   "outputs": [
    {
     "data": {
      "text/plain": "12"
     },
     "execution_count": 4,
     "metadata": {},
     "output_type": "execute_result"
    }
   ],
   "source": [
    "x.numel()"
   ]
  },
  {
   "cell_type": "markdown",
   "id": "39fd9dc2",
   "metadata": {},
   "source": [
    "## 修改形状"
   ]
  },
  {
   "cell_type": "code",
   "execution_count": 5,
   "id": "ca144643",
   "metadata": {
    "ExecuteTime": {
     "end_time": "2023-09-14T08:26:09.099969300Z",
     "start_time": "2023-09-14T08:26:09.042122800Z"
    }
   },
   "outputs": [
    {
     "data": {
      "text/plain": "tensor([[ 0,  1,  2,  3],\n        [ 4,  5,  6,  7],\n        [ 8,  9, 10, 11]])"
     },
     "execution_count": 5,
     "metadata": {},
     "output_type": "execute_result"
    }
   ],
   "source": [
    "X = x.reshape(3, 4)\n",
    "X"
   ]
  },
  {
   "cell_type": "markdown",
   "id": "5087fbf9",
   "metadata": {},
   "source": [
    "## 创建全0或全1矩阵"
   ]
  },
  {
   "cell_type": "code",
   "execution_count": 6,
   "id": "a8966f0e",
   "metadata": {
    "ExecuteTime": {
     "end_time": "2023-09-14T08:26:09.113006900Z",
     "start_time": "2023-09-14T08:26:09.054092500Z"
    }
   },
   "outputs": [
    {
     "data": {
      "text/plain": "tensor([[[0., 0., 0., 0.],\n         [0., 0., 0., 0.],\n         [0., 0., 0., 0.]],\n\n        [[0., 0., 0., 0.],\n         [0., 0., 0., 0.],\n         [0., 0., 0., 0.]]])"
     },
     "execution_count": 6,
     "metadata": {},
     "output_type": "execute_result"
    }
   ],
   "source": [
    "torch.zeros((2, 3, 4))"
   ]
  },
  {
   "cell_type": "code",
   "execution_count": 7,
   "id": "ca0b6985",
   "metadata": {
    "ExecuteTime": {
     "end_time": "2023-09-14T08:26:09.115005600Z",
     "start_time": "2023-09-14T08:26:09.070049600Z"
    }
   },
   "outputs": [
    {
     "data": {
      "text/plain": "tensor([[[1., 1., 1., 1.],\n         [1., 1., 1., 1.],\n         [1., 1., 1., 1.]],\n\n        [[1., 1., 1., 1.],\n         [1., 1., 1., 1.],\n         [1., 1., 1., 1.]]])"
     },
     "execution_count": 7,
     "metadata": {},
     "output_type": "execute_result"
    }
   ],
   "source": [
    "torch.ones((2, 3, 4))"
   ]
  },
  {
   "cell_type": "markdown",
   "id": "d7554e87",
   "metadata": {},
   "source": [
    "## 通过python的list来创建张量"
   ]
  },
  {
   "cell_type": "code",
   "execution_count": 8,
   "id": "ea19c25c",
   "metadata": {
    "ExecuteTime": {
     "end_time": "2023-09-14T08:26:09.333422400Z",
     "start_time": "2023-09-14T08:26:09.088000200Z"
    }
   },
   "outputs": [
    {
     "data": {
      "text/plain": "tensor([[1, 2, 3],\n        [4, 5, 6],\n        [7, 8, 9]])"
     },
     "execution_count": 8,
     "metadata": {},
     "output_type": "execute_result"
    }
   ],
   "source": [
    "torch.tensor([[1, 2, 3], [4, 5, 6], [7, 8, 9]])"
   ]
  },
  {
   "cell_type": "markdown",
   "id": "7bbe1840",
   "metadata": {},
   "source": [
    "## \n",
    "基础运算"
   ]
  },
  {
   "cell_type": "code",
   "execution_count": 9,
   "id": "b72827cf",
   "metadata": {
    "ExecuteTime": {
     "end_time": "2023-09-14T08:26:09.359352100Z",
     "start_time": "2023-09-14T08:26:09.104954600Z"
    }
   },
   "outputs": [
    {
     "data": {
      "text/plain": "(tensor([ 3.,  4.,  6., 10.]),\n tensor([-1.,  0.,  2.,  6.]),\n tensor([ 2.,  4.,  8., 16.]),\n tensor([1., 0., 0., 0.]),\n tensor([ 1.,  4., 16., 64.]))"
     },
     "execution_count": 9,
     "metadata": {},
     "output_type": "execute_result"
    }
   ],
   "source": [
    "x = torch.tensor([1.0, 2, 4, 8])\n",
    "y = torch.tensor([2, 2, 2, 2])\n",
    "x + y, x - y, x * y, x % y, x ** y"
   ]
  },
  {
   "cell_type": "code",
   "execution_count": 10,
   "id": "00c4db99",
   "metadata": {
    "ExecuteTime": {
     "end_time": "2023-09-14T08:26:09.360350900Z",
     "start_time": "2023-09-14T08:26:09.133954700Z"
    }
   },
   "outputs": [
    {
     "data": {
      "text/plain": "tensor([2.7183e+00, 7.3891e+00, 5.4598e+01, 2.9810e+03])"
     },
     "execution_count": 10,
     "metadata": {},
     "output_type": "execute_result"
    }
   ],
   "source": [
    "torch.exp(x)"
   ]
  },
  {
   "cell_type": "markdown",
   "id": "33889648",
   "metadata": {},
   "source": [
    "## 连接"
   ]
  },
  {
   "cell_type": "code",
   "execution_count": 11,
   "id": "32ab3906",
   "metadata": {
    "ExecuteTime": {
     "end_time": "2023-09-14T08:26:09.363341900Z",
     "start_time": "2023-09-14T08:26:09.150910300Z"
    }
   },
   "outputs": [
    {
     "data": {
      "text/plain": "(tensor([[ 0.,  1.,  2.,  3.],\n         [ 4.,  5.,  6.,  7.],\n         [ 8.,  9., 10., 11.],\n         [ 2.,  1.,  4.,  3.],\n         [ 1.,  2.,  3.,  4.],\n         [ 4.,  3.,  2.,  1.]]),\n tensor([[ 0.,  1.,  2.,  3.,  2.,  1.,  4.,  3.],\n         [ 4.,  5.,  6.,  7.,  1.,  2.,  3.,  4.],\n         [ 8.,  9., 10., 11.,  4.,  3.,  2.,  1.]]))"
     },
     "execution_count": 11,
     "metadata": {},
     "output_type": "execute_result"
    }
   ],
   "source": [
    "X = torch.arange(12, dtype=torch.float32).reshape((3, 4))\n",
    "Y = torch.tensor([[2.0, 1, 4, 3], [1, 2, 3, 4],[4, 3, 2, 1]])\n",
    "torch.cat((X, Y), dim=0), torch.cat((X, Y), dim=1)"
   ]
  },
  {
   "cell_type": "markdown",
   "id": "60549ab2",
   "metadata": {},
   "source": [
    "## 等值判断"
   ]
  },
  {
   "cell_type": "code",
   "execution_count": 12,
   "id": "b4475c2c",
   "metadata": {
    "ExecuteTime": {
     "end_time": "2023-09-14T08:26:09.364339300Z",
     "start_time": "2023-09-14T08:26:09.180829400Z"
    }
   },
   "outputs": [
    {
     "data": {
      "text/plain": "tensor([[False,  True, False,  True],\n        [False, False, False, False],\n        [False, False, False, False]])"
     },
     "execution_count": 12,
     "metadata": {},
     "output_type": "execute_result"
    }
   ],
   "source": [
    "X == Y"
   ]
  },
  {
   "cell_type": "markdown",
   "id": "708bf034",
   "metadata": {},
   "source": [
    "## 张量求和"
   ]
  },
  {
   "cell_type": "code",
   "execution_count": 13,
   "id": "b7c77fcf",
   "metadata": {
    "ExecuteTime": {
     "end_time": "2023-09-14T08:26:09.380298Z",
     "start_time": "2023-09-14T08:26:09.192798300Z"
    }
   },
   "outputs": [
    {
     "data": {
      "text/plain": "tensor(66.)"
     },
     "execution_count": 13,
     "metadata": {},
     "output_type": "execute_result"
    }
   ],
   "source": [
    "X.sum()"
   ]
  },
  {
   "cell_type": "markdown",
   "id": "2c927baf",
   "metadata": {},
   "source": [
    "## 广播机制\n",
    "\n",
    "这里是最容易出错的点"
   ]
  },
  {
   "cell_type": "code",
   "execution_count": 14,
   "id": "60f6ceb2",
   "metadata": {
    "ExecuteTime": {
     "end_time": "2023-09-14T08:26:09.381294400Z",
     "start_time": "2023-09-14T08:26:09.213742700Z"
    }
   },
   "outputs": [
    {
     "data": {
      "text/plain": "(tensor([[0],\n         [1],\n         [2]]),\n tensor([[0, 1]]))"
     },
     "execution_count": 14,
     "metadata": {},
     "output_type": "execute_result"
    }
   ],
   "source": [
    "a = torch.arange(3).reshape((3, 1))\n",
    "b = torch.arange(2).reshape((1, 2))\n",
    "a, b"
   ]
  },
  {
   "cell_type": "code",
   "execution_count": 15,
   "id": "c96ae5b9",
   "metadata": {
    "ExecuteTime": {
     "end_time": "2023-09-14T08:26:09.382291600Z",
     "start_time": "2023-09-14T08:26:09.242665200Z"
    }
   },
   "outputs": [
    {
     "data": {
      "text/plain": "tensor([[0, 1],\n        [1, 2],\n        [2, 3]])"
     },
     "execution_count": 15,
     "metadata": {},
     "output_type": "execute_result"
    }
   ],
   "source": [
    "a + b"
   ]
  },
  {
   "cell_type": "markdown",
   "id": "59ca3804",
   "metadata": {},
   "source": [
    "## 访问元素"
   ]
  },
  {
   "cell_type": "code",
   "execution_count": 16,
   "id": "e79d9b3e",
   "metadata": {
    "ExecuteTime": {
     "end_time": "2023-09-14T08:26:09.383289500Z",
     "start_time": "2023-09-14T08:26:09.257625Z"
    }
   },
   "outputs": [
    {
     "data": {
      "text/plain": "(tensor([ 8.,  9., 10., 11.]),\n tensor([[ 4.,  5.,  6.,  7.],\n         [ 8.,  9., 10., 11.]]))"
     },
     "execution_count": 16,
     "metadata": {},
     "output_type": "execute_result"
    }
   ],
   "source": [
    "X[-1], X[1:3]"
   ]
  },
  {
   "cell_type": "markdown",
   "id": "073093d9",
   "metadata": {},
   "source": [
    "## 写入元素"
   ]
  },
  {
   "cell_type": "code",
   "execution_count": 17,
   "id": "9b38df3f",
   "metadata": {
    "ExecuteTime": {
     "end_time": "2023-09-14T08:26:09.390269800Z",
     "start_time": "2023-09-14T08:26:09.274580200Z"
    }
   },
   "outputs": [],
   "source": [
    "X[1, 2] = 9"
   ]
  },
  {
   "cell_type": "code",
   "execution_count": 18,
   "id": "3a5de98f",
   "metadata": {
    "ExecuteTime": {
     "end_time": "2023-09-14T08:26:09.391267400Z",
     "start_time": "2023-09-14T08:26:09.289539Z"
    }
   },
   "outputs": [
    {
     "data": {
      "text/plain": "tensor([[ 0.,  1.,  2.,  3.],\n        [ 4.,  5.,  9.,  7.],\n        [ 8.,  9., 10., 11.]])"
     },
     "execution_count": 18,
     "metadata": {},
     "output_type": "execute_result"
    }
   ],
   "source": [
    "X"
   ]
  },
  {
   "cell_type": "code",
   "execution_count": 19,
   "id": "05d0bb39",
   "metadata": {
    "ExecuteTime": {
     "end_time": "2023-09-14T08:26:09.392264300Z",
     "start_time": "2023-09-14T08:26:09.304500300Z"
    }
   },
   "outputs": [
    {
     "data": {
      "text/plain": "tensor([[12., 12., 12., 12.],\n        [12., 12., 12., 12.],\n        [ 8.,  9., 10., 11.]])"
     },
     "execution_count": 19,
     "metadata": {},
     "output_type": "execute_result"
    }
   ],
   "source": [
    "X[0:2, :] = 12\n",
    "X"
   ]
  },
  {
   "cell_type": "markdown",
   "id": "ad804292",
   "metadata": {},
   "source": [
    "## 内存分配（通过id判断是否是原来的内存）"
   ]
  },
  {
   "cell_type": "code",
   "execution_count": 20,
   "id": "3177fb07",
   "metadata": {
    "ExecuteTime": {
     "end_time": "2023-09-14T08:26:09.392264300Z",
     "start_time": "2023-09-14T08:26:09.319459200Z"
    }
   },
   "outputs": [
    {
     "data": {
      "text/plain": "False"
     },
     "execution_count": 20,
     "metadata": {},
     "output_type": "execute_result"
    }
   ],
   "source": [
    "before = id(Y)\n",
    "Y = Y + X\n",
    "id(Y) == before"
   ]
  },
  {
   "cell_type": "markdown",
   "id": "293bb47f",
   "metadata": {},
   "source": [
    "## 原地操作（减少内存开销）"
   ]
  },
  {
   "cell_type": "code",
   "execution_count": 21,
   "id": "231ade7f",
   "metadata": {
    "ExecuteTime": {
     "end_time": "2023-09-14T08:26:09.396253800Z",
     "start_time": "2023-09-14T08:26:09.337410800Z"
    }
   },
   "outputs": [
    {
     "name": "stdout",
     "output_type": "stream",
     "text": [
      "id(Z):2415823523984\n",
      "id(Z):2415823523984\n"
     ]
    }
   ],
   "source": [
    "Z = torch.zeros_like(Y)\n",
    "print(\"id(Z):\" + str(id(Z)))\n",
    "Z[:] = X + Y\n",
    "print(\"id(Z):\" + str(id(Z)))"
   ]
  },
  {
   "cell_type": "code",
   "execution_count": 22,
   "id": "c1835fa2",
   "metadata": {
    "ExecuteTime": {
     "end_time": "2023-09-14T08:26:09.788883400Z",
     "start_time": "2023-09-14T08:26:09.351374600Z"
    }
   },
   "outputs": [
    {
     "data": {
      "text/plain": "True"
     },
     "execution_count": 22,
     "metadata": {},
     "output_type": "execute_result"
    }
   ],
   "source": [
    "before = id(X)\n",
    "X += Y\n",
    "id(X) == before"
   ]
  },
  {
   "cell_type": "markdown",
   "id": "b173e4dd",
   "metadata": {},
   "source": [
    "## 与numpy的转换"
   ]
  },
  {
   "cell_type": "code",
   "execution_count": 23,
   "id": "874f5dff",
   "metadata": {
    "ExecuteTime": {
     "end_time": "2023-09-14T08:26:09.808829600Z",
     "start_time": "2023-09-14T08:26:09.369326600Z"
    }
   },
   "outputs": [
    {
     "data": {
      "text/plain": "(numpy.ndarray, torch.Tensor)"
     },
     "execution_count": 23,
     "metadata": {},
     "output_type": "execute_result"
    }
   ],
   "source": [
    "A = X.numpy()\n",
    "B = torch.tensor(A)\n",
    "type(A), type(B)"
   ]
  },
  {
   "cell_type": "markdown",
   "id": "7662893e",
   "metadata": {},
   "source": [
    "## 与python标量的转换"
   ]
  },
  {
   "cell_type": "code",
   "execution_count": 24,
   "id": "9075f69b",
   "metadata": {
    "ExecuteTime": {
     "end_time": "2023-09-14T08:26:09.826394400Z",
     "start_time": "2023-09-14T08:26:09.384285600Z"
    }
   },
   "outputs": [
    {
     "data": {
      "text/plain": "(tensor([3.5000]), 3.5, 3.5, 3)"
     },
     "execution_count": 24,
     "metadata": {},
     "output_type": "execute_result"
    }
   ],
   "source": [
    "a = torch.tensor([3.5])\n",
    "a, a.item(), float(a), int(a)"
   ]
  },
  {
   "cell_type": "markdown",
   "id": "67a44d48",
   "metadata": {},
   "source": [
    "# 数据预处理\n",
    "\n",
    "## 通过os内置包创建csv数据集\n",
    "\n",
    "创建一个人工数据集，并存储在csv（逗号分隔值）文件中，"
   ]
  },
  {
   "cell_type": "code",
   "execution_count": 25,
   "id": "c2f975f6",
   "metadata": {
    "ExecuteTime": {
     "end_time": "2023-09-14T08:26:09.826394400Z",
     "start_time": "2023-09-14T08:26:09.405230Z"
    }
   },
   "outputs": [],
   "source": [
    "import os\n",
    "\n",
    "os.makedirs(os.path.join('..', 'data'), exist_ok=True)\n",
    "data_file = os.path.join('..', 'data', 'house_tiny.csv')\n",
    "with open(data_file, 'w') as f:\n",
    "    f.write('NumRooms,Alley,Price\\n') # 列名\n",
    "    f.write('NA,Pave,127500\\n') # 每行表示一个数据样本\n",
    "    f.write('2,NA,106000\\n')\n",
    "    f.write('4,NA,178100\\n')\n",
    "    f.write('NA,NA,140000\\n')"
   ]
  },
  {
   "cell_type": "markdown",
   "id": "1bc6b0f4",
   "metadata": {},
   "source": [
    "## 通过pandas加载数据集"
   ]
  },
  {
   "cell_type": "code",
   "execution_count": 26,
   "id": "88d349c0",
   "metadata": {
    "ExecuteTime": {
     "end_time": "2023-09-14T08:26:10.198723600Z",
     "start_time": "2023-09-14T08:26:09.419193Z"
    }
   },
   "outputs": [
    {
     "name": "stdout",
     "output_type": "stream",
     "text": [
      "   NumRooms Alley   Price\n",
      "0       NaN  Pave  127500\n",
      "1       2.0   NaN  106000\n",
      "2       4.0   NaN  178100\n",
      "3       NaN   NaN  140000\n"
     ]
    }
   ],
   "source": [
    "# 如果没有装pandas，在jupyter中可以通过下行命令进行安装\n",
    "# !pip install pandas\n",
    "\n",
    "import pandas as pd\n",
    "\n",
    "data = pd.read_csv(data_file)\n",
    "print(data)"
   ]
  },
  {
   "cell_type": "markdown",
   "id": "c26f70c5-8cbc-48ff-bd87-309cf813de42",
   "metadata": {},
   "source": [
    "## 处理缺失数据\n",
    "\n",
    "为了处理缺失数据，我们通常的做法是*插值*或*删除*。这里考虑采用*插值*。"
   ]
  },
  {
   "cell_type": "code",
   "execution_count": 27,
   "id": "292e471a-16cf-43bc-ba16-38517876fdd4",
   "metadata": {
    "ExecuteTime": {
     "end_time": "2023-09-14T08:26:10.200717300Z",
     "start_time": "2023-09-14T08:26:10.171795700Z"
    }
   },
   "outputs": [
    {
     "data": {
      "text/plain": "   NumRooms Alley\n0       3.0  Pave\n1       2.0   NaN\n2       4.0   NaN\n3       3.0   NaN",
      "text/html": "<div>\n<style scoped>\n    .dataframe tbody tr th:only-of-type {\n        vertical-align: middle;\n    }\n\n    .dataframe tbody tr th {\n        vertical-align: top;\n    }\n\n    .dataframe thead th {\n        text-align: right;\n    }\n</style>\n<table border=\"1\" class=\"dataframe\">\n  <thead>\n    <tr style=\"text-align: right;\">\n      <th></th>\n      <th>NumRooms</th>\n      <th>Alley</th>\n    </tr>\n  </thead>\n  <tbody>\n    <tr>\n      <th>0</th>\n      <td>3.0</td>\n      <td>Pave</td>\n    </tr>\n    <tr>\n      <th>1</th>\n      <td>2.0</td>\n      <td>NaN</td>\n    </tr>\n    <tr>\n      <th>2</th>\n      <td>4.0</td>\n      <td>NaN</td>\n    </tr>\n    <tr>\n      <th>3</th>\n      <td>3.0</td>\n      <td>NaN</td>\n    </tr>\n  </tbody>\n</table>\n</div>"
     },
     "execution_count": 27,
     "metadata": {},
     "output_type": "execute_result"
    }
   ],
   "source": [
    "inputs, outputs = data.iloc[:, 0:2], data.iloc[:, 2]\n",
    "inputs['NumRooms'] = inputs['NumRooms'].fillna(inputs['NumRooms'].mean())\n",
    "inputs"
   ]
  },
  {
   "cell_type": "code",
   "execution_count": 28,
   "id": "210cbc05-607c-4207-b2c5-b8b362b35d72",
   "metadata": {
    "ExecuteTime": {
     "end_time": "2023-09-14T08:26:10.274168600Z",
     "start_time": "2023-09-14T08:26:10.198723600Z"
    }
   },
   "outputs": [
    {
     "data": {
      "text/plain": "   NumRooms  Alley_Pave  Alley_nan\n0       3.0        True      False\n1       2.0       False       True\n2       4.0       False       True\n3       3.0       False       True",
      "text/html": "<div>\n<style scoped>\n    .dataframe tbody tr th:only-of-type {\n        vertical-align: middle;\n    }\n\n    .dataframe tbody tr th {\n        vertical-align: top;\n    }\n\n    .dataframe thead th {\n        text-align: right;\n    }\n</style>\n<table border=\"1\" class=\"dataframe\">\n  <thead>\n    <tr style=\"text-align: right;\">\n      <th></th>\n      <th>NumRooms</th>\n      <th>Alley_Pave</th>\n      <th>Alley_nan</th>\n    </tr>\n  </thead>\n  <tbody>\n    <tr>\n      <th>0</th>\n      <td>3.0</td>\n      <td>True</td>\n      <td>False</td>\n    </tr>\n    <tr>\n      <th>1</th>\n      <td>2.0</td>\n      <td>False</td>\n      <td>True</td>\n    </tr>\n    <tr>\n      <th>2</th>\n      <td>4.0</td>\n      <td>False</td>\n      <td>True</td>\n    </tr>\n    <tr>\n      <th>3</th>\n      <td>3.0</td>\n      <td>False</td>\n      <td>True</td>\n    </tr>\n  </tbody>\n</table>\n</div>"
     },
     "execution_count": 28,
     "metadata": {},
     "output_type": "execute_result"
    }
   ],
   "source": [
    "inputs = pd.get_dummies(inputs, dummy_na=True)\n",
    "inputs"
   ]
  },
  {
   "cell_type": "code",
   "execution_count": 29,
   "id": "dc494dd0-0322-4989-9386-d2b8d77cbfba",
   "metadata": {
    "ExecuteTime": {
     "end_time": "2023-09-14T08:26:10.350964200Z",
     "start_time": "2023-09-14T08:26:10.231634400Z"
    }
   },
   "outputs": [
    {
     "data": {
      "text/plain": "(tensor([[3., 1., 0.],\n         [2., 0., 1.],\n         [4., 0., 1.],\n         [3., 0., 1.]], dtype=torch.float64),\n tensor([127500, 106000, 178100, 140000]))"
     },
     "execution_count": 29,
     "metadata": {},
     "output_type": "execute_result"
    }
   ],
   "source": [
    "import  torch\n",
    "\n",
    "x, y = torch.tensor(inputs.values.astype(\"float64\")), torch.tensor(outputs.values)\n",
    "x, y"
   ]
  }
 ],
 "metadata": {
  "kernelspec": {
   "display_name": "Python 3 (ipykernel)",
   "language": "python",
   "name": "python3"
  },
  "language_info": {
   "codemirror_mode": {
    "name": "ipython",
    "version": 3
   },
   "file_extension": ".py",
   "mimetype": "text/x-python",
   "name": "python",
   "nbconvert_exporter": "python",
   "pygments_lexer": "ipython3",
   "version": "3.8.18"
  }
 },
 "nbformat": 4,
 "nbformat_minor": 5
}
