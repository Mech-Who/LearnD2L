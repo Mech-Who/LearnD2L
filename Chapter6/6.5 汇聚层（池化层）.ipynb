{
 "cells": [
  {
   "cell_type": "markdown",
   "source": [
    "## 最大汇聚层和平均汇聚层"
   ],
   "metadata": {
    "collapsed": false
   },
   "id": "cf9320994a81de27"
  },
  {
   "cell_type": "code",
   "execution_count": 1,
   "outputs": [],
   "source": [
    "import torch\n",
    "from torch import nn\n",
    "from d2l import torch as d2l\n",
    "\n",
    "def pool2d(X, pool_size, mode='max'):\n",
    "    p_h, p_w = pool_size\n",
    "    Y = torch.zeros((X.shape[0] - p_h + 1, X.shape[1] - p_w + 1))\n",
    "    for i in range(Y.shape[0]):\n",
    "        for j in range(Y.shape[1]):\n",
    "            if mode == 'max':\n",
    "                Y[i, j] = X[i: i + p_h, j: j + p_w].max()\n",
    "            elif mode == 'avg':\n",
    "                Y[i, j] = X[i: i + p_h, j: j + p_w].mean()\n",
    "    return Y"
   ],
   "metadata": {
    "collapsed": false,
    "ExecuteTime": {
     "end_time": "2023-10-08T09:11:24.489783800Z",
     "start_time": "2023-10-08T09:11:20.210679400Z"
    }
   },
   "id": "2ac699c745d6d346"
  },
  {
   "cell_type": "code",
   "execution_count": 2,
   "outputs": [
    {
     "data": {
      "text/plain": "tensor([[4., 5.],\n        [7., 8.]])"
     },
     "execution_count": 2,
     "metadata": {},
     "output_type": "execute_result"
    }
   ],
   "source": [
    "X = torch.tensor([[0.0, 1.0, 2.0],\n",
    "                  [3.0, 4.0, 5.0],\n",
    "                  [6.0, 7.0, 8.0]])\n",
    "pool2d(X, (2, 2))"
   ],
   "metadata": {
    "collapsed": false,
    "ExecuteTime": {
     "end_time": "2023-10-08T09:11:24.563609100Z",
     "start_time": "2023-10-08T09:11:24.493772300Z"
    }
   },
   "id": "2fca450206c2cc3f"
  },
  {
   "cell_type": "code",
   "execution_count": 3,
   "outputs": [
    {
     "data": {
      "text/plain": "tensor([[2., 3.],\n        [5., 6.]])"
     },
     "execution_count": 3,
     "metadata": {},
     "output_type": "execute_result"
    }
   ],
   "source": [
    "pool2d(X, (2, 2), 'avg')"
   ],
   "metadata": {
    "collapsed": false,
    "ExecuteTime": {
     "end_time": "2023-10-08T09:11:24.575578300Z",
     "start_time": "2023-10-08T09:11:24.523733700Z"
    }
   },
   "id": "fd04bd925066bebc"
  },
  {
   "cell_type": "markdown",
   "source": [
    "## 填充和步幅"
   ],
   "metadata": {
    "collapsed": false
   },
   "id": "ea7c300f80a88ae4"
  },
  {
   "cell_type": "code",
   "execution_count": 4,
   "outputs": [
    {
     "data": {
      "text/plain": "tensor([[[[ 0.,  1.,  2.,  3.],\n          [ 4.,  5.,  6.,  7.],\n          [ 8.,  9., 10., 11.],\n          [12., 13., 14., 15.]]]])"
     },
     "execution_count": 4,
     "metadata": {},
     "output_type": "execute_result"
    }
   ],
   "source": [
    "X = torch.arange(16, dtype=torch.float32).reshape((1, 1, 4, 4))\n",
    "X"
   ],
   "metadata": {
    "collapsed": false,
    "ExecuteTime": {
     "end_time": "2023-10-08T09:11:38.766980700Z",
     "start_time": "2023-10-08T09:11:38.716605300Z"
    }
   },
   "id": "caa172b631ef0fb3"
  },
  {
   "cell_type": "code",
   "execution_count": 6,
   "outputs": [
    {
     "data": {
      "text/plain": "tensor([[[[10.]]]])"
     },
     "execution_count": 6,
     "metadata": {},
     "output_type": "execute_result"
    }
   ],
   "source": [
    "pool2d = nn.MaxPool2d(3)\n",
    "pool2d(X)"
   ],
   "metadata": {
    "collapsed": false,
    "ExecuteTime": {
     "end_time": "2023-10-08T09:11:45.162536200Z",
     "start_time": "2023-10-08T09:11:45.140595700Z"
    }
   },
   "id": "17d34de798a4c993"
  },
  {
   "cell_type": "code",
   "execution_count": 7,
   "outputs": [
    {
     "data": {
      "text/plain": "tensor([[[[ 5.,  7.],\n          [13., 15.]]]])"
     },
     "execution_count": 7,
     "metadata": {},
     "output_type": "execute_result"
    }
   ],
   "source": [
    "pool2d = nn.MaxPool2d(3, padding=1, stride=2)\n",
    "pool2d(X)"
   ],
   "metadata": {
    "collapsed": false,
    "ExecuteTime": {
     "end_time": "2023-10-08T09:11:53.341401Z",
     "start_time": "2023-10-08T09:11:53.312369200Z"
    }
   },
   "id": "3c9e07991630342"
  },
  {
   "cell_type": "code",
   "execution_count": 8,
   "outputs": [
    {
     "data": {
      "text/plain": "tensor([[[[ 5.,  7.],\n          [13., 15.]]]])"
     },
     "execution_count": 8,
     "metadata": {},
     "output_type": "execute_result"
    }
   ],
   "source": [
    "pool2d = nn.MaxPool2d((2, 3), stride=(2, 3), padding=(0, 1))\n",
    "pool2d(X)"
   ],
   "metadata": {
    "collapsed": false,
    "ExecuteTime": {
     "end_time": "2023-10-08T09:12:08.926841800Z",
     "start_time": "2023-10-08T09:12:08.870064900Z"
    }
   },
   "id": "c249beb6f6c7a961"
  },
  {
   "cell_type": "markdown",
   "source": [
    "## 多个通道"
   ],
   "metadata": {
    "collapsed": false
   },
   "id": "5caca1a80cc5ab68"
  },
  {
   "cell_type": "code",
   "execution_count": 9,
   "outputs": [
    {
     "data": {
      "text/plain": "tensor([[[[ 0.,  1.,  2.,  3.],\n          [ 4.,  5.,  6.,  7.],\n          [ 8.,  9., 10., 11.],\n          [12., 13., 14., 15.]],\n\n         [[ 1.,  2.,  3.,  4.],\n          [ 5.,  6.,  7.,  8.],\n          [ 9., 10., 11., 12.],\n          [13., 14., 15., 16.]]]])"
     },
     "execution_count": 9,
     "metadata": {},
     "output_type": "execute_result"
    }
   ],
   "source": [
    "X = torch.cat((X, X + 1), 1)\n",
    "X"
   ],
   "metadata": {
    "collapsed": false,
    "ExecuteTime": {
     "end_time": "2023-10-08T09:12:25.155362500Z",
     "start_time": "2023-10-08T09:12:24.617565100Z"
    }
   },
   "id": "33026ecd5a056829"
  },
  {
   "cell_type": "code",
   "execution_count": 10,
   "outputs": [
    {
     "data": {
      "text/plain": "tensor([[[[ 5.,  7.],\n          [13., 15.]],\n\n         [[ 6.,  8.],\n          [14., 16.]]]])"
     },
     "execution_count": 10,
     "metadata": {},
     "output_type": "execute_result"
    }
   ],
   "source": [
    "pool2d = nn.MaxPool2d(3, padding=1, stride=2)\n",
    "pool2d(X)"
   ],
   "metadata": {
    "collapsed": false,
    "ExecuteTime": {
     "end_time": "2023-10-08T09:12:29.457990400Z",
     "start_time": "2023-10-08T09:12:29.291855800Z"
    }
   },
   "id": "d784d2f4aa6d0acb"
  },
  {
   "cell_type": "markdown",
   "source": [
    "## 小结\n",
    "\n",
    "- 对于给定输入元素，最大汇聚层会输出该窗口内的最大值，平均汇聚层会输出该窗口内的平均值。\n",
    "- 汇聚层的主要优点之一是减轻卷积层对位置的过度敏感。\n",
    "- 我们可以指定汇聚层的填充和步幅。\n",
    "- 使用最大汇聚层以及大于1的步幅，可减少空间维度（如高度和宽度）。\n",
    "- 汇聚层的输出通道数与输入通道数相同。"
   ],
   "metadata": {
    "collapsed": false
   },
   "id": "f6ab7c45f66d635a"
  },
  {
   "cell_type": "markdown",
   "source": [
    "## 练习\n",
    "\n",
    "1. 尝试将平均汇聚层作为卷积层的特殊情况实现。\n",
    "2. 尝试将最大汇聚层作为卷积层的特殊情况实现。\n",
    "3. 假设汇聚层的输入大小为$c \\times h \\times w$，则汇聚窗口的形状为$p_h \\times p_w$，填充为$(p_h, p_w)$，步幅为$(s_h, s_w)$。这个汇聚层的计算成本是多少？\n",
    "4. 为什么最大汇聚层和平均汇聚层的工作方式不同？\n",
    "5. 我们是否需要最小汇聚层？可以用已知函数替换它吗？\n",
    "6. 除了平均汇聚层和最大汇聚层，是否有其它函数可以考虑（提示：回想一下softmax）？为什么它不流行？"
   ],
   "metadata": {
    "collapsed": false
   },
   "id": "6e691a075e079247"
  }
 ],
 "metadata": {
  "kernelspec": {
   "display_name": "Python 3",
   "language": "python",
   "name": "python3"
  },
  "language_info": {
   "codemirror_mode": {
    "name": "ipython",
    "version": 2
   },
   "file_extension": ".py",
   "mimetype": "text/x-python",
   "name": "python",
   "nbconvert_exporter": "python",
   "pygments_lexer": "ipython2",
   "version": "2.7.6"
  }
 },
 "nbformat": 4,
 "nbformat_minor": 5
}
