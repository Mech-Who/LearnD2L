{
 "cells": [
  {
   "cell_type": "markdown",
   "source": [
    "## 多输入通道"
   ],
   "metadata": {
    "collapsed": false
   },
   "id": "153fddf165d18608"
  },
  {
   "cell_type": "code",
   "execution_count": 1,
   "outputs": [],
   "source": [
    "import torch\n",
    "from d2l import torch as d2l\n",
    "\n",
    "def corr2d_multi_in(X, K):\n",
    "    # 先遍历“X”和“K”的第0个维度（通道维度），再把它们加在一起\n",
    "    return sum(d2l.corr2d(x, k) for x, k in zip(X, K))"
   ],
   "metadata": {
    "collapsed": false,
    "ExecuteTime": {
     "end_time": "2023-10-08T08:53:44.072014700Z",
     "start_time": "2023-10-08T08:53:39.723946200Z"
    }
   },
   "id": "f39d045162a35f9"
  },
  {
   "cell_type": "code",
   "execution_count": 22,
   "outputs": [
    {
     "name": "stdout",
     "output_type": "stream",
     "text": [
      "X.shape=torch.Size([2, 3, 3])\n",
      "K.shape=torch.Size([2, 2, 2])\n"
     ]
    },
    {
     "data": {
      "text/plain": "tensor([[ 56.,  72.],\n        [104., 120.]])"
     },
     "execution_count": 22,
     "metadata": {},
     "output_type": "execute_result"
    }
   ],
   "source": [
    "X = torch.tensor([[[0.0, 1.0, 2.0], [3.0, 4.0, 5.0], [6.0, 7.0, 8.0]],\n",
    "                  [[1.0, 2.0, 3.0], [4.0, 5.0, 6.0], [7.0, 8.0, 9.0]]])\n",
    "K = torch.tensor([[[0.0, 1.0], [2.0, 3.0]], [[1.0, 2.0], [3.0, 4.0]]])\n",
    "\n",
    "print(f'X.shape={X.shape}\\nK.shape={K.shape}')\n",
    "corr2d_multi_in(X, K)"
   ],
   "metadata": {
    "collapsed": false,
    "ExecuteTime": {
     "end_time": "2023-10-08T09:01:01.729195900Z",
     "start_time": "2023-10-08T09:01:01.694290800Z"
    }
   },
   "id": "b45a8cb87c4e50e3"
  },
  {
   "cell_type": "markdown",
   "source": [
    "## 多输出通道"
   ],
   "metadata": {
    "collapsed": false
   },
   "id": "94c23c04cb2b63b0"
  },
  {
   "cell_type": "code",
   "execution_count": 26,
   "outputs": [],
   "source": [
    "def corr2d_multi_in_out(X, K):\n",
    "    # 迭代“K”的第0个维度，每次都对输入“X”执行互相关运算。\n",
    "    # 最后将所有结果都叠加在一起\n",
    "    return torch.stack([corr2d_multi_in(X, k) for k in K], 0)"
   ],
   "metadata": {
    "collapsed": false,
    "ExecuteTime": {
     "end_time": "2023-10-08T09:01:33.569645400Z",
     "start_time": "2023-10-08T09:01:33.540092400Z"
    }
   },
   "id": "72aaf4b83ec13145"
  },
  {
   "cell_type": "code",
   "execution_count": 24,
   "outputs": [
    {
     "data": {
      "text/plain": "torch.Size([3, 2, 2, 2])"
     },
     "execution_count": 24,
     "metadata": {},
     "output_type": "execute_result"
    }
   ],
   "source": [
    "K = torch.stack((K, K + 1, K + 2), 0)\n",
    "K.shape"
   ],
   "metadata": {
    "collapsed": false,
    "ExecuteTime": {
     "end_time": "2023-10-08T09:01:10.760433500Z",
     "start_time": "2023-10-08T09:01:10.748466300Z"
    }
   },
   "id": "38bf1e99134bb459"
  },
  {
   "cell_type": "code",
   "execution_count": 27,
   "outputs": [
    {
     "data": {
      "text/plain": "tensor([[[ 56.,  72.],\n         [104., 120.]],\n\n        [[ 76., 100.],\n         [148., 172.]],\n\n        [[ 96., 128.],\n         [192., 224.]]])"
     },
     "execution_count": 27,
     "metadata": {},
     "output_type": "execute_result"
    }
   ],
   "source": [
    "corr2d_multi_in_out(X, K)"
   ],
   "metadata": {
    "collapsed": false,
    "ExecuteTime": {
     "end_time": "2023-10-08T09:01:36.906984100Z",
     "start_time": "2023-10-08T09:01:36.860110400Z"
    }
   },
   "id": "d38a572f4be2f72e"
  },
  {
   "cell_type": "markdown",
   "source": [
    "## $1 \\times 1$卷积层"
   ],
   "metadata": {
    "collapsed": false
   },
   "id": "5bbc671df3187bd0"
  },
  {
   "cell_type": "code",
   "execution_count": 28,
   "outputs": [],
   "source": [
    "def corr2d_multi_in_out_1x1(X, K):\n",
    "    c_i, h, w = X.shape\n",
    "    c_o = K.shape[0]\n",
    "    X = X.reshape((c_i, h * w))\n",
    "    K = K.reshape((c_o, c_i))\n",
    "    # 全连接层中的矩阵乘法\n",
    "    Y = torch.matmul(K, X)\n",
    "    return Y.reshape((c_o, h, w))"
   ],
   "metadata": {
    "collapsed": false,
    "ExecuteTime": {
     "end_time": "2023-10-08T09:03:38.792339200Z",
     "start_time": "2023-10-08T09:03:38.750566300Z"
    }
   },
   "id": "c243286c43f9a0a8"
  },
  {
   "cell_type": "code",
   "execution_count": 29,
   "outputs": [],
   "source": [
    "X = torch.normal(0, 1, (3, 3, 3))\n",
    "K = torch.normal(0, 1, (2, 3, 1, 1))\n",
    "\n",
    "Y1 = corr2d_multi_in_out_1x1(X, K)\n",
    "Y2 = corr2d_multi_in_out(X, K)\n",
    "assert float(torch.abs(Y1 - Y2).sum()) < 1e-6"
   ],
   "metadata": {
    "collapsed": false,
    "ExecuteTime": {
     "end_time": "2023-10-08T09:05:49.495704300Z",
     "start_time": "2023-10-08T09:05:48.827530200Z"
    }
   },
   "id": "e9892bd447c186a7"
  },
  {
   "cell_type": "markdown",
   "source": [
    "## 小结\n",
    "\n",
    "- 多输入多输出通道可以用来扩展卷积层的模型。\n",
    "- 当以每像素为基础应用时，1x1卷积层相当于全连接层。\n",
    "- 1x1卷积层通常用于调整网络层的通道数量和控制模型复杂性。"
   ],
   "metadata": {
    "collapsed": false
   },
   "id": "c3ea879f26a734fa"
  },
  {
   "cell_type": "markdown",
   "source": [
    "## 练习\n",
    "\n",
    "1. 假设我们有两个卷积核，大小分别为$K_1$和$k_2$（中间没有非线性激活函数）。\n",
    "    1. 证明运算可以用单次卷积来表示。\n",
    "    2. 这个等效的单个卷积核的维数是多少呢？\n",
    "    3. 反之亦然吗？\n",
    "\n",
    "2. 假设输入为$c_i \\times h \\times w$，卷积核大小为$c_o \\times c_i \\times k_h \\times k_w$，填充为$(p_h, p_w)$，步幅为$s_h, s_w$。\n",
    "    1. 前向传播的计算成本（乘法和加法）是多少？\n",
    "    2. 内存占用是多少？\n",
    "    3. 反向传播的内存占用是多少？\n",
    "    4. 反向传播的计算成本是多少？\n",
    "3. 如果我们将输入通道$c_i$和输出通道$c_o$的数量加倍，计算数量会增加多少？如果我们把填充数量翻一番会怎么样？\n",
    "4. 如果卷积核的高度和宽度是$k_h = k_w = 1$，前向传播的计算复杂度是多少？\n",
    "5. 本节最后一个示例中的变量Y1和Y2是否完全相同？为什么？\n",
    "6. 当卷积窗口不是$1 \\times 1$时，如何使用矩阵乘法实现卷积？"
   ],
   "metadata": {
    "collapsed": false
   },
   "id": "c4a7afed543a52f8"
  }
 ],
 "metadata": {
  "kernelspec": {
   "display_name": "Python 3",
   "language": "python",
   "name": "python3"
  },
  "language_info": {
   "codemirror_mode": {
    "name": "ipython",
    "version": 2
   },
   "file_extension": ".py",
   "mimetype": "text/x-python",
   "name": "python",
   "nbconvert_exporter": "python",
   "pygments_lexer": "ipython2",
   "version": "2.7.6"
  }
 },
 "nbformat": 4,
 "nbformat_minor": 5
}
