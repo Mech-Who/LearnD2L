{
 "cells": [
  {
   "cell_type": "markdown",
   "source": [
    "## 不带参数的层"
   ],
   "metadata": {
    "collapsed": false
   },
   "id": "eaa43daf1b7a43ba"
  },
  {
   "cell_type": "code",
   "execution_count": 1,
   "outputs": [],
   "source": [
    "import torch\n",
    "import torch.nn.functional as F\n",
    "from torch import nn\n",
    "\n",
    "\n",
    "class CenteredLayer(nn.Module):\n",
    "    def __init__(self):\n",
    "        super().__init__()\n",
    "\n",
    "    def forward(self, X):\n",
    "        return X - X.mean()"
   ],
   "metadata": {
    "collapsed": false,
    "ExecuteTime": {
     "end_time": "2023-10-07T11:53:25.882387400Z",
     "start_time": "2023-10-07T11:53:23.906830500Z"
    }
   },
   "id": "68aed02b9b07e9ed"
  },
  {
   "cell_type": "code",
   "execution_count": 2,
   "outputs": [
    {
     "data": {
      "text/plain": "tensor([-2., -1.,  0.,  1.,  2.])"
     },
     "execution_count": 2,
     "metadata": {},
     "output_type": "execute_result"
    }
   ],
   "source": [
    "layer = CenteredLayer()\n",
    "layer(torch.FloatTensor([1, 2, 3, 4, 5]))"
   ],
   "metadata": {
    "collapsed": false,
    "ExecuteTime": {
     "end_time": "2023-10-07T11:53:26.419130300Z",
     "start_time": "2023-10-07T11:53:26.361578Z"
    }
   },
   "id": "19a9843654f2e365"
  },
  {
   "cell_type": "code",
   "execution_count": 3,
   "outputs": [],
   "source": [
    "net = nn.Sequential(nn.Linear(8, 128), CenteredLayer())"
   ],
   "metadata": {
    "collapsed": false,
    "ExecuteTime": {
     "end_time": "2023-10-07T11:53:31.302806Z",
     "start_time": "2023-10-07T11:53:31.287845Z"
    }
   },
   "id": "ca2f792fa53c631"
  },
  {
   "cell_type": "code",
   "execution_count": 4,
   "outputs": [
    {
     "data": {
      "text/plain": "tensor(9.3132e-10, grad_fn=<MeanBackward0>)"
     },
     "execution_count": 4,
     "metadata": {},
     "output_type": "execute_result"
    }
   ],
   "source": [
    "Y = net(torch.rand(4, 8))\n",
    "Y.mean()"
   ],
   "metadata": {
    "collapsed": false,
    "ExecuteTime": {
     "end_time": "2023-10-07T11:53:37.723498400Z",
     "start_time": "2023-10-07T11:53:37.705754500Z"
    }
   },
   "id": "8018278bd4e13c1c"
  },
  {
   "cell_type": "markdown",
   "source": [
    "## 带参数的层"
   ],
   "metadata": {
    "collapsed": false
   },
   "id": "8eed05141c98a5b3"
  },
  {
   "cell_type": "code",
   "execution_count": 5,
   "outputs": [],
   "source": [
    "class MyLinear(nn.Module):\n",
    "    def __init__(self, in_units, units):\n",
    "        super().__init__()\n",
    "        self.weight = nn.Parameter(torch.randn(in_units, units))\n",
    "        self.bias = nn.Parameter(torch.randn(units,))\n",
    "    def forward(self, X):\n",
    "        linear = torch.matmul(X, self.weight.data) + self.bias.data\n",
    "        return F.relu(linear)"
   ],
   "metadata": {
    "collapsed": false,
    "ExecuteTime": {
     "end_time": "2023-10-07T11:53:53.598107200Z",
     "start_time": "2023-10-07T11:53:53.584150900Z"
    }
   },
   "id": "733ad5bfcebe2850"
  },
  {
   "cell_type": "code",
   "execution_count": 6,
   "outputs": [
    {
     "data": {
      "text/plain": "Parameter containing:\ntensor([[-0.5715, -0.6299,  0.2706],\n        [ 0.5359, -0.4698,  0.6027],\n        [ 0.0074, -0.2932,  0.3228],\n        [ 0.1765,  0.4577, -0.1378],\n        [-1.9167, -1.3116, -0.1676]], requires_grad=True)"
     },
     "execution_count": 6,
     "metadata": {},
     "output_type": "execute_result"
    }
   ],
   "source": [
    "linear = MyLinear(5, 3)\n",
    "linear.weight"
   ],
   "metadata": {
    "collapsed": false,
    "ExecuteTime": {
     "end_time": "2023-10-07T11:53:57.392909600Z",
     "start_time": "2023-10-07T11:53:57.345376100Z"
    }
   },
   "id": "65ec31400df9b683"
  },
  {
   "cell_type": "code",
   "execution_count": 7,
   "outputs": [
    {
     "data": {
      "text/plain": "tensor([[0.0000, 0.8092, 1.0319],\n        [0.0000, 0.0000, 1.1594]])"
     },
     "execution_count": 7,
     "metadata": {},
     "output_type": "execute_result"
    }
   ],
   "source": [
    "linear(torch.rand(2, 5))"
   ],
   "metadata": {
    "collapsed": false,
    "ExecuteTime": {
     "end_time": "2023-10-07T11:54:00.480910100Z",
     "start_time": "2023-10-07T11:54:00.464955500Z"
    }
   },
   "id": "26c3a901d38c9d2a"
  },
  {
   "cell_type": "code",
   "execution_count": 8,
   "outputs": [
    {
     "data": {
      "text/plain": "tensor([[0.],\n        [0.]])"
     },
     "execution_count": 8,
     "metadata": {},
     "output_type": "execute_result"
    }
   ],
   "source": [
    "net = nn.Sequential(MyLinear(64, 8), MyLinear(8, 1))\n",
    "net(torch.rand(2, 64))"
   ],
   "metadata": {
    "collapsed": false,
    "ExecuteTime": {
     "end_time": "2023-10-07T11:54:04.088693100Z",
     "start_time": "2023-10-07T11:54:04.073625700Z"
    }
   },
   "id": "278b9c35dcd9bae3"
  },
  {
   "cell_type": "markdown",
   "source": [
    "## 小结\n",
    "\n",
    "- 我们可以通过基本层类设计自定义层。这允许我们定义灵活的新层，其行为与深度学习框架中的任何现有层不同。\n",
    "- 在自定义层定义完成后，我们就可以在任意环境和网络架构中调用该自定义层。\n",
    "- 层可以有局部参数，这些参数可以通过内置函数创建。"
   ],
   "metadata": {
    "collapsed": false
   },
   "id": "20ce07d7ba22b00f"
  },
  {
   "cell_type": "markdown",
   "source": [
    "## 练习\n",
    "\n",
    "1. 设计一个接受输入并计算张量降维的层，它返回$y_k=\\sum_{i,j} W_{ijk}x_ix_j$。\n",
    "2. 设计一个返回输入数据的傅立叶系数前半部分的层。"
   ],
   "metadata": {
    "collapsed": false
   },
   "id": "bdd32e9eb77a62cf"
  },
  {
   "cell_type": "code",
   "execution_count": null,
   "outputs": [],
   "source": [],
   "metadata": {
    "collapsed": false
   },
   "id": "4432ef292d8d7e40"
  }
 ],
 "metadata": {
  "kernelspec": {
   "display_name": "Python 3",
   "language": "python",
   "name": "python3"
  },
  "language_info": {
   "codemirror_mode": {
    "name": "ipython",
    "version": 2
   },
   "file_extension": ".py",
   "mimetype": "text/x-python",
   "name": "python",
   "nbconvert_exporter": "python",
   "pygments_lexer": "ipython2",
   "version": "2.7.6"
  }
 },
 "nbformat": 4,
 "nbformat_minor": 5
}
